{
 "cells": [
  {
   "cell_type": "code",
   "execution_count": 1,
   "metadata": {},
   "outputs": [],
   "source": [
    "import json"
   ]
  },
  {
   "cell_type": "code",
   "execution_count": 2,
   "metadata": {},
   "outputs": [],
   "source": [
    "a = json.loads('{\"uniqCode\":\"ZSB212000\",\"pmId\":\"U9H2F75F0000\",\"contracts\":[{\"uniqCode\":\"ZPB212000\",\"pmId\":\"X9H2F75F0002\",\"coverageBundles\":[{\"uniqCode\":\"COVERAGEBUNDLE\",\"coverages\":[{\"uniqCode\":\"ZD9999000\",\"cvrgCd\":\"ZD9999060\",\"begDt\":\"20190801\",\"inprVl\":15,\"inprTpCd\":\"1\",\"benefits\":[{\"uniqCode\":\"B_E_01_T\",\"absAm\":0}],\"premiums\":[{\"uniqCode\":\"PREM_E_REC_01_T\",\"prmBegDt\":\"20190801\",\"cltrPrmVl\":15,\"prdTpSCd\":\"1\"}]}]}],\"insureds\":[{\"uniqCode\":\"IO_INSP_03_T\",\"pmId\":\"A5D0F75F0000\",\"coverageBundles\":[{\"uniqCode\":\"COVERAGEBUNDLE\",\"coverages\":[{\"uniqCode\":\"ZR7116000\",\"cvrgCd\":\"ZR7116010\",\"begDt\":\"20190801\",\"inprVl\":15,\"inprTpCd\":\"1\",\"benefits\":[{\"uniqCode\":\"B_E_01_T\",\"absAm\":10000}],\"premiums\":[{\"uniqCode\":\"PREM_E_REC_01_T\",\"prmBegDt\":\"20190801\",\"cltrPrmVl\":15,\"prdTpSCd\":\"1\"}]},{\"uniqCode\":\"ZR7117000\",\"cvrgCd\":\"ZR7117010\",\"begDt\":\"20190801\",\"inprVl\":15,\"inprTpCd\":\"1\",\"benefits\":[{\"uniqCode\":\"B_E_01_T\",\"absAm\":10000}],\"premiums\":[{\"uniqCode\":\"PREM_E_REC_01_T\",\"prmBegDt\":\"20190801\",\"cltrPrmVl\":15,\"prdTpSCd\":\"1\"}]},{\"uniqCode\":\"ZR7149000\",\"cvrgCd\":\"ZR7149010\",\"begDt\":\"20190801\",\"inprVl\":15,\"inprTpCd\":\"1\",\"benefits\":[{\"uniqCode\":\"B_E_01_T\",\"absAm\":30000}],\"premiums\":[{\"uniqCode\":\"PREM_E_REC_01_T\",\"prmBegDt\":\"20190801\",\"cltrPrmVl\":15,\"prdTpSCd\":\"1\"}]},{\"uniqCode\":\"ZR7154000\",\"cvrgCd\":\"ZR7154010\",\"begDt\":\"20190801\",\"inprVl\":15,\"inprTpCd\":\"1\",\"benefits\":[{\"uniqCode\":\"B_E_01_T\",\"absAm\":20000}],\"premiums\":[{\"uniqCode\":\"PREM_E_REC_01_T\",\"prmBegDt\":\"20190801\",\"cltrPrmVl\":15,\"prdTpSCd\":\"1\"}]},{\"uniqCode\":\"ZR7304000\",\"cvrgCd\":\"ZR7304010\",\"begDt\":\"20190801\",\"inprVl\":15,\"inprTpCd\":\"1\",\"benefits\":[{\"uniqCode\":\"B_E_01_T\",\"absAm\":300000}],\"premiums\":[{\"uniqCode\":\"PREM_E_REC_01_T\",\"prmBegDt\":\"20190801\",\"cltrPrmVl\":15,\"prdTpSCd\":\"1\"}]},{\"uniqCode\":\"ZR7120000\",\"cvrgCd\":\"ZR7120010\",\"begDt\":\"20190801\",\"inprVl\":15,\"inprTpCd\":\"1\",\"benefits\":[{\"uniqCode\":\"B_E_01_T\",\"absAm\":1000000}],\"premiums\":[{\"uniqCode\":\"PREM_E_REC_01_T\",\"prmBegDt\":\"20190801\",\"cltrPrmVl\":15,\"prdTpSCd\":\"1\"}]},{\"uniqCode\":\"ZR7121000\",\"cvrgCd\":\"ZR7121020\",\"begDt\":\"20190801\",\"inprVl\":15,\"inprTpCd\":\"1\",\"benefits\":[{\"uniqCode\":\"B_E_01_T\",\"absAm\":600000}],\"premiums\":[{\"uniqCode\":\"PREM_E_REC_01_T\",\"prmBegDt\":\"20190801\",\"cltrPrmVl\":15,\"prdTpSCd\":\"1\"}]},{\"uniqCode\":\"ZR2432000\",\"cvrgCd\":\"ZR2432010\",\"begDt\":\"20190801\",\"inprVl\":15,\"inprTpCd\":\"1\",\"benefits\":[{\"uniqCode\":\"B_E_01_T\",\"absAm\":100000}],\"premiums\":[{\"uniqCode\":\"PREM_E_REC_01_T\",\"prmBegDt\":\"20190801\",\"cltrPrmVl\":15,\"prdTpSCd\":\"1\"}]},{\"uniqCode\":\"ZR4226000\",\"cvrgCd\":\"ZR4226010\",\"begDt\":\"20190801\",\"inprVl\":15,\"inprTpCd\":\"1\",\"benefits\":[{\"uniqCode\":\"B_E_01_T\",\"absAm\":300000}],\"premiums\":[{\"uniqCode\":\"PREM_E_REC_01_T\",\"prmBegDt\":\"20190801\",\"cltrPrmVl\":15,\"prdTpSCd\":\"1\"}]},{\"uniqCode\":\"ZR7119000\",\"cvrgCd\":\"ZR7119010\",\"begDt\":\"20190801\",\"inprVl\":15,\"inprTpCd\":\"1\",\"benefits\":[{\"uniqCode\":\"B_E_01_T\",\"absAm\":20000}],\"premiums\":[{\"uniqCode\":\"PREM_E_REC_01_T\",\"prmBegDt\":\"20190801\",\"cltrPrmVl\":15,\"prdTpSCd\":\"1\"}]},{\"uniqCode\":\"ZR4305000\",\"cvrgCd\":\"ZR4305010\",\"begDt\":\"20190801\",\"inprVl\":15,\"inprTpCd\":\"1\",\"benefits\":[{\"uniqCode\":\"B_E_01_T\",\"absAm\":100000}],\"premiums\":[{\"uniqCode\":\"PREM_E_REC_01_T\",\"prmBegDt\":\"20190801\",\"cltrPrmVl\":15,\"prdTpSCd\":\"1\"}]}]}],\"catCd\":\"00005\",\"tpCd\":\"50001\",\"insrdPsnId\":\"ZX00000001\",\"insrdPsnNm\":\"\",\"brthDt\":\"19961129\",\"ageNtry\":\"23\",\"gndrCd\":\"2\",\"jobCd\":\"261519\",\"injryGrdCd\":\"1\",\"drvrTpCd\":\"5\",\"moNsTrFg\":\"N\",\"mnsdRltnCd\":\"01\"}],\"premiums\":[{\"uniqCode\":\"PREM_P_REC_01_T\",\"pmId\":\"QR20000J0000\",\"payFrqCd\":\"12\"}],\"begDt\":\"20190801\",\"fstOfrDt\":\"20190801\",\"lobCd\":\"LL\",\"prodId\":\"ZPB212030\",\"rcmPnNo\":\"0103\",\"mthnTaFg\":\"N\",\"rscCnsnFg\":\"Y\",\"saleTpCd\":\"0155\",\"shpCd\":\"1\",\"dsbldInsCd\":\"00\",\"dsbldInsEDt\":\"\",\"drslExpn\":\"0\"}],\"begDt\":\"20190801\",\"genDetDt\":\"20190801\",\"saleFrmDt\":\"20190801\",\"planNo\":\"1D19080000052479\"}')"
   ]
  },
  {
   "cell_type": "code",
   "execution_count": 5,
   "metadata": {},
   "outputs": [
    {
     "name": "stdout",
     "output_type": "stream",
     "text": [
      "uniqCode\n",
      "pmId\n",
      "contracts\n",
      "begDt\n",
      "genDetDt\n",
      "saleFrmDt\n",
      "planNo\n"
     ]
    }
   ],
   "source": [
    "for b in a : \n",
    "    print(b)"
   ]
  },
  {
   "cell_type": "code",
   "execution_count": 26,
   "metadata": {
    "scrolled": false
   },
   "outputs": [
    {
     "data": {
      "text/plain": [
       "[{'uniqCode': 'ZR7116000',\n",
       "  'cvrgCd': 'ZR7116010',\n",
       "  'begDt': '20190801',\n",
       "  'inprVl': 15,\n",
       "  'inprTpCd': '1',\n",
       "  'benefits': [{'uniqCode': 'B_E_01_T', 'absAm': 10000}],\n",
       "  'premiums': [{'uniqCode': 'PREM_E_REC_01_T',\n",
       "    'prmBegDt': '20190801',\n",
       "    'cltrPrmVl': 15,\n",
       "    'prdTpSCd': '1'}]},\n",
       " {'uniqCode': 'ZR7117000',\n",
       "  'cvrgCd': 'ZR7117010',\n",
       "  'begDt': '20190801',\n",
       "  'inprVl': 15,\n",
       "  'inprTpCd': '1',\n",
       "  'benefits': [{'uniqCode': 'B_E_01_T', 'absAm': 10000}],\n",
       "  'premiums': [{'uniqCode': 'PREM_E_REC_01_T',\n",
       "    'prmBegDt': '20190801',\n",
       "    'cltrPrmVl': 15,\n",
       "    'prdTpSCd': '1'}]},\n",
       " {'uniqCode': 'ZR7149000',\n",
       "  'cvrgCd': 'ZR7149010',\n",
       "  'begDt': '20190801',\n",
       "  'inprVl': 15,\n",
       "  'inprTpCd': '1',\n",
       "  'benefits': [{'uniqCode': 'B_E_01_T', 'absAm': 30000}],\n",
       "  'premiums': [{'uniqCode': 'PREM_E_REC_01_T',\n",
       "    'prmBegDt': '20190801',\n",
       "    'cltrPrmVl': 15,\n",
       "    'prdTpSCd': '1'}]},\n",
       " {'uniqCode': 'ZR7154000',\n",
       "  'cvrgCd': 'ZR7154010',\n",
       "  'begDt': '20190801',\n",
       "  'inprVl': 15,\n",
       "  'inprTpCd': '1',\n",
       "  'benefits': [{'uniqCode': 'B_E_01_T', 'absAm': 20000}],\n",
       "  'premiums': [{'uniqCode': 'PREM_E_REC_01_T',\n",
       "    'prmBegDt': '20190801',\n",
       "    'cltrPrmVl': 15,\n",
       "    'prdTpSCd': '1'}]},\n",
       " {'uniqCode': 'ZR7304000',\n",
       "  'cvrgCd': 'ZR7304010',\n",
       "  'begDt': '20190801',\n",
       "  'inprVl': 15,\n",
       "  'inprTpCd': '1',\n",
       "  'benefits': [{'uniqCode': 'B_E_01_T', 'absAm': 300000}],\n",
       "  'premiums': [{'uniqCode': 'PREM_E_REC_01_T',\n",
       "    'prmBegDt': '20190801',\n",
       "    'cltrPrmVl': 15,\n",
       "    'prdTpSCd': '1'}]},\n",
       " {'uniqCode': 'ZR7120000',\n",
       "  'cvrgCd': 'ZR7120010',\n",
       "  'begDt': '20190801',\n",
       "  'inprVl': 15,\n",
       "  'inprTpCd': '1',\n",
       "  'benefits': [{'uniqCode': 'B_E_01_T', 'absAm': 1000000}],\n",
       "  'premiums': [{'uniqCode': 'PREM_E_REC_01_T',\n",
       "    'prmBegDt': '20190801',\n",
       "    'cltrPrmVl': 15,\n",
       "    'prdTpSCd': '1'}]},\n",
       " {'uniqCode': 'ZR7121000',\n",
       "  'cvrgCd': 'ZR7121020',\n",
       "  'begDt': '20190801',\n",
       "  'inprVl': 15,\n",
       "  'inprTpCd': '1',\n",
       "  'benefits': [{'uniqCode': 'B_E_01_T', 'absAm': 600000}],\n",
       "  'premiums': [{'uniqCode': 'PREM_E_REC_01_T',\n",
       "    'prmBegDt': '20190801',\n",
       "    'cltrPrmVl': 15,\n",
       "    'prdTpSCd': '1'}]},\n",
       " {'uniqCode': 'ZR2432000',\n",
       "  'cvrgCd': 'ZR2432010',\n",
       "  'begDt': '20190801',\n",
       "  'inprVl': 15,\n",
       "  'inprTpCd': '1',\n",
       "  'benefits': [{'uniqCode': 'B_E_01_T', 'absAm': 100000}],\n",
       "  'premiums': [{'uniqCode': 'PREM_E_REC_01_T',\n",
       "    'prmBegDt': '20190801',\n",
       "    'cltrPrmVl': 15,\n",
       "    'prdTpSCd': '1'}]},\n",
       " {'uniqCode': 'ZR4226000',\n",
       "  'cvrgCd': 'ZR4226010',\n",
       "  'begDt': '20190801',\n",
       "  'inprVl': 15,\n",
       "  'inprTpCd': '1',\n",
       "  'benefits': [{'uniqCode': 'B_E_01_T', 'absAm': 300000}],\n",
       "  'premiums': [{'uniqCode': 'PREM_E_REC_01_T',\n",
       "    'prmBegDt': '20190801',\n",
       "    'cltrPrmVl': 15,\n",
       "    'prdTpSCd': '1'}]},\n",
       " {'uniqCode': 'ZR7119000',\n",
       "  'cvrgCd': 'ZR7119010',\n",
       "  'begDt': '20190801',\n",
       "  'inprVl': 15,\n",
       "  'inprTpCd': '1',\n",
       "  'benefits': [{'uniqCode': 'B_E_01_T', 'absAm': 20000}],\n",
       "  'premiums': [{'uniqCode': 'PREM_E_REC_01_T',\n",
       "    'prmBegDt': '20190801',\n",
       "    'cltrPrmVl': 15,\n",
       "    'prdTpSCd': '1'}]},\n",
       " {'uniqCode': 'ZR4305000',\n",
       "  'cvrgCd': 'ZR4305010',\n",
       "  'begDt': '20190801',\n",
       "  'inprVl': 15,\n",
       "  'inprTpCd': '1',\n",
       "  'benefits': [{'uniqCode': 'B_E_01_T', 'absAm': 100000}],\n",
       "  'premiums': [{'uniqCode': 'PREM_E_REC_01_T',\n",
       "    'prmBegDt': '20190801',\n",
       "    'cltrPrmVl': 15,\n",
       "    'prdTpSCd': '1'}]}]"
      ]
     },
     "execution_count": 26,
     "metadata": {},
     "output_type": "execute_result"
    }
   ],
   "source": [
    "a['contracts'][0]['insureds'][0]['coverageBundles'][0]['coverages']"
   ]
  },
  {
   "cell_type": "code",
   "execution_count": null,
   "metadata": {},
   "outputs": [],
   "source": []
  }
 ],
 "metadata": {
  "kernelspec": {
   "display_name": "Python 3",
   "language": "python",
   "name": "python3"
  },
  "language_info": {
   "codemirror_mode": {
    "name": "ipython",
    "version": 3
   },
   "file_extension": ".py",
   "mimetype": "text/x-python",
   "name": "python",
   "nbconvert_exporter": "python",
   "pygments_lexer": "ipython3",
   "version": "3.7.4"
  }
 },
 "nbformat": 4,
 "nbformat_minor": 2
}
