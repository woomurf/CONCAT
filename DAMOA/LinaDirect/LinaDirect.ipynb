{
 "cells": [
  {
   "cell_type": "code",
   "execution_count": 22,
   "metadata": {},
   "outputs": [],
   "source": [
    "from selenium import webdriver\n",
    "from bs4 import BeautifulSoup as bs"
   ]
  },
  {
   "cell_type": "code",
   "execution_count": 149,
   "metadata": {},
   "outputs": [],
   "source": [
    "driver = webdriver.Chrome('C:/Users/concat/Desktop/LinaCrawling/CONCAT/chromedriver_win32/chromedriver.exe')"
   ]
  },
  {
   "cell_type": "code",
   "execution_count": 150,
   "metadata": {},
   "outputs": [],
   "source": [
    "url = 'https://direct.lina.co.kr/product/dtc001'\n",
    "driver.get(url)"
   ]
  },
  {
   "cell_type": "code",
   "execution_count": 151,
   "metadata": {},
   "outputs": [],
   "source": [
    "driver.find_element_by_class_name('g_input_01').send_keys('750106')"
   ]
  },
  {
   "cell_type": "code",
   "execution_count": 152,
   "metadata": {},
   "outputs": [],
   "source": [
    "driver.find_element_by_class_name('btn_premium_sum').click()"
   ]
  },
  {
   "cell_type": "code",
   "execution_count": 180,
   "metadata": {},
   "outputs": [],
   "source": [
    "page = driver.page_source"
   ]
  },
  {
   "cell_type": "code",
   "execution_count": 181,
   "metadata": {},
   "outputs": [],
   "source": [
    "soup = bs(page,'html.parser')"
   ]
  },
  {
   "cell_type": "code",
   "execution_count": 182,
   "metadata": {},
   "outputs": [],
   "source": [
    "basic = soup.find(class_='basicTbody')"
   ]
  },
  {
   "cell_type": "code",
   "execution_count": 183,
   "metadata": {},
   "outputs": [
    {
     "data": {
      "text/plain": [
       "<tbody class=\"basicTbody\"> <tr> <th class=\"tbltit\">월 보험료 <span>(온라인 3% 할인 적용)</span></th> <td class=\"inNum\"><strong>17,557</strong>원</td> <td class=\"inNum\"><strong>44,426</strong>원</td> </tr> <tr class=\"price_main\"> <th scope=\"row\">주계약 보험가입금액</th> <td>4,500만원</td> <td>4,500만원</td> </tr> <tr class=\"price_special\"> <th scope=\"row\">특약 보험가입금액</th> <td>-</td> <td>10,000만원</td> </tr> <tr class=\"detail_insur\"> <th colspan=\"3\">상세 보장내역</th> </tr> </tbody>"
      ]
     },
     "execution_count": 183,
     "metadata": {},
     "output_type": "execute_result"
    }
   ],
   "source": [
    "basic"
   ]
  },
  {
   "cell_type": "code",
   "execution_count": 164,
   "metadata": {},
   "outputs": [],
   "source": [
    "detail = soup.find(class_='detailTbody')"
   ]
  },
  {
   "cell_type": "code",
   "execution_count": 175,
   "metadata": {},
   "outputs": [],
   "source": [
    "detail"
   ]
  },
  {
   "cell_type": "code",
   "execution_count": 165,
   "metadata": {},
   "outputs": [],
   "source": [
    "man = soup.find(id = 'main_btn_male')\n",
    "woman = soup.find(id = 'main_btn_female')"
   ]
  },
  {
   "cell_type": "code",
   "execution_count": 166,
   "metadata": {},
   "outputs": [],
   "source": [
    "man = driver.find_element_by_id('main_btn_male')\n",
    "woman = driver.find_element_by_id('main_btn_female')"
   ]
  },
  {
   "cell_type": "code",
   "execution_count": 167,
   "metadata": {},
   "outputs": [],
   "source": [
    "woman.click()"
   ]
  },
  {
   "cell_type": "code",
   "execution_count": 173,
   "metadata": {},
   "outputs": [
    {
     "ename": "AttributeError",
     "evalue": "'NoneType' object has no attribute 'find_all'",
     "output_type": "error",
     "traceback": [
      "\u001b[1;31m---------------------------------------------------------------------------\u001b[0m",
      "\u001b[1;31mAttributeError\u001b[0m                            Traceback (most recent call last)",
      "\u001b[1;32m<ipython-input-173-a228c0fd2023>\u001b[0m in \u001b[0;36m<module>\u001b[1;34m\u001b[0m\n\u001b[1;32m----> 1\u001b[1;33m \u001b[0mpre_price\u001b[0m \u001b[1;33m=\u001b[0m \u001b[0mbasic\u001b[0m\u001b[1;33m.\u001b[0m\u001b[0mfind_all\u001b[0m\u001b[1;33m(\u001b[0m\u001b[0mclass_\u001b[0m\u001b[1;33m=\u001b[0m\u001b[1;34m'inNum'\u001b[0m\u001b[1;33m)\u001b[0m\u001b[1;33m\u001b[0m\u001b[1;33m\u001b[0m\u001b[0m\n\u001b[0m",
      "\u001b[1;31mAttributeError\u001b[0m: 'NoneType' object has no attribute 'find_all'"
     ]
    }
   ],
   "source": [
    "pre_price = basic.find_all(class_='inNum')"
   ]
  },
  {
   "cell_type": "code",
   "execution_count": 147,
   "metadata": {},
   "outputs": [
    {
     "data": {
      "text/plain": [
       "[<td class=\"inNum\"><strong>17,557</strong>원</td>,\n",
       " <td class=\"inNum\"><strong>44,426</strong>원</td>]"
      ]
     },
     "execution_count": 147,
     "metadata": {},
     "output_type": "execute_result"
    }
   ],
   "source": [
    "pre_price"
   ]
  },
  {
   "cell_type": "code",
   "execution_count": 43,
   "metadata": {},
   "outputs": [],
   "source": [
    "details = detail.find_all('tr')"
   ]
  },
  {
   "cell_type": "code",
   "execution_count": 44,
   "metadata": {
    "scrolled": true
   },
   "outputs": [
    {
     "data": {
      "text/plain": [
       "[<tr> <th scope=\"row\">만기지급금</th> <td>20만원</td> <td>20만원</td> </tr>,\n",
       " <tr> <th scope=\"row\">충전치료보험금</th> <td> </td> <td> </td> </tr>,\n",
       " <tr> <td class=\"inTbl\" colspan=\"3\"> <div class=\"insurDeTbl\"> <table> <caption>충전치료보험금</caption> <colgroup> <col/> <col style=\"width:366px\"/> <col style=\"width:366px\"/> </colgroup> <tbody> <tr> <th scope=\"row\">금, 도재(세라믹)</th> <td>13만원</td> <td>13만원</td> </tr> <tr> <th scope=\"row\">아말감</th> <td>1만원</td> <td>1만원</td> </tr> <tr> <th scope=\"row\">금, 도재(세라믹), 아말감 이외</th> <td>5만원</td> <td>5만원</td> </tr> </tbody> </table> </div> </td> </tr>,\n",
       " <tr> <th scope=\"row\">금, 도재(세라믹)</th> <td>13만원</td> <td>13만원</td> </tr>,\n",
       " <tr> <th scope=\"row\">아말감</th> <td>1만원</td> <td>1만원</td> </tr>,\n",
       " <tr> <th scope=\"row\">금, 도재(세라믹), 아말감 이외</th> <td>5만원</td> <td>5만원</td> </tr>,\n",
       " <tr> <th scope=\"row\">크라운치료보험금</th> <td>20만원</td> <td>20만원</td> </tr>,\n",
       " <tr> <th scope=\"row\">치수치료(신경치료) 보험금</th> <td>2만원</td> <td>2만원</td> </tr>,\n",
       " <tr> <th scope=\"row\">영구치발거치료보험금</th> <td>2만원</td> <td>2만원</td> </tr>,\n",
       " <tr> <th scope=\"row\">치석제거(스케일링) 치료보험금</th> <td>1만원</td> <td>1만원</td> </tr>,\n",
       " <tr> <th scope=\"row\">주요치주질환(잇몸질환)치료보험금</th> <td>2만원</td> <td>2만원</td> </tr>,\n",
       " <tr> <th scope=\"row\">무배당다이렉트보철특약</th> <td> </td> <td> </td> </tr>,\n",
       " <tr> <td class=\"inTbl\" colspan=\"3\"> <div class=\"insurDeTbl\"> <table> <caption>무배당다이렉트보철특약</caption> <colgroup> <col/> <col style=\"width:366px\"/> <col style=\"width:366px\"/> </colgroup> <tbody> <tr> <th scope=\"row\">가철성의치(틀니)(Denture)치료보험금</th> <td>-</td> <td>100만원</td> </tr> <tr> <th scope=\"row\">고정성가공의치(브릿지)(Bridge)치료보험금</th> <td>-</td> <td>50만원</td> </tr> <tr> <th scope=\"row\">임플란트(Implant)치료보험금</th> <td>-</td> <td>100만원</td> </tr> </tbody> </table> </div> </td> </tr>,\n",
       " <tr> <th scope=\"row\">가철성의치(틀니)(Denture)치료보험금</th> <td>-</td> <td>100만원</td> </tr>,\n",
       " <tr> <th scope=\"row\">고정성가공의치(브릿지)(Bridge)치료보험금</th> <td>-</td> <td>50만원</td> </tr>,\n",
       " <tr> <th scope=\"row\">임플란트(Implant)치료보험금</th> <td>-</td> <td>100만원</td> </tr>]"
      ]
     },
     "execution_count": 44,
     "metadata": {},
     "output_type": "execute_result"
    }
   ],
   "source": [
    "details"
   ]
  },
  {
   "cell_type": "code",
   "execution_count": 81,
   "metadata": {},
   "outputs": [],
   "source": [
    "details_ = list()\n",
    "\n",
    "for de in details : \n",
    "    test = de.find(class_='inTbl')\n",
    "    if test != None : \n",
    "        continue\n",
    "    title = de.find('th').get_text()\n",
    "    prices = list()\n",
    "    \n",
    "    td = de.find_all('td')\n",
    "    for price in td :\n",
    "        prices.append(price.get_text())\n",
    "    \n",
    "    if prices[0] == '\\xa0' and prices[1] == '\\xa0' : \n",
    "        continue\n",
    "    \n",
    "    contents = {\n",
    "        'title' : title,\n",
    "        'basic' : prices[0],\n",
    "        'concen': prices[1]\n",
    "    }\n",
    "    \n",
    "    details_.append(contents)\n",
    "        "
   ]
  },
  {
   "cell_type": "code",
   "execution_count": 82,
   "metadata": {},
   "outputs": [
    {
     "name": "stdout",
     "output_type": "stream",
     "text": [
      "{'title': '만기지급금', 'basic': '20만원', 'concen': '20만원'}\n",
      "{'title': '금, 도재(세라믹)', 'basic': '13만원', 'concen': '13만원'}\n",
      "{'title': '아말감', 'basic': '1만원', 'concen': '1만원'}\n",
      "{'title': '금, 도재(세라믹), 아말감 이외', 'basic': '5만원', 'concen': '5만원'}\n",
      "{'title': '크라운치료보험금', 'basic': '20만원', 'concen': '20만원'}\n",
      "{'title': '치수치료(신경치료) 보험금', 'basic': '2만원', 'concen': '2만원'}\n",
      "{'title': '영구치발거치료보험금', 'basic': '2만원', 'concen': '2만원'}\n",
      "{'title': '치석제거(스케일링) 치료보험금', 'basic': '1만원', 'concen': '1만원'}\n",
      "{'title': '주요치주질환(잇몸질환)치료보험금', 'basic': '2만원', 'concen': '2만원'}\n",
      "{'title': '가철성의치(틀니)(Denture)치료보험금', 'basic': '-', 'concen': '100만원'}\n",
      "{'title': '고정성가공의치(브릿지)(Bridge)치료보험금', 'basic': '-', 'concen': '50만원'}\n",
      "{'title': '임플란트(Implant)치료보험금', 'basic': '-', 'concen': '100만원'}\n"
     ]
    }
   ],
   "source": [
    "for de in details_ : \n",
    "    print(de)"
   ]
  },
  {
   "cell_type": "code",
   "execution_count": 83,
   "metadata": {},
   "outputs": [],
   "source": [
    "import pandas as pd "
   ]
  },
  {
   "cell_type": "code",
   "execution_count": 127,
   "metadata": {},
   "outputs": [],
   "source": [
    "column_list = ['생년월일','성별','종류']\n",
    "\n",
    "for de in details_ : \n",
    "    column_list.append(de['title'])\n",
    "column_list.append('보험료')"
   ]
  },
  {
   "cell_type": "code",
   "execution_count": 128,
   "metadata": {},
   "outputs": [],
   "source": [
    "df = pd.DataFrame(columns = column_list)"
   ]
  },
  {
   "cell_type": "code",
   "execution_count": 129,
   "metadata": {},
   "outputs": [
    {
     "data": {
      "text/html": [
       "<div>\n",
       "<style scoped>\n",
       "    .dataframe tbody tr th:only-of-type {\n",
       "        vertical-align: middle;\n",
       "    }\n",
       "\n",
       "    .dataframe tbody tr th {\n",
       "        vertical-align: top;\n",
       "    }\n",
       "\n",
       "    .dataframe thead th {\n",
       "        text-align: right;\n",
       "    }\n",
       "</style>\n",
       "<table border=\"1\" class=\"dataframe\">\n",
       "  <thead>\n",
       "    <tr style=\"text-align: right;\">\n",
       "      <th></th>\n",
       "      <th>생년월일</th>\n",
       "      <th>성별</th>\n",
       "      <th>종류</th>\n",
       "      <th>만기지급금</th>\n",
       "      <th>금, 도재(세라믹)</th>\n",
       "      <th>아말감</th>\n",
       "      <th>금, 도재(세라믹), 아말감 이외</th>\n",
       "      <th>크라운치료보험금</th>\n",
       "      <th>치수치료(신경치료) 보험금</th>\n",
       "      <th>영구치발거치료보험금</th>\n",
       "      <th>치석제거(스케일링) 치료보험금</th>\n",
       "      <th>주요치주질환(잇몸질환)치료보험금</th>\n",
       "      <th>가철성의치(틀니)(Denture)치료보험금</th>\n",
       "      <th>고정성가공의치(브릿지)(Bridge)치료보험금</th>\n",
       "      <th>임플란트(Implant)치료보험금</th>\n",
       "      <th>보험료</th>\n",
       "    </tr>\n",
       "  </thead>\n",
       "  <tbody>\n",
       "  </tbody>\n",
       "</table>\n",
       "</div>"
      ],
      "text/plain": [
       "Empty DataFrame\n",
       "Columns: [생년월일, 성별, 종류, 만기지급금, 금, 도재(세라믹), 아말감, 금, 도재(세라믹), 아말감 이외, 크라운치료보험금, 치수치료(신경치료) 보험금, 영구치발거치료보험금, 치석제거(스케일링) 치료보험금, 주요치주질환(잇몸질환)치료보험금, 가철성의치(틀니)(Denture)치료보험금, 고정성가공의치(브릿지)(Bridge)치료보험금, 임플란트(Implant)치료보험금, 보험료]\n",
       "Index: []"
      ]
     },
     "execution_count": 129,
     "metadata": {},
     "output_type": "execute_result"
    }
   ],
   "source": [
    "df"
   ]
  },
  {
   "cell_type": "code",
   "execution_count": 130,
   "metadata": {},
   "outputs": [],
   "source": [
    "basic_list = ['750118','남자','기본보장']\n",
    "concen_list = ['750118','남자','집중보장']\n",
    "for de in details_ : \n",
    "    basic_list.append(de['basic'])\n",
    "    concen_list.append(de['concen'])\n",
    "basic_list.append(pre_price[0].get_text())\n",
    "concen_list.append(pre_price[1].get_text())"
   ]
  },
  {
   "cell_type": "code",
   "execution_count": 131,
   "metadata": {},
   "outputs": [],
   "source": [
    "df.loc[0] = basic_list"
   ]
  },
  {
   "cell_type": "code",
   "execution_count": 132,
   "metadata": {},
   "outputs": [],
   "source": [
    "df.loc[1] = concen_list"
   ]
  },
  {
   "cell_type": "code",
   "execution_count": 133,
   "metadata": {},
   "outputs": [
    {
     "data": {
      "text/html": [
       "<div>\n",
       "<style scoped>\n",
       "    .dataframe tbody tr th:only-of-type {\n",
       "        vertical-align: middle;\n",
       "    }\n",
       "\n",
       "    .dataframe tbody tr th {\n",
       "        vertical-align: top;\n",
       "    }\n",
       "\n",
       "    .dataframe thead th {\n",
       "        text-align: right;\n",
       "    }\n",
       "</style>\n",
       "<table border=\"1\" class=\"dataframe\">\n",
       "  <thead>\n",
       "    <tr style=\"text-align: right;\">\n",
       "      <th></th>\n",
       "      <th>생년월일</th>\n",
       "      <th>성별</th>\n",
       "      <th>종류</th>\n",
       "      <th>만기지급금</th>\n",
       "      <th>금, 도재(세라믹)</th>\n",
       "      <th>아말감</th>\n",
       "      <th>금, 도재(세라믹), 아말감 이외</th>\n",
       "      <th>크라운치료보험금</th>\n",
       "      <th>치수치료(신경치료) 보험금</th>\n",
       "      <th>영구치발거치료보험금</th>\n",
       "      <th>치석제거(스케일링) 치료보험금</th>\n",
       "      <th>주요치주질환(잇몸질환)치료보험금</th>\n",
       "      <th>가철성의치(틀니)(Denture)치료보험금</th>\n",
       "      <th>고정성가공의치(브릿지)(Bridge)치료보험금</th>\n",
       "      <th>임플란트(Implant)치료보험금</th>\n",
       "      <th>보험료</th>\n",
       "    </tr>\n",
       "  </thead>\n",
       "  <tbody>\n",
       "    <tr>\n",
       "      <th>0</th>\n",
       "      <td>750118</td>\n",
       "      <td>남자</td>\n",
       "      <td>기본보장</td>\n",
       "      <td>20만원</td>\n",
       "      <td>13만원</td>\n",
       "      <td>1만원</td>\n",
       "      <td>5만원</td>\n",
       "      <td>20만원</td>\n",
       "      <td>2만원</td>\n",
       "      <td>2만원</td>\n",
       "      <td>1만원</td>\n",
       "      <td>2만원</td>\n",
       "      <td>-</td>\n",
       "      <td>-</td>\n",
       "      <td>-</td>\n",
       "      <td>17,557원</td>\n",
       "    </tr>\n",
       "    <tr>\n",
       "      <th>1</th>\n",
       "      <td>750118</td>\n",
       "      <td>남자</td>\n",
       "      <td>집중보장</td>\n",
       "      <td>20만원</td>\n",
       "      <td>13만원</td>\n",
       "      <td>1만원</td>\n",
       "      <td>5만원</td>\n",
       "      <td>20만원</td>\n",
       "      <td>2만원</td>\n",
       "      <td>2만원</td>\n",
       "      <td>1만원</td>\n",
       "      <td>2만원</td>\n",
       "      <td>100만원</td>\n",
       "      <td>50만원</td>\n",
       "      <td>100만원</td>\n",
       "      <td>44,426원</td>\n",
       "    </tr>\n",
       "  </tbody>\n",
       "</table>\n",
       "</div>"
      ],
      "text/plain": [
       "     생년월일  성별    종류 만기지급금 금, 도재(세라믹)  아말감 금, 도재(세라믹), 아말감 이외 크라운치료보험금  \\\n",
       "0  750118  남자  기본보장  20만원       13만원  1만원                5만원     20만원   \n",
       "1  750118  남자  집중보장  20만원       13만원  1만원                5만원     20만원   \n",
       "\n",
       "  치수치료(신경치료) 보험금 영구치발거치료보험금 치석제거(스케일링) 치료보험금 주요치주질환(잇몸질환)치료보험금  \\\n",
       "0            2만원        2만원              1만원               2만원   \n",
       "1            2만원        2만원              1만원               2만원   \n",
       "\n",
       "  가철성의치(틀니)(Denture)치료보험금 고정성가공의치(브릿지)(Bridge)치료보험금 임플란트(Implant)치료보험금  \\\n",
       "0                       -                         -                  -   \n",
       "1                   100만원                      50만원              100만원   \n",
       "\n",
       "       보험료  \n",
       "0  17,557원  \n",
       "1  44,426원  "
      ]
     },
     "execution_count": 133,
     "metadata": {},
     "output_type": "execute_result"
    }
   ],
   "source": [
    "df"
   ]
  },
  {
   "cell_type": "code",
   "execution_count": 102,
   "metadata": {},
   "outputs": [],
   "source": [
    "age_range = soup.select('#tabcont_0101 > div > div.inner.newToothTab > div:nth-child(6) > table > tbody > tr:nth-child(2) > td:nth-child(2)')[0].get_text()"
   ]
  },
  {
   "cell_type": "code",
   "execution_count": 105,
   "metadata": {},
   "outputs": [
    {
     "data": {
      "text/plain": [
       "'50'"
      ]
     },
     "execution_count": 105,
     "metadata": {},
     "output_type": "execute_result"
    }
   ],
   "source": [
    "age_range[3:5]"
   ]
  },
  {
   "cell_type": "code",
   "execution_count": 107,
   "metadata": {},
   "outputs": [],
   "source": [
    "import datetime"
   ]
  },
  {
   "cell_type": "code",
   "execution_count": 119,
   "metadata": {},
   "outputs": [
    {
     "data": {
      "text/plain": [
       "2019"
      ]
     },
     "execution_count": 119,
     "metadata": {},
     "output_type": "execute_result"
    }
   ],
   "source": [
    "datetime.datetime.now().year"
   ]
  },
  {
   "cell_type": "code",
   "execution_count": 189,
   "metadata": {},
   "outputs": [],
   "source": [
    "young = int(str(2019 - 20)[2:] + '0725')\n",
    "old   = int(str(2019 - 50)[2:] + '0725')"
   ]
  },
  {
   "cell_type": "code",
   "execution_count": 190,
   "metadata": {},
   "outputs": [
    {
     "data": {
      "text/plain": [
       "990725"
      ]
     },
     "execution_count": 190,
     "metadata": {},
     "output_type": "execute_result"
    }
   ],
   "source": [
    "young"
   ]
  },
  {
   "cell_type": "code",
   "execution_count": 191,
   "metadata": {},
   "outputs": [
    {
     "data": {
      "text/plain": [
       "690725"
      ]
     },
     "execution_count": 191,
     "metadata": {},
     "output_type": "execute_result"
    }
   ],
   "source": [
    "old"
   ]
  },
  {
   "cell_type": "code",
   "execution_count": 142,
   "metadata": {},
   "outputs": [
    {
     "data": {
      "text/plain": [
       "'20-50세'"
      ]
     },
     "execution_count": 142,
     "metadata": {},
     "output_type": "execute_result"
    }
   ],
   "source": [
    "driver.find_element_by_css_selector('#tabcont_0101 > div > div.inner.newToothTab > div:nth-child(6) > table > tbody > tr:nth-child(2) > td:nth-child(2)').text"
   ]
  },
  {
   "cell_type": "code",
   "execution_count": 148,
   "metadata": {},
   "outputs": [],
   "source": [
    "from selenium.webdriver.common.by import By \n",
    "from selenium.webdriver.support.ui import WebDriverWait\n",
    "from selenium.webdriver.support import expected_conditions as EC "
   ]
  },
  {
   "cell_type": "code",
   "execution_count": null,
   "metadata": {},
   "outputs": [],
   "source": []
  },
  {
   "cell_type": "code",
   "execution_count": 192,
   "metadata": {},
   "outputs": [
    {
     "name": "stdout",
     "output_type": "stream",
     "text": [
      "690725\n",
      "740725\n",
      "790725\n",
      "840725\n",
      "890725\n",
      "940725\n"
     ]
    }
   ],
   "source": [
    "for age in range(old,young,50000) : \n",
    "    print(age)"
   ]
  },
  {
   "cell_type": "code",
   "execution_count": 193,
   "metadata": {},
   "outputs": [],
   "source": [
    "age_range = driver.find_element_by_css_selector('#tabcont_0101 > div > div.inner.newToothTab > div:nth-child(6) > table > tbody > tr:nth-child(2) > td:nth-child(2)').text\n",
    "young = int(age_range[:2])\n",
    "old   = int(age_range[3:5])"
   ]
  },
  {
   "cell_type": "code",
   "execution_count": 194,
   "metadata": {},
   "outputs": [],
   "source": [
    "year = datetime.datetime.now().year"
   ]
  },
  {
   "cell_type": "code",
   "execution_count": 195,
   "metadata": {},
   "outputs": [],
   "source": [
    "young = int(str(year - young)[2:] + '0725') \n",
    "old   = int(str(year - old)[2:] + '0725')"
   ]
  },
  {
   "cell_type": "code",
   "execution_count": 196,
   "metadata": {},
   "outputs": [
    {
     "data": {
      "text/plain": [
       "990725"
      ]
     },
     "execution_count": 196,
     "metadata": {},
     "output_type": "execute_result"
    }
   ],
   "source": [
    "young"
   ]
  },
  {
   "cell_type": "code",
   "execution_count": 197,
   "metadata": {},
   "outputs": [
    {
     "data": {
      "text/plain": [
       "690725"
      ]
     },
     "execution_count": 197,
     "metadata": {},
     "output_type": "execute_result"
    }
   ],
   "source": [
    "old"
   ]
  },
  {
   "cell_type": "code",
   "execution_count": null,
   "metadata": {},
   "outputs": [],
   "source": []
  }
 ],
 "metadata": {
  "kernelspec": {
   "display_name": "Python 3",
   "language": "python",
   "name": "python3"
  },
  "language_info": {
   "codemirror_mode": {
    "name": "ipython",
    "version": 3
   },
   "file_extension": ".py",
   "mimetype": "text/x-python",
   "name": "python",
   "nbconvert_exporter": "python",
   "pygments_lexer": "ipython3",
   "version": "3.7.4"
  }
 },
 "nbformat": 4,
 "nbformat_minor": 2
}
