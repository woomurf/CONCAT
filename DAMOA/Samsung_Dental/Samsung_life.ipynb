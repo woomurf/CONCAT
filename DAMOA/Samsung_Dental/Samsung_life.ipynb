{
 "cells": [
  {
   "cell_type": "code",
   "execution_count": 3,
   "metadata": {},
   "outputs": [],
   "source": [
    "import json \n",
    "\n",
    "a = {\"selImplStr\":\"50\",\"proType\":\"15\",\"prcdId\":487,\"prcd\":\"A053801ANNNAG01\",\"insCd\":\"LA0538001\",\"repCd\":\"LQ_GGG0L55L0000_G00\",\"prdtnm\":\"삼성생명 인터넷치아보험(재가입형,무배당)\",\"insrVcd\":\"001\",\"contName\":\"고객님\",\"contBirth\":\"19961129\",\"contGender\":\"1\",\"insuPeriod\":\"10\",\"payPeriod\":\"10\",\"planType\":\"single\",\"planSubType\":\"2\",\"stats\":\"Y\"}"
   ]
  },
  {
   "cell_type": "code",
   "execution_count": 4,
   "metadata": {},
   "outputs": [
    {
     "data": {
      "text/plain": [
       "{'selImplStr': '50',\n",
       " 'proType': '15',\n",
       " 'prcdId': 487,\n",
       " 'prcd': 'A053801ANNNAG01',\n",
       " 'insCd': 'LA0538001',\n",
       " 'repCd': 'LQ_GGG0L55L0000_G00',\n",
       " 'prdtnm': '삼성생명 인터넷치아보험(재가입형,무배당)',\n",
       " 'insrVcd': '001',\n",
       " 'contName': '고객님',\n",
       " 'contBirth': '19961129',\n",
       " 'contGender': '1',\n",
       " 'insuPeriod': '10',\n",
       " 'payPeriod': '10',\n",
       " 'planType': 'single',\n",
       " 'planSubType': '2',\n",
       " 'stats': 'Y'}"
      ]
     },
     "execution_count": 4,
     "metadata": {},
     "output_type": "execute_result"
    }
   ],
   "source": [
    "a"
   ]
  },
  {
   "cell_type": "markdown",
   "metadata": {},
   "source": [
    "selImplStr : 임플란트 치료금  \n",
    "proType : 고정  \n",
    "prcdId : 고정  \n",
    "prcd : 고정  \n",
    "insCd : 고정  \n",
    "repCd :  고정  \n",
    "prdtnm :  고정  \n",
    "insrVcd : ...? 아직 고정인지 변동 값인지 모르겠음  \n",
    "contName : 고정  \n",
    "contBirth : age  \n",
    "contGender : 남자 1, 여자 2인듯  \n",
    "insuPeriod : 고정  \n",
    "payPerioid : 고정  \n",
    "planType :  고정 \n",
    "planSubType : 뭔지 잘 모르지만 ,고정?  \n",
    "stats : 고정  "
   ]
  },
  {
   "cell_type": "code",
   "execution_count": 6,
   "metadata": {},
   "outputs": [
    {
     "ename": "SyntaxError",
     "evalue": "invalid syntax (<ipython-input-6-f96c4d90ddec>, line 5)",
     "output_type": "error",
     "traceback": [
      "\u001b[1;36m  File \u001b[1;32m\"<ipython-input-6-f96c4d90ddec>\"\u001b[1;36m, line \u001b[1;32m5\u001b[0m\n\u001b[1;33m    Cookie = directJSESSIONID,\u001b[0m\n\u001b[1;37m           ^\u001b[0m\n\u001b[1;31mSyntaxError\u001b[0m\u001b[1;31m:\u001b[0m invalid syntax\n"
     ]
    }
   ],
   "source": [
    "header = {\n",
    "    Content-Type,  \n",
    "    X-Requested-With,  \n",
    "    User-Agent,  \n",
    "    Cookie = directJSESSIONID,  \n",
    "    Referer  \n",
    "}"
   ]
  },
  {
   "cell_type": "code",
   "execution_count": 7,
   "metadata": {},
   "outputs": [],
   "source": [
    "from selenium import webdriver\n",
    "import requests\n",
    "from bs4 import BeautifulSoup"
   ]
  },
  {
   "cell_type": "code",
   "execution_count": 8,
   "metadata": {},
   "outputs": [],
   "source": [
    "driver = webdriver.Chrome('C:/Users/concat/Desktop/LinaCrawling/CONCAT/chromedriver_win32/chromedriver.exe')\n",
    "url = 'https://direct.samsunglife.com/dental.eds'\n",
    "driver.get(url)"
   ]
  },
  {
   "cell_type": "code",
   "execution_count": 17,
   "metadata": {},
   "outputs": [],
   "source": [
    "driver.find_element_by_id('birthday').send_keys('19920523')"
   ]
  },
  {
   "cell_type": "code",
   "execution_count": 31,
   "metadata": {},
   "outputs": [],
   "source": [
    "genders = driver.find_element_by_id('proCalculatorArea1').find_element_by_class_name('label-check1').find_elements_by_tag_name('span')"
   ]
  },
  {
   "cell_type": "code",
   "execution_count": 33,
   "metadata": {},
   "outputs": [],
   "source": [
    "genders[1].find_element_by_tag_name('label').click()"
   ]
  },
  {
   "cell_type": "code",
   "execution_count": 35,
   "metadata": {},
   "outputs": [],
   "source": [
    "driver.find_element_by_id('calculate').click()"
   ]
  },
  {
   "cell_type": "code",
   "execution_count": 37,
   "metadata": {},
   "outputs": [],
   "source": [
    "directCookie = driver.get_cookie('directJSESSIONID')['value']"
   ]
  },
  {
   "cell_type": "code",
   "execution_count": 81,
   "metadata": {},
   "outputs": [],
   "source": [
    "post_url = 'https://direct.samsunglife.com/dentalCalc.eds'\n",
    "\n",
    "post_header = {\n",
    "    'Content-Type' : \"application/x-www-form-urlencoded; charset=UTF-8\",\n",
    "    'X-Requested-With' : 'XMLHttpRequest',\n",
    "    'User-Agent' : 'Mozilla/5.0 (Windows NT 10.0; Win64; x64) AppleWebKit/537.36 (KHTML, like Gecko) Chrome/75.0.3770.142 Safari/537.36',\n",
    "    'Referer' : 'https://direct.samsunglife.com/dental.eds'\n",
    "}\n",
    "\n",
    "post_cookie = {\n",
    "    'directJSESSIONID' : directCookie\n",
    "}\n",
    "\n",
    "post_data = {\n",
    "    \"selImplStr\":\"50\",\n",
    "    \"proType\":\"15\",\n",
    "    \"prcdId\":487,\n",
    "    \"prcd\":\"A053801ANNNAG01\",\n",
    "    \"insCd\":\"LA0538001\",\n",
    "    \"repCd\":\"LQ_GGG0L55L0000_G00\",\n",
    "    \"prdtnm\":\"삼성생명 인터넷치아보험(재가입형,무배당)\",\n",
    "    \"insrVcd\":\"001\",\n",
    "    \"contName\":\"고객님\",\n",
    "    \"contBirth\":\"19920523\",\n",
    "    \"contGender\":\"2\",\n",
    "    \"insuPeriod\":\"10\",\n",
    "    \"payPeriod\":\"10\",\n",
    "    \"planType\":\"single\",\n",
    "    \"planSubType\":\"2\",\n",
    "    \"stats\":\"Y\"\n",
    "}\n",
    "\n",
    "post_data = json.dumps(post_data)\n",
    "\n",
    "test_data = '{\"selImplStr\":\"50\",\"proType\":\"15\",\"prcdId\":487,\"prcd\":\"A053801ANNNAG01\",\"prdtVcd\":\"001\",\"insCd\":\"LA0538001\",\"repCd\":\"LQ_GGG0L55L0000_G00\",\"prdtnm\":\"삼성생명 인터넷치아보험(재가입형,무배당)\",\"insrVcd\":\"001\",\"contName\":\"고객님\",\"contBirth\":\"19920523\",\"contGender\":\"2\",\"insuPeriod\":\"10\",\"payMethod\":\"\",\"payPeriod\":\"10\",\"premium\":\"\",\"planSeq\":\"\",\"eventId\":\"\",\"eventUrl\":\"\",\"planType\":\"single\",\"mainContAmt\":\"\",\"treatyContAmt\":\"\",\"mdcrRcbfrYn\":\"\",\"treatyList\":\"\",\"planSubType\":\"2\",\"reCalcId\":\"2\",\"stats\":\"Y\"}'"
   ]
  },
  {
   "cell_type": "code",
   "execution_count": 82,
   "metadata": {},
   "outputs": [],
   "source": [
    "response = requests.post(post_url,headers = post_header, cookies = post_cookie, data = post_data.encode(\"utf-8\"))"
   ]
  },
  {
   "cell_type": "code",
   "execution_count": 83,
   "metadata": {},
   "outputs": [
    {
     "data": {
      "text/plain": [
       "'{\"contAmtSp\":\"50\",\"contAmt\":\"5000000\",\"premium\":\"19580\",\"arryData\":[{\"returnMoney\":500000,\"returnRatio\":29.6,\"nowRate\":\"2.5\",\"nowRateArry\":[{\"totTerm\":\"3개월\",\"napMoney\":42150,\"rtnMoney\":0,\"RtnRatio\":\"0.0\"},{\"totTerm\":\"6개월\",\"napMoney\":84300,\"rtnMoney\":0,\"RtnRatio\":\"0.0\"},{\"totTerm\":\"9개월\",\"napMoney\":126450,\"rtnMoney\":0,\"RtnRatio\":\"0.0\"},{\"totTerm\":\"1년\",\"napMoney\":168600,\"rtnMoney\":0,\"RtnRatio\":\"0.0\"},{\"totTerm\":\"2년\",\"napMoney\":337200,\"rtnMoney\":0,\"RtnRatio\":\"0.0\"},{\"totTerm\":\"3년\",\"napMoney\":505800,\"rtnMoney\":0,\"RtnRatio\":\"0.0\"},{\"totTerm\":\"4년\",\"napMoney\":674400,\"rtnMoney\":64120,\"RtnRatio\":\"9.5\"},{\"totTerm\":\"5년\",\"napMoney\":843000,\"rtnMoney\":155110,\"RtnRatio\":\"18.4\"},{\"totTerm\":\"6년\",\"napMoney\":1011600,\"rtnMoney\":249500,\"RtnRatio\":\"24.6\"},{\"totTerm\":\"7년\",\"napMoney\":1180200,\"rtnMoney\":344900,\"RtnRatio\":\"29.2\"},{\"totTerm\":\"8년\",\"napMoney\":1348800,\"rtnMoney\":397600,\"RtnRatio\":\"29.4\"},{\"totTerm\":\"9년\",\"napMoney\":1517400,\"rtnMoney\":449100,\"RtnRatio\":\"29.5\"},{\"totTerm\":\"10년\",\"napMoney\":1686000,\"rtnMoney\":500000,\"RtnRatio\":\"29.6\"}],\"nowRateArry2\":[{\"napMoney\":42150.0},{\"napMoney\":84300.0},{\"napMoney\":126450.0},{\"napMoney\":168600.0},{\"napMoney\":337200.0},{\"napMoney\":505800.0},{\"napMoney\":674400.0},{\"napMoney\":843000.0},{\"napMoney\":1011600.0},{\"napMoney\":1180200.0},{\"napMoney\":1348800.0},{\"napMoney\":1517400.0},{\"napMoney\":1686000.0}],\"totNapMoney\":1686000,\"totPremium\":14050,\"padSmtotPrm\":14050,\"stdYear\":2019,\"stdMonth\":8,\"guaranteeArry\":[{\"uiCode\":\"A053801ANNNAG01\",\"insuName\":\"주보험\",\"name\":\"영구치보철치료보험금 [임플란트치료]\",\"content\":\"치과치료보장개시일 이후에 보장의 대상이 되는 \\\\\"영구치 발치\\\\\"의 원인으로 영구치를 발치하고, 해당 영구치를 발치한 부위에 보철 치료(임플란트치료)를 받은 경우 (영구치발치 1개당)\",\"amt\":\"25만원\",\"contAmt\":0},{\"uiCode\":\"A053801ANNNAG01\",\"insuName\":\"주보험\",\"name\":\"영구치보철치료보험금 [고정성가공의치(브릿지)치료]\",\"content\":\"치과치료보장개시일 이후에 보장의 대상이 되는 \\\\\"영구치 발치\\\\\"의 원인으로 영구치를 발치하고, 해당 영구치를 발치한 부위에 보철 치료(고정성가공의치(브릿지)치료)를 받은 경우 (영구치발치 1개당)\",\"amt\":\"12.5만원\",\"contAmt\":0},{\"uiCode\":\"A053801ANNNAG01\",\"insuName\":\"주보험\",\"name\":\"영구치보철치료보험금 [가철성의치(틀니)치료]\",\"content\":\"치과치료보장개시일 이후에 보장의 대상이 되는 \\\\\"영구치 발치\\\\\"의 원인으로 영구치를 발치하고, 해당 영구치를 발치한 부위에 보철 치료(가철성의치(틀니)치료)를 받은 경우 (보철물당)\",\"amt\":\"25만원\",\"contAmt\":0},{\"uiCode\":\"A053801ANNNAG01\",\"insuName\":\"주보험\",\"name\":\"\",\"content\":\"※ 임플란트치료 및 고정성가공의치(브릿지)치료의 경우 계약일부터 2년이내 연간 3개한도로 보장하며, 계약일부터 2년 초과시 한도 제한 없음. 가철성의치(틀니)치료의 경우 연간 1회 한도로 보장\",\"amt\":\"\",\"contAmt\":0},{\"uiCode\":\"A053801ANNNAG01\",\"insuName\":\"주보험\",\"name\":\"크라운치료보험금\",\"content\":\"\\\\\"치과치료보장개시일 이후에 치아에 대하여 \\'치아우식증(충치) 또는 치주질환(잇몸질환)\\'으로 진단 확정 받고 해당 치아에 대하여 최초로 크라운치료를 받은 경우\\\\\" 또는 \\\\\"보험기간 중 발생한 재해를 직접적인 원인으로 해당 치아에 대하여 최초로 크라운 치료를 받은 경우\\\\\" (연간 「유치3개 및 영구치3개」한도) (치료한 치아 1개당)\",\"amt\":\"12.5만원\",\"contAmt\":0},{\"uiCode\":\"A053801ANNNAG01\",\"insuName\":\"주보험\",\"name\":\"보존치료보험금 [인레이, 온레이]\",\"content\":\"치과치료보장개시일 이후에 치아에 대하여 치아우식증(충치) 또는 치주질환(잇몸질환)으로 진단 확정 받고 해당 치아에 대하여 최초로 보존치료(인레이, 온레이)를 받은 경우 또는 보험기간 중 발생한 재해를 직접적인 원인으로 해당 치아에 대하여 최초로 보존치료(인레이, 온레이)를 받은 경우 (치료한 치아 1개당)\",\"amt\":\"7.5만원\",\"contAmt\":0},{\"uiCode\":\"A053801ANNNAG01\",\"insuName\":\"주보험\",\"name\":\"보존치료보험금 [복합레진]\",\"content\":\"\\\\\"치과치료보장개시일 이후에 치아에 대하여 \\'치아우식증(충치) 또는 치주질환(잇몸질환)\\'으로 진단 확정 받고 해당 치아에 대하여 최초로 보존치료(복합레진)를 받은 경우\\\\\" 또는 \\\\\"보험기간 중 발생한 재해를 직접적인 원인으로 해당 치아에 대하여 최초로 보존치료(복합레진)를 받은 경우\\\\\" (치료한 치아 1개당)\",\"amt\":\"2.5만원\",\"contAmt\":0},{\"uiCode\":\"A053801ANNNAG01\",\"insuName\":\"주보험\",\"name\":\"보존치료보험금 [아말감,글래스아이노머]\",\"content\":\"치과치료보장개시일 이후에 치아에 대하여 치아우식증(충치) 또는 치주질환(잇몸질환)으로 진단 확정 받고 해당 치아에 대하여 최초로 보존치료(아말감,글래스아이노머)를 받은 경우 또는 보험기간 중 발생한 재해를 직접적인 원인으로 해당 치아에 대하여 최초로 보존치료(아말감,글래스아이노머)를 받은 경우 (치료한 치아 1개당)\",\"amt\":\"0.5만원\",\"contAmt\":0},{\"uiCode\":\"A053801ANNNAG01\",\"insuName\":\"주보험\",\"name\":\"영구치발치보험금\",\"content\":\"치과치료보장개시일 이후에 보장의 대상이 되는 \\\\\"영구치 발치\\\\\"의 원인으로 영구치 발치를 받은 경우 (영구치발치 1개당)\",\"amt\":\"1만원\",\"contAmt\":0},{\"uiCode\":\"A053801ANNNAG01\",\"insuName\":\"주보험\",\"name\":\"치수치료보험금\",\"content\":\"\\\\\"치과치료보장개시일 이후에 치아에 대하여 \\'치아우식증(충치) 또는치주질환(잇몸질환)\\'으로 진단 확정 받고 해당 치아에 대하여 최초로 치수치료(신경치료)를 받은 경우\\\\\" 또는 \\\\\"보험기간 중 발생한 재해를 직접적인 원인으로 해당 치아에 대하여 최초로 치수치료(신경치료)를 받은 경우\\\\\" (치료한 치아 1개당)\",\"amt\":\"1만원\",\"contAmt\":0},{\"uiCode\":\"A053801ANNNAG01\",\"insuName\":\"주보험\",\"name\":\"주요치주질환치료보험금\",\"content\":\"치과치료보장개시일 이후에 「국민건강보험법에서 정한 보험급여 또는 의료급여법에서 정한 의료급여」에서 치주질환(잇몸질환)치료가 필요하다고 인정한 기준에 해당되는 주요치주질환(잇몸질환)치료를 받은 경우\",\"amt\":\"1만원\",\"contAmt\":0},{\"uiCode\":\"A053801ANNNAG01\",\"insuName\":\"주보험\",\"name\":\"치석제거치료보험금\",\"content\":\"치과치료보장개시일 이후에 「국민건강보험법에서 정한 보험급여 또는 의료급여법에서 정한 의료급여」에서 치주질환(잇몸질환)치료를 목적으로 치석제거치료가 필요하다고 인정한 기준에 해당되는 치석제거치료를 받은 경우 (연간 1회한)\",\"amt\":\"0.5만원\",\"contAmt\":0},{\"uiCode\":\"A053801ANNNAG01\",\"insuName\":\"주보험\",\"name\":\"구내방사선촬영보험금\",\"content\":\"방사선/파노라마촬영보장개시일 이후에 「국민건강보험법에서정한 보험급여 또는 의료급여법에서 정한 의료급여」에서 구내방사선 촬영이 필요하다고 인정한 기준에 해당되는 구내방사선 촬영을 받은 경우 (촬영 1회당)\",\"amt\":\"0.25만원\",\"contAmt\":0},{\"uiCode\":\"A053801ANNNAG01\",\"insuName\":\"주보험\",\"name\":\"파노라마촬영보험금\",\"content\":\"방사선/파노라마촬영보장개시일 이후에 「국민건강보험법에서 정한 보험급여 또는 의료급여법에서 정한 의료급여」에서 파노라마 촬영이 필요하다고 인정한 기준에 해당되는 파노라마 촬영을 받은 경우 (연간 1회한) (촬영 1회당)\",\"amt\":\"0.5만원\",\"contAmt\":0},{\"uiCode\":\"A053801ANNNAG01\",\"insuName\":\"주보험\",\"name\":\"영구치유지보험금\",\"content\":\"보험기간 중 영구치가 단 한 개도 상실되지 않고 보험기간이 끝날때까지 살아있을 경우 (단, 계약을 체결할 때 피보험자 가입나이가 70세 이상인 경우는 제외)\",\"amt\":\"25만원\",\"contAmt\":0},{\"uiCode\":\"A053801ANNNAG01\",\"insuName\":\"주보험\",\"name\":\"만기보험금\",\"content\":\"보험기간이 끝날 때까지 살아 있을 경우 (단, 계약을 체결할 때 피보험자 가입나이가 70세 이상인 경우는 제외)\",\"amt\":\"25만원\",\"contAmt\":0}],\"inputObj\":{\"selImplStr\":\"50\",\"proType\":\"15\",\"prcdId\":487,\"prcd\":\"A053801ANNNAG01\",\"insCd\":\"LA0538001\",\"repCd\":\"LQ_GGG0L55L0000_G00\",\"prdtnm\":\"삼성생명 인터넷치아보험(재가입형,무배당)\",\"insrVcd\":\"001\",\"contName\":\"고객님\",\"contBirth\":\"19920523\",\"contGender\":\"2\",\"insuPeriod\":\"10\",\"payPeriod\":\"10\",\"planType\":\"template\",\"planSubType\":\"1\",\"stats\":\"Y\",\"prdtrepcd\":\"LQ_GGG0L55L0000_G00\",\"inscd\":\"LA0538001\",\"planSeq\":\"20190802164234418704\",\"jobCode\":\"012212\",\"jobRskGrdCd\":\"0\",\"jobHspzRskGrdCd\":\"0\",\"jobInjryRskGrdCd\":\"0\",\"carKndCd\":\"00\",\"carRskGd\":\"0\",\"ssn1\":\"920523\",\"ssn2\":\"2000000\",\"contAmt\":\"5000000\",\"contAmtSp\":\"0\",\"isAnnuity\":\"N\",\"isVariable\":\"N\",\"annuityAge\":\"0\",\"premium\":\"14050\",\"treatyList\":[]}},{\"returnMoney\":500000,\"returnRatio\":21.2,\"nowRate\":\"2.5\",\"nowRateArry\":[{\"totTerm\":\"3개월\",\"napMoney\":58740,\"rtnMoney\":0,\"RtnRatio\":\"0.0\"},{\"totTerm\":\"6개월\",\"napMoney\":117480,\"rtnMoney\":0,\"RtnRatio\":\"0.0\"},{\"totTerm\":\"9개월\",\"napMoney\":176220,\"rtnMoney\":0,\"RtnRatio\":\"0.0\"},{\"totTerm\":\"1년\",\"napMoney\":234960,\"rtnMoney\":0,\"RtnRatio\":\"0.0\"},{\"totTerm\":\"2년\",\"napMoney\":469920,\"rtnMoney\":260,\"RtnRatio\":\"0.0\"},{\"totTerm\":\"3년\",\"napMoney\":704880,\"rtnMoney\":530,\"RtnRatio\":\"0.0\"},{\"totTerm\":\"4년\",\"napMoney\":939840,\"rtnMoney\":64840,\"RtnRatio\":\"6.9\"},{\"totTerm\":\"5년\",\"napMoney\":1174800,\"rtnMoney\":160390,\"RtnRatio\":\"13.6\"},{\"totTerm\":\"6년\",\"napMoney\":1409760,\"rtnMoney\":260390,\"RtnRatio\":\"18.4\"},{\"totTerm\":\"7년\",\"napMoney\":1644720,\"rtnMoney\":360180,\"RtnRatio\":\"21.8\"},{\"totTerm\":\"8년\",\"napMoney\":1879680,\"rtnMoney\":409410,\"RtnRatio\":\"21.7\"},{\"totTerm\":\"9년\",\"napMoney\":2114640,\"rtnMoney\":455870,\"RtnRatio\":\"21.5\"},{\"totTerm\":\"10년\",\"napMoney\":2349600,\"rtnMoney\":500000,\"RtnRatio\":\"21.2\"}],\"nowRateArry2\":[{\"napMoney\":58740.0},{\"napMoney\":117480.0},{\"napMoney\":176220.0},{\"napMoney\":234960.0},{\"napMoney\":469920.0},{\"napMoney\":704880.0},{\"napMoney\":939840.0},{\"napMoney\":1174800.0},{\"napMoney\":1409760.0},{\"napMoney\":1644720.0},{\"napMoney\":1879680.0},{\"napMoney\":2114640.0},{\"napMoney\":2349600.0}],\"totNapMoney\":2349600,\"totPremium\":19580,\"padSmtotPrm\":19580,\"stdYear\":2019,\"stdMonth\":8,\"guaranteeArry\":[{\"uiCode\":\"A053801ANNNAG01\",\"insuName\":\"주보험\",\"name\":\"영구치보철치료보험금 [임플란트치료]\",\"content\":\"치과치료보장개시일 이후에 보장의 대상이 되는 \\\\\"영구치 발치\\\\\"의 원인으로 영구치를 발치하고, 해당 영구치를 발치한 부위에 보철 치료(임플란트치료)를 받은 경우 (영구치발치 1개당)\",\"amt\":\"25만원\",\"contAmt\":0},{\"uiCode\":\"A053801ANNNAG01\",\"insuName\":\"주보험\",\"name\":\"영구치보철치료보험금 [고정성가공의치(브릿지)치료]\",\"content\":\"치과치료보장개시일 이후에 보장의 대상이 되는 \\\\\"영구치 발치\\\\\"의 원인으로 영구치를 발치하고, 해당 영구치를 발치한 부위에 보철 치료(고정성가공의치(브릿지)치료)를 받은 경우 (영구치발치 1개당)\",\"amt\":\"12.5만원\",\"contAmt\":0},{\"uiCode\":\"A053801ANNNAG01\",\"insuName\":\"주보험\",\"name\":\"영구치보철치료보험금 [가철성의치(틀니)치료]\",\"content\":\"치과치료보장개시일 이후에 보장의 대상이 되는 \\\\\"영구치 발치\\\\\"의 원인으로 영구치를 발치하고, 해당 영구치를 발치한 부위에 보철 치료(가철성의치(틀니)치료)를 받은 경우 (보철물당)\",\"amt\":\"25만원\",\"contAmt\":0},{\"uiCode\":\"A053801ANNNAG01\",\"insuName\":\"주보험\",\"name\":\"\",\"content\":\"※ 임플란트치료 및 고정성가공의치(브릿지)치료의 경우 계약일부터 2년이내 연간 3개한도로 보장하며, 계약일부터 2년 초과시 한도 제한 없음. 가철성의치(틀니)치료의 경우 연간 1회 한도로 보장\",\"amt\":\"\",\"contAmt\":0},{\"uiCode\":\"A053801ANNNAG01\",\"insuName\":\"주보험\",\"name\":\"크라운치료보험금\",\"content\":\"\\\\\"치과치료보장개시일 이후에 치아에 대하여 \\'치아우식증(충치) 또는 치주질환(잇몸질환)\\'으로 진단 확정 받고 해당 치아에 대하여 최초로 크라운치료를 받은 경우\\\\\" 또는 \\\\\"보험기간 중 발생한 재해를 직접적인 원인으로 해당 치아에 대하여 최초로 크라운 치료를 받은 경우\\\\\" (연간 「유치3개 및 영구치3개」한도) (치료한 치아 1개당)\",\"amt\":\"12.5만원\",\"contAmt\":0},{\"uiCode\":\"A053801ANNNAG01\",\"insuName\":\"주보험\",\"name\":\"보존치료보험금 [인레이, 온레이]\",\"content\":\"치과치료보장개시일 이후에 치아에 대하여 치아우식증(충치) 또는 치주질환(잇몸질환)으로 진단 확정 받고 해당 치아에 대하여 최초로 보존치료(인레이, 온레이)를 받은 경우 또는 보험기간 중 발생한 재해를 직접적인 원인으로 해당 치아에 대하여 최초로 보존치료(인레이, 온레이)를 받은 경우 (치료한 치아 1개당)\",\"amt\":\"7.5만원\",\"contAmt\":0},{\"uiCode\":\"A053801ANNNAG01\",\"insuName\":\"주보험\",\"name\":\"보존치료보험금 [복합레진]\",\"content\":\"\\\\\"치과치료보장개시일 이후에 치아에 대하여 \\'치아우식증(충치) 또는 치주질환(잇몸질환)\\'으로 진단 확정 받고 해당 치아에 대하여 최초로 보존치료(복합레진)를 받은 경우\\\\\" 또는 \\\\\"보험기간 중 발생한 재해를 직접적인 원인으로 해당 치아에 대하여 최초로 보존치료(복합레진)를 받은 경우\\\\\" (치료한 치아 1개당)\",\"amt\":\"2.5만원\",\"contAmt\":0},{\"uiCode\":\"A053801ANNNAG01\",\"insuName\":\"주보험\",\"name\":\"보존치료보험금 [아말감,글래스아이노머]\",\"content\":\"치과치료보장개시일 이후에 치아에 대하여 치아우식증(충치) 또는 치주질환(잇몸질환)으로 진단 확정 받고 해당 치아에 대하여 최초로 보존치료(아말감,글래스아이노머)를 받은 경우 또는 보험기간 중 발생한 재해를 직접적인 원인으로 해당 치아에 대하여 최초로 보존치료(아말감,글래스아이노머)를 받은 경우 (치료한 치아 1개당)\",\"amt\":\"0.5만원\",\"contAmt\":0},{\"uiCode\":\"A053801ANNNAG01\",\"insuName\":\"주보험\",\"name\":\"영구치발치보험금\",\"content\":\"치과치료보장개시일 이후에 보장의 대상이 되는 \\\\\"영구치 발치\\\\\"의 원인으로 영구치 발치를 받은 경우 (영구치발치 1개당)\",\"amt\":\"1만원\",\"contAmt\":0},{\"uiCode\":\"A053801ANNNAG01\",\"insuName\":\"주보험\",\"name\":\"치수치료보험금\",\"content\":\"\\\\\"치과치료보장개시일 이후에 치아에 대하여 \\'치아우식증(충치) 또는치주질환(잇몸질환)\\'으로 진단 확정 받고 해당 치아에 대하여 최초로 치수치료(신경치료)를 받은 경우\\\\\" 또는 \\\\\"보험기간 중 발생한 재해를 직접적인 원인으로 해당 치아에 대하여 최초로 치수치료(신경치료)를 받은 경우\\\\\" (치료한 치아 1개당)\",\"amt\":\"1만원\",\"contAmt\":0},{\"uiCode\":\"A053801ANNNAG01\",\"insuName\":\"주보험\",\"name\":\"주요치주질환치료보험금\",\"content\":\"치과치료보장개시일 이후에 「국민건강보험법에서 정한 보험급여 또는 의료급여법에서 정한 의료급여」에서 치주질환(잇몸질환)치료가 필요하다고 인정한 기준에 해당되는 주요치주질환(잇몸질환)치료를 받은 경우\",\"amt\":\"1만원\",\"contAmt\":0},{\"uiCode\":\"A053801ANNNAG01\",\"insuName\":\"주보험\",\"name\":\"치석제거치료보험금\",\"content\":\"치과치료보장개시일 이후에 「국민건강보험법에서 정한 보험급여 또는 의료급여법에서 정한 의료급여」에서 치주질환(잇몸질환)치료를 목적으로 치석제거치료가 필요하다고 인정한 기준에 해당되는 치석제거치료를 받은 경우 (연간 1회한)\",\"amt\":\"0.5만원\",\"contAmt\":0},{\"uiCode\":\"A053801ANNNAG01\",\"insuName\":\"주보험\",\"name\":\"구내방사선촬영보험금\",\"content\":\"방사선/파노라마촬영보장개시일 이후에 「국민건강보험법에서정한 보험급여 또는 의료급여법에서 정한 의료급여」에서 구내방사선 촬영이 필요하다고 인정한 기준에 해당되는 구내방사선 촬영을 받은 경우 (촬영 1회당)\",\"amt\":\"0.25만원\",\"contAmt\":0},{\"uiCode\":\"A053801ANNNAG01\",\"insuName\":\"주보험\",\"name\":\"파노라마촬영보험금\",\"content\":\"방사선/파노라마촬영보장개시일 이후에 「국민건강보험법에서 정한 보험급여 또는 의료급여법에서 정한 의료급여」에서 파노라마 촬영이 필요하다고 인정한 기준에 해당되는 파노라마 촬영을 받은 경우 (연간 1회한) (촬영 1회당)\",\"amt\":\"0.5만원\",\"contAmt\":0},{\"uiCode\":\"A053801ANNNAG01\",\"insuName\":\"주보험\",\"name\":\"영구치유지보험금\",\"content\":\"보험기간 중 영구치가 단 한 개도 상실되지 않고 보험기간이 끝날때까지 살아있을 경우 (단, 계약을 체결할 때 피보험자 가입나이가 70세 이상인 경우는 제외)\",\"amt\":\"25만원\",\"contAmt\":0},{\"uiCode\":\"A053801ANNNAG01\",\"insuName\":\"주보험\",\"name\":\"만기보험금\",\"content\":\"보험기간이 끝날 때까지 살아 있을 경우 (단, 계약을 체결할 때 피보험자 가입나이가 70세 이상인 경우는 제외)\",\"amt\":\"25만원\",\"contAmt\":0},{\"uiCode\":\"I059401ANNNAG01\",\"insuName\":\"보철치료추가보장특약D(재가입형,무배당)\",\"name\":\"영구치보철치료보험금 [임플란트치료]\",\"content\":\"보철치료보장개시일 이후에 보장의 대상이 되는 \\\\\"영구치 발치\\\\\"의 원인으로 영구치를 발치하고, 해당 영구치를 발치한 부위에 보철 치료(임플란트치료)를 받은 경우 (영구치발치 1개당)\",\"amt\":\"25만원\",\"contAmt\":0},{\"uiCode\":\"I059401ANNNAG01\",\"insuName\":\"보철치료추가보장특약D(재가입형,무배당)\",\"name\":\"영구치보철치료보험금 [고정성가공의치(브릿지)치료]\",\"content\":\"보철치료보장개시일 이후에 보장의 대상이 되는 \\\\\"영구치 발치\\\\\"의 원인으로 영구치를 발치하고, 해당 영구치를 발치한 부위에 보철 치료(고정성가공의치(브릿지)치료)를 받은 경우 (영구치발치 1개당)\",\"amt\":\"12.5만원\",\"contAmt\":0},{\"uiCode\":\"I059401ANNNAG01\",\"insuName\":\"보철치료추가보장특약D(재가입형,무배당)\",\"name\":\"영구치보철치료보험금 [가철성의치(틀니)치료]\",\"content\":\"보철치료보장개시일 이후에 보장의 대상이 되는 \\\\\"영구치 발치\\\\\"의 원인으로 영구치를 발치하고, 해당 영구치를 발치한 부위에 보철 치료(가철성의치(틀니)치료)를 받은 경우 (보철물당)\",\"amt\":\"25만원\",\"contAmt\":0},{\"uiCode\":\"I059401ANNNAG01\",\"insuName\":\"보철치료추가보장특약D(재가입형,무배당)\",\"name\":\"\",\"content\":\"※ 임플란트치료 및 고정성가공의치(브릿지)치료의 경우 계약일부터 2년이내는 연간 3개한도로 보장하며, 계약일부터 2년 초과시 한도 제한 없음, 가철성의치(틀니)치료의 경우 연간 1회 한도로 보장\",\"amt\":\"\",\"contAmt\":0},{\"uiCode\":\"I059601ANNNAG01\",\"insuName\":\"보존치료추가보장특약D(재가입형,무배당)\",\"name\":\"보존치료보험금 [인레이,온레이]\",\"content\":\"\\\\\"보존치료보장개시일 이후에 치아에 대하여 \\'치아우식증(충치) 또는 치주질환(잇몸질환)\\'으로 진단 확정 받고 해당 치아에 대하여 최초로 보존치료(인레이,온레이)를 받은 경우\\\\\" 또는 \\\\\"보험기간 중 발생한 재해를 직접적인 원인으로 해당 치아에 대하여 최초로 보존치료(인레이,온레이)를 받은 경우\\\\\" (치료한 치아 1개당)\",\"amt\":\"2.5만원\",\"contAmt\":0},{\"uiCode\":\"I059601ANNNAG01\",\"insuName\":\"보존치료추가보장특약D(재가입형,무배당)\",\"name\":\"보존치료보험금 [복합레진]\",\"content\":\"\\\\\"보존치료보장개시일 이후에 치아에 대하여 \\'치아우식증(충치) 또는 치주질환(잇몸질환)\\'으로 진단 확정 받고 해당 치아에 대하여 최초로 보존치료(복합레진)를 받은 경우\\\\\" 또는 \\\\\"보험기간 중 발생한 재해를 직접적인 원인으로 해당 치아에 대하여 최초로 보존치료(복합레진)를 받은 경우\\\\\" (치료한 치아 1개당)\",\"amt\":\"5만원\",\"contAmt\":0},{\"uiCode\":\"I059601ANNNAG01\",\"insuName\":\"보존치료추가보장특약D(재가입형,무배당)\",\"name\":\"보존치료보험금 [아말감,글래스아이노머]\",\"content\":\"\\\\\"보존치료보장개시일 이후에 치아에 대하여 \\'치아우식증(충치) 또는 치주질환(잇몸질환)\\'으로 진단 확정 받고 해당 치아에 대하여 최초로 보존치료(아말감,글래스아이노머)를 받은 경우\\\\\" 또는 \\\\\"보험기간 중 발생한 재해를 직접적인 원인으로 해당 치아에 대하여 최초로 보존치료(아말감,글래스아이노머)를 받은 경우\\\\\" (치료한 치아 1개당)\",\"amt\":\"1만원\",\"contAmt\":0},{\"uiCode\":\"I059801ANNNAG01\",\"insuName\":\"영구치상실위로금특약D(재가입형,무배당)\",\"name\":\"영구치상실위로금\",\"content\":\"영구치상실보장개시일 이후에 보장의 대상이 되는 \\\\\"영구치 발치\\\\\"의 원인으로 영구치 발치를 받은 경우 (연간 1개 한도) (영구치발치 1개당)\",\"amt\":\"3만원\",\"contAmt\":0}],\"inputObj\":{\"selImplStr\":\"50\",\"proType\":\"15\",\"prcdId\":487,\"prcd\":\"A053801ANNNAG01\",\"insCd\":\"LA0538001\",\"repCd\":\"LQ_GGG0L55L0000_G00\",\"prdtnm\":\"삼성생명 인터넷치아보험(재가입형,무배당)\",\"insrVcd\":\"001\",\"contName\":\"고객님\",\"contBirth\":\"19920523\",\"contGender\":\"2\",\"insuPeriod\":\"10\",\"payPeriod\":\"10\",\"planType\":\"single\",\"planSubType\":\"2\",\"stats\":\"Y\",\"prdtrepcd\":\"LQ_GGG0L55L0000_G00\",\"inscd\":\"LA0538001\",\"planSeq\":\"20190802164243677082\",\"jobCode\":\"012212\",\"jobRskGrdCd\":\"0\",\"jobHspzRskGrdCd\":\"0\",\"jobInjryRskGrdCd\":\"0\",\"carKndCd\":\"00\",\"carRskGd\":\"0\",\"ssn1\":\"920523\",\"ssn2\":\"2000000\",\"contAmt\":\"5000000\",\"contAmtSp\":\"0\",\"isAnnuity\":\"N\",\"isVariable\":\"N\",\"annuityAge\":\"0\",\"premium\":\"19580\",\"treatyList\":[{\"pname\":\"보철치료추가보장특약D(재가입형,무배당)\",\"insCd\":\"I059401ANNNAG01\",\"contAmt\":\"5000000\",\"insrVcd\":\"001\"},{\"pname\":\"보존치료추가보장특약D(재가입형,무배당)\",\"insCd\":\"I059601ANNNAG01\",\"contAmt\":\"5000000\",\"insrVcd\":\"001\"},{\"pname\":\"영구치상실위로금특약D(재가입형,무배당)\",\"insCd\":\"I059801ANNNAG01\",\"contAmt\":\"1000000\",\"insrVcd\":\"001\"}]}},{\"returnMoney\":1000000,\"returnRatio\":17.0,\"nowRate\":\"2.5\",\"nowRateArry\":[{\"totTerm\":\"3개월\",\"napMoney\":146706,\"rtnMoney\":0,\"RtnRatio\":\"0.0\"},{\"totTerm\":\"6개월\",\"napMoney\":293412,\"rtnMoney\":0,\"RtnRatio\":\"0.0\"},{\"totTerm\":\"9개월\",\"napMoney\":440118,\"rtnMoney\":0,\"RtnRatio\":\"0.0\"},{\"totTerm\":\"1년\",\"napMoney\":586824,\"rtnMoney\":0,\"RtnRatio\":\"0.0\"},{\"totTerm\":\"2년\",\"napMoney\":1173648,\"rtnMoney\":0,\"RtnRatio\":\"0.0\"},{\"totTerm\":\"3년\",\"napMoney\":1760472,\"rtnMoney\":0,\"RtnRatio\":\"0.0\"},{\"totTerm\":\"4년\",\"napMoney\":2347296,\"rtnMoney\":133040,\"RtnRatio\":\"5.6\"},{\"totTerm\":\"5년\",\"napMoney\":2934120,\"rtnMoney\":348190,\"RtnRatio\":\"11.8\"},{\"totTerm\":\"6년\",\"napMoney\":3520944,\"rtnMoney\":579000,\"RtnRatio\":\"16.4\"},{\"totTerm\":\"7년\",\"napMoney\":4107768,\"rtnMoney\":802500,\"RtnRatio\":\"19.5\"},{\"totTerm\":\"8년\",\"napMoney\":4694592,\"rtnMoney\":884510,\"RtnRatio\":\"18.8\"},{\"totTerm\":\"9년\",\"napMoney\":5281416,\"rtnMoney\":950210,\"RtnRatio\":\"17.9\"},{\"totTerm\":\"10년\",\"napMoney\":5868240,\"rtnMoney\":1000000,\"RtnRatio\":\"17.0\"}],\"nowRateArry2\":[{\"napMoney\":146706.0},{\"napMoney\":293412.0},{\"napMoney\":440118.0},{\"napMoney\":586824.0},{\"napMoney\":1173648.0},{\"napMoney\":1760472.0},{\"napMoney\":2347296.0},{\"napMoney\":2934120.0},{\"napMoney\":3520824.0},{\"napMoney\":4107528.0},{\"napMoney\":4694232.0},{\"napMoney\":5280936.0},{\"napMoney\":5867640.0}],\"totNapMoney\":5867640,\"totPremium\":48902,\"padSmtotPrm\":48902,\"stdYear\":2019,\"stdMonth\":8,\"guaranteeArry\":[{\"uiCode\":\"A053801ANNNAG01\",\"insuName\":\"주보험\",\"name\":\"영구치보철치료보험금 [임플란트치료]\",\"content\":\"치과치료보장개시일 이후에 보장의 대상이 되는 \\\\\"영구치 발치\\\\\"의 원인으로 영구치를 발치하고, 해당 영구치를 발치한 부위에 보철 치료(임플란트치료)를 받은 경우 (영구치발치 1개당)\",\"amt\":\"50만원\",\"contAmt\":0},{\"uiCode\":\"A053801ANNNAG01\",\"insuName\":\"주보험\",\"name\":\"영구치보철치료보험금 [고정성가공의치(브릿지)치료]\",\"content\":\"치과치료보장개시일 이후에 보장의 대상이 되는 \\\\\"영구치 발치\\\\\"의 원인으로 영구치를 발치하고, 해당 영구치를 발치한 부위에 보철 치료(고정성가공의치(브릿지)치료)를 받은 경우 (영구치발치 1개당)\",\"amt\":\"25만원\",\"contAmt\":0},{\"uiCode\":\"A053801ANNNAG01\",\"insuName\":\"주보험\",\"name\":\"영구치보철치료보험금 [가철성의치(틀니)치료]\",\"content\":\"치과치료보장개시일 이후에 보장의 대상이 되는 \\\\\"영구치 발치\\\\\"의 원인으로 영구치를 발치하고, 해당 영구치를 발치한 부위에 보철 치료(가철성의치(틀니)치료)를 받은 경우 (보철물당)\",\"amt\":\"50만원\",\"contAmt\":0},{\"uiCode\":\"A053801ANNNAG01\",\"insuName\":\"주보험\",\"name\":\"\",\"content\":\"※ 임플란트치료 및 고정성가공의치(브릿지)치료의 경우 계약일부터 2년이내 연간 3개한도로 보장하며, 계약일부터 2년 초과시 한도 제한 없음. 가철성의치(틀니)치료의 경우 연간 1회 한도로 보장\",\"amt\":\"\",\"contAmt\":0},{\"uiCode\":\"A053801ANNNAG01\",\"insuName\":\"주보험\",\"name\":\"크라운치료보험금\",\"content\":\"\\\\\"치과치료보장개시일 이후에 치아에 대하여 \\'치아우식증(충치) 또는 치주질환(잇몸질환)\\'으로 진단 확정 받고 해당 치아에 대하여 최초로 크라운치료를 받은 경우\\\\\" 또는 \\\\\"보험기간 중 발생한 재해를 직접적인 원인으로 해당 치아에 대하여 최초로 크라운 치료를 받은 경우\\\\\" (연간 「유치3개 및 영구치3개」한도) (치료한 치아 1개당)\",\"amt\":\"25만원\",\"contAmt\":0},{\"uiCode\":\"A053801ANNNAG01\",\"insuName\":\"주보험\",\"name\":\"보존치료보험금 [인레이, 온레이]\",\"content\":\"치과치료보장개시일 이후에 치아에 대하여 치아우식증(충치) 또는 치주질환(잇몸질환)으로 진단 확정 받고 해당 치아에 대하여 최초로 보존치료(인레이, 온레이)를 받은 경우 또는 보험기간 중 발생한 재해를 직접적인 원인으로 해당 치아에 대하여 최초로 보존치료(인레이, 온레이)를 받은 경우 (치료한 치아 1개당)\",\"amt\":\"15만원\",\"contAmt\":0},{\"uiCode\":\"A053801ANNNAG01\",\"insuName\":\"주보험\",\"name\":\"보존치료보험금 [복합레진]\",\"content\":\"\\\\\"치과치료보장개시일 이후에 치아에 대하여 \\'치아우식증(충치) 또는 치주질환(잇몸질환)\\'으로 진단 확정 받고 해당 치아에 대하여 최초로 보존치료(복합레진)를 받은 경우\\\\\" 또는 \\\\\"보험기간 중 발생한 재해를 직접적인 원인으로 해당 치아에 대하여 최초로 보존치료(복합레진)를 받은 경우\\\\\" (치료한 치아 1개당)\",\"amt\":\"5만원\",\"contAmt\":0},{\"uiCode\":\"A053801ANNNAG01\",\"insuName\":\"주보험\",\"name\":\"보존치료보험금 [아말감,글래스아이노머]\",\"content\":\"치과치료보장개시일 이후에 치아에 대하여 치아우식증(충치) 또는 치주질환(잇몸질환)으로 진단 확정 받고 해당 치아에 대하여 최초로 보존치료(아말감,글래스아이노머)를 받은 경우 또는 보험기간 중 발생한 재해를 직접적인 원인으로 해당 치아에 대하여 최초로 보존치료(아말감,글래스아이노머)를 받은 경우 (치료한 치아 1개당)\",\"amt\":\"1만원\",\"contAmt\":0},{\"uiCode\":\"A053801ANNNAG01\",\"insuName\":\"주보험\",\"name\":\"영구치발치보험금\",\"content\":\"치과치료보장개시일 이후에 보장의 대상이 되는 \\\\\"영구치 발치\\\\\"의 원인으로 영구치 발치를 받은 경우 (영구치발치 1개당)\",\"amt\":\"2만원\",\"contAmt\":0},{\"uiCode\":\"A053801ANNNAG01\",\"insuName\":\"주보험\",\"name\":\"치수치료보험금\",\"content\":\"\\\\\"치과치료보장개시일 이후에 치아에 대하여 \\'치아우식증(충치) 또는치주질환(잇몸질환)\\'으로 진단 확정 받고 해당 치아에 대하여 최초로 치수치료(신경치료)를 받은 경우\\\\\" 또는 \\\\\"보험기간 중 발생한 재해를 직접적인 원인으로 해당 치아에 대하여 최초로 치수치료(신경치료)를 받은 경우\\\\\" (치료한 치아 1개당)\",\"amt\":\"2만원\",\"contAmt\":0},{\"uiCode\":\"A053801ANNNAG01\",\"insuName\":\"주보험\",\"name\":\"주요치주질환치료보험금\",\"content\":\"치과치료보장개시일 이후에 「국민건강보험법에서 정한 보험급여 또는 의료급여법에서 정한 의료급여」에서 치주질환(잇몸질환)치료가 필요하다고 인정한 기준에 해당되는 주요치주질환(잇몸질환)치료를 받은 경우\",\"amt\":\"2만원\",\"contAmt\":0},{\"uiCode\":\"A053801ANNNAG01\",\"insuName\":\"주보험\",\"name\":\"치석제거치료보험금\",\"content\":\"치과치료보장개시일 이후에 「국민건강보험법에서 정한 보험급여 또는 의료급여법에서 정한 의료급여」에서 치주질환(잇몸질환)치료를 목적으로 치석제거치료가 필요하다고 인정한 기준에 해당되는 치석제거치료를 받은 경우 (연간 1회한)\",\"amt\":\"1만원\",\"contAmt\":0},{\"uiCode\":\"A053801ANNNAG01\",\"insuName\":\"주보험\",\"name\":\"구내방사선촬영보험금\",\"content\":\"방사선/파노라마촬영보장개시일 이후에 「국민건강보험법에서정한 보험급여 또는 의료급여법에서 정한 의료급여」에서 구내방사선 촬영이 필요하다고 인정한 기준에 해당되는 구내방사선 촬영을 받은 경우 (촬영 1회당)\",\"amt\":\"0.5만원\",\"contAmt\":0},{\"uiCode\":\"A053801ANNNAG01\",\"insuName\":\"주보험\",\"name\":\"파노라마촬영보험금\",\"content\":\"방사선/파노라마촬영보장개시일 이후에 「국민건강보험법에서 정한 보험급여 또는 의료급여법에서 정한 의료급여」에서 파노라마 촬영이 필요하다고 인정한 기준에 해당되는 파노라마 촬영을 받은 경우 (연간 1회한) (촬영 1회당)\",\"amt\":\"1만원\",\"contAmt\":0},{\"uiCode\":\"A053801ANNNAG01\",\"insuName\":\"주보험\",\"name\":\"영구치유지보험금\",\"content\":\"보험기간 중 영구치가 단 한 개도 상실되지 않고 보험기간이 끝날때까지 살아있을 경우 (단, 계약을 체결할 때 피보험자 가입나이가 70세 이상인 경우는 제외)\",\"amt\":\"50만원\",\"contAmt\":0},{\"uiCode\":\"A053801ANNNAG01\",\"insuName\":\"주보험\",\"name\":\"만기보험금\",\"content\":\"보험기간이 끝날 때까지 살아 있을 경우 (단, 계약을 체결할 때 피보험자 가입나이가 70세 이상인 경우는 제외)\",\"amt\":\"50만원\",\"contAmt\":0},{\"uiCode\":\"I059401ANNNAG01\",\"insuName\":\"보철치료추가보장특약D(재가입형,무배당)\",\"name\":\"영구치보철치료보험금 [임플란트치료]\",\"content\":\"보철치료보장개시일 이후에 보장의 대상이 되는 \\\\\"영구치 발치\\\\\"의 원인으로 영구치를 발치하고, 해당 영구치를 발치한 부위에 보철 치료(임플란트치료)를 받은 경우 (영구치발치 1개당)\",\"amt\":\"150만원\",\"contAmt\":0},{\"uiCode\":\"I059401ANNNAG01\",\"insuName\":\"보철치료추가보장특약D(재가입형,무배당)\",\"name\":\"영구치보철치료보험금 [고정성가공의치(브릿지)치료]\",\"content\":\"보철치료보장개시일 이후에 보장의 대상이 되는 \\\\\"영구치 발치\\\\\"의 원인으로 영구치를 발치하고, 해당 영구치를 발치한 부위에 보철 치료(고정성가공의치(브릿지)치료)를 받은 경우 (영구치발치 1개당)\",\"amt\":\"75만원\",\"contAmt\":0},{\"uiCode\":\"I059401ANNNAG01\",\"insuName\":\"보철치료추가보장특약D(재가입형,무배당)\",\"name\":\"영구치보철치료보험금 [가철성의치(틀니)치료]\",\"content\":\"보철치료보장개시일 이후에 보장의 대상이 되는 \\\\\"영구치 발치\\\\\"의 원인으로 영구치를 발치하고, 해당 영구치를 발치한 부위에 보철 치료(가철성의치(틀니)치료)를 받은 경우 (보철물당)\",\"amt\":\"150만원\",\"contAmt\":0},{\"uiCode\":\"I059401ANNNAG01\",\"insuName\":\"보철치료추가보장특약D(재가입형,무배당)\",\"name\":\"\",\"content\":\"※ 임플란트치료 및 고정성가공의치(브릿지)치료의 경우 계약일부터 2년이내는 연간 3개한도로 보장하며, 계약일부터 2년 초과시 한도 제한 없음, 가철성의치(틀니)치료의 경우 연간 1회 한도로 보장\",\"amt\":\"\",\"contAmt\":0},{\"uiCode\":\"R024101ANNNNNNN\",\"insuName\":\"특정얼굴수술보장특약D5(갱신형,무배당)\",\"name\":\"특정안과질환수술보험금\",\"content\":\"보험기간 중 \\\\\"특정안과질환(3대안과질환 제외)\\\\\"으로 진단이 확정되고, 그 \\\\\"특정안과질환(3대안과질환 제외)\\\\\"의 직접적인 치료를 목적으로 수술을 받은 경우 (연간 최초 1회한)\",\"amt\":\"20만원\",\"contAmt\":0},{\"uiCode\":\"R024101ANNNNNNN\",\"insuName\":\"특정얼굴수술보장특약D5(갱신형,무배당)\",\"name\":\"특정후각질환수술보험금\",\"content\":\"보험기간 중 \\\\\"특정후각질환\\\\\"으로 진단이 확정되고, 그 \\\\\"특정후각질환\\\\\"의 직접적인 치료를 목적으로 수술을 받은 경우 (연간 최초 1회한)\",\"amt\":\"20만원\",\"contAmt\":0},{\"uiCode\":\"R024101ANNNNNNN\",\"insuName\":\"특정얼굴수술보장특약D5(갱신형,무배당)\",\"name\":\"특정청각질환수술보험금\",\"content\":\"보험기간 중 \\\\\"특정청각질환\\\\\"으로 진단이 확정되고, 그 \\\\\"특정청각질환\\\\\"의 직접적인 치료를 목적으로 수술을 받은 경우 (연간 최초 1회한)\",\"amt\":\"20만원\",\"contAmt\":0},{\"uiCode\":\"R024101ANNNNNNN\",\"insuName\":\"특정얼굴수술보장특약D5(갱신형,무배당)\",\"name\":\"특정외모상해수술보험금\",\"content\":\"보험기간 중 발생한 재해를 직접적인 원인으로 \\\\\"특정외모상해\\\\\"로 진단이 확정되고, 그 \\\\\"특정외모상해\\\\\"의 직접적인 치료를 목적으로 수술을 받은 경우 (연간 최초 1회한)\",\"amt\":\"30만원\",\"contAmt\":0},{\"uiCode\":\"R024101ANNNNNNN\",\"insuName\":\"특정얼굴수술보장특약D5(갱신형,무배당)\",\"name\":\"\",\"content\":\"※ 특정얼굴수술보장특약D5(갱신형,무배당)의 \\\\\"특정안과질환\\\\\", \\\\\"특정후각질환\\\\\", \\\\\"특정청각질환\\\\\" 및 \\\\\"특정외모상해\\\\\"의 정의는 약관을 참고하시기 바랍니다.\",\"amt\":\"\",\"contAmt\":0},{\"uiCode\":\"I059501ANNNAG01\",\"insuName\":\"크라운치료추가보장특약D(재가입형,무배당)\",\"name\":\"크라운치료보험금\",\"content\":\"\\\\\"크라운치료보장개시일 이후에 치아에 대하여 \\'치아우식증(충치) 또는 치주질환(잇몸질환)\\'으로 진단 확정 받고 해당 치아에 대하여 최초로 크라운치료를 받은 경우\\\\\" 또는 \\\\\"보험기간 중 발생한 재해를 직접적인 원인으로 해당 치아에 대하여 최초로 크라운 치료를 받은 경우\\\\\" (연간 「유치3개 및 영구치3개」한도) (치료한 치아 1개당)\",\"amt\":\"15만원\",\"contAmt\":0},{\"uiCode\":\"I059601ANNNAG01\",\"insuName\":\"보존치료추가보장특약D(재가입형,무배당)\",\"name\":\"보존치료보험금 [인레이,온레이]\",\"content\":\"\\\\\"보존치료보장개시일 이후에 치아에 대하여 \\'치아우식증(충치) 또는 치주질환(잇몸질환)\\'으로 진단 확정 받고 해당 치아에 대하여 최초로 보존치료(인레이,온레이)를 받은 경우\\\\\" 또는 \\\\\"보험기간 중 발생한 재해를 직접적인 원인으로 해당 치아에 대하여 최초로 보존치료(인레이,온레이)를 받은 경우\\\\\" (치료한 치아 1개당)\",\"amt\":\"5만원\",\"contAmt\":0},{\"uiCode\":\"I059601ANNNAG01\",\"insuName\":\"보존치료추가보장특약D(재가입형,무배당)\",\"name\":\"보존치료보험금 [복합레진]\",\"content\":\"\\\\\"보존치료보장개시일 이후에 치아에 대하여 \\'치아우식증(충치) 또는 치주질환(잇몸질환)\\'으로 진단 확정 받고 해당 치아에 대하여 최초로 보존치료(복합레진)를 받은 경우\\\\\" 또는 \\\\\"보험기간 중 발생한 재해를 직접적인 원인으로 해당 치아에 대하여 최초로 보존치료(복합레진)를 받은 경우\\\\\" (치료한 치아 1개당)\",\"amt\":\"10만원\",\"contAmt\":0},{\"uiCode\":\"I059601ANNNAG01\",\"insuName\":\"보존치료추가보장특약D(재가입형,무배당)\",\"name\":\"보존치료보험금 [아말감,글래스아이노머]\",\"content\":\"\\\\\"보존치료보장개시일 이후에 치아에 대하여 \\'치아우식증(충치) 또는 치주질환(잇몸질환)\\'으로 진단 확정 받고 해당 치아에 대하여 최초로 보존치료(아말감,글래스아이노머)를 받은 경우\\\\\" 또는 \\\\\"보험기간 중 발생한 재해를 직접적인 원인으로 해당 치아에 대하여 최초로 보존치료(아말감,글래스아이노머)를 받은 경우\\\\\" (치료한 치아 1개당)\",\"amt\":\"2만원\",\"contAmt\":0},{\"uiCode\":\"I059701ANNNAG01\",\"insuName\":\"소액치과치료추가보장특약D(재가입형,무배당)\",\"name\":\"영구치발치보험금\",\"content\":\"소액치과치료보장개시일 이후에 보장의 대상이 되는 \\\\\"영구치 발치\\\\\"의 원인으로 영구치 발치를 받은 경우 (영구치발치 1개당)\",\"amt\":\"10만원\",\"contAmt\":0},{\"uiCode\":\"I059701ANNNAG01\",\"insuName\":\"소액치과치료추가보장특약D(재가입형,무배당)\",\"name\":\"치수치료보험금\",\"content\":\"\\\\\"소액치과치료보장개시일 이후에 치아에 대하여 \\'치아우식증(충치) 또는 치주질환(잇몸질환)\\'으로 진단 확정 받고 해당 치아에 대하여 최초로 치수치료(신경치료)를 받은 경우\\\\\" 또는 \\\\\"보험기간 중 발생한 재해를 직접적인 원인으로 해당 치아에 대하여 최초로 치수치료(신경치료)를 받은 경우\\\\\" (치료한 치아 1개당)\",\"amt\":\"1만원\",\"contAmt\":0},{\"uiCode\":\"I059701ANNNAG01\",\"insuName\":\"소액치과치료추가보장특약D(재가입형,무배당)\",\"name\":\"구내방사선촬영보험금\",\"content\":\"방사선촬영보장개시일 이후에「국민건강보험법에서 정한 보험급여 또는 의료급여법에서 정한 의료급여」에서 구내방사선 촬영이 필요하다고 인정한 기준에 해당되는 구내방사선 촬영을 받은 경우 (촬영 1회당)\",\"amt\":\"0.5만원\",\"contAmt\":0},{\"uiCode\":\"R024001ANNNNNNN\",\"insuName\":\"각막이식수술보장특약D5(갱신형,무배당)\",\"name\":\"각막이식수술보험금\",\"content\":\"보험기간 중 \\\\\"각막이식수술\\\\\"을 받은 경우(각막공여자에 대한 수술은 제외) (좌안, 우안, 양안 중 최초 1회한)\",\"amt\":\"1,000만원\",\"contAmt\":0},{\"uiCode\":\"R024201ANNNNNNN\",\"insuName\":\"3대안과질환수술보장특약D5(갱신형,무배당)[녹내장]\",\"name\":\"녹내장수술보험금\",\"content\":\"보험기간 중 \\\\\"녹내장\\\\\"으로 진단이 확정되고, 그 \\\\\"녹내장\\\\\"의 직접적인 치료를 목적으로 수술을 받은 경우 (좌안,우안,양안 중 최초 1회한)\",\"amt\":\"50만원\",\"contAmt\":0},{\"uiCode\":\"R024301ANNNNNNN\",\"insuName\":\"3대안과질환수술보장특약D5(갱신형,무배당)[황반변성질환]\",\"name\":\"황반변성질환수술보험금\",\"content\":\"보험기간 중 \\\\\"황반변성질환\\\\\"으로 진단이 확정되고, 그 \\\\\"황반변성질환\\\\\"의 직접적인 치료를 목적으로 수술을 받은 경우 (좌안, 우안, 양안 중 최초 1회한)\",\"amt\":\"70만원\",\"contAmt\":0},{\"uiCode\":\"R024401ANNNNNNN\",\"insuName\":\"3대안과질환수술보장특약D5(갱신형,무배당)[당뇨병성망막질환]\",\"name\":\"당뇨병성망막질환수술보험금\",\"content\":\"보험기간 중 \\\\\"당뇨병성망막질환\\\\\"으로 진단이 확정되고, 그 \\\\\"당뇨병성망막질환\\\\\"의 직접적인 치료를 목적으로 수술을 받은 경우 (좌안, 우안, 양안 중 최초 1회한)\",\"amt\":\"70만원\",\"contAmt\":0}],\"inputObj\":{\"selImplStr\":\"50\",\"proType\":\"15\",\"prcdId\":487,\"prcd\":\"A053801ANNNAG01\",\"insCd\":\"LA0538001\",\"repCd\":\"LQ_GGG0L55L0000_G00\",\"prdtnm\":\"삼성생명 인터넷치아보험(재가입형,무배당)\",\"insrVcd\":\"001\",\"contName\":\"고객님\",\"contBirth\":\"19920523\",\"contGender\":\"2\",\"insuPeriod\":\"10\",\"payPeriod\":\"10\",\"planType\":\"template\",\"planSubType\":\"2\",\"stats\":\"\",\"prdtrepcd\":\"LQ_GGG0L55L0000_G00\",\"inscd\":\"LA0538001\",\"planSeq\":\"20190802164234423331\",\"jobCode\":\"012212\",\"jobRskGrdCd\":\"0\",\"jobHspzRskGrdCd\":\"0\",\"jobInjryRskGrdCd\":\"0\",\"carKndCd\":\"00\",\"carRskGd\":\"0\",\"ssn1\":\"920523\",\"ssn2\":\"2000000\",\"contAmt\":\"10000000\",\"contAmtSp\":\"0\",\"isAnnuity\":\"N\",\"isVariable\":\"N\",\"annuityAge\":\"0\",\"premium\":\"48902\",\"treatyList\":[{\"pname\":\"보철치료추가보장특약D(재가입형,무배당)\",\"insCd\":\"I059401ANNNAG01\",\"contAmt\":\"30000000\",\"insrVcd\":\"001\"},{\"pname\":\"특정얼굴수술보장특약D5(갱신형,무배당)\",\"insCd\":\"R024101ANNNNNNN\",\"contAmt\":\"10000000\",\"insrVcd\":\"001\"},{\"pname\":\"크라운치료추가보장특약D(재가입형,무배당)\",\"insCd\":\"I059501ANNNAG01\",\"contAmt\":\"30000000\",\"insrVcd\":\"001\"},{\"pname\":\"보존치료추가보장특약D(재가입형,무배당)\",\"insCd\":\"I059601ANNNAG01\",\"contAmt\":\"10000000\",\"insrVcd\":\"001\"},{\"pname\":\"소액치과치료추가보장특약D(재가입형,무배당)\",\"insCd\":\"I059701ANNNAG01\",\"contAmt\":\"10000000\",\"insrVcd\":\"001\"},{\"pname\":\"각막이식수술보장특약D5(갱신형,무배당)\",\"insCd\":\"R024001ANNNNNNN\",\"contAmt\":\"10000000\",\"insrVcd\":\"001\"},{\"pname\":\"3대안과질환수술보장특약D5(갱신형,무배당)[녹내장]\",\"insCd\":\"R024201ANNNNNNN\",\"contAmt\":\"10000000\",\"insrVcd\":\"001\"},{\"pname\":\"3대안과질환수술보장특약D5(갱신형,무배당)[황반변성질환]\",\"insCd\":\"R024301ANNNNNNN\",\"contAmt\":\"10000000\",\"insrVcd\":\"001\"},{\"pname\":\"3대안과질환수술보장특약D5(갱신형,무배당)[당뇨병성망막질환]\",\"insCd\":\"R024401ANNNNNNN\",\"contAmt\":\"10000000\",\"insrVcd\":\"001\"}]}}],\"success\":true,\"message\":\"정상처리되었습니다.\"}'"
      ]
     },
     "execution_count": 83,
     "metadata": {},
     "output_type": "execute_result"
    }
   ],
   "source": [
    "response.text"
   ]
  },
  {
   "cell_type": "code",
   "execution_count": 84,
   "metadata": {},
   "outputs": [],
   "source": [
    "guarantee = json.loads(response.text)"
   ]
  },
  {
   "cell_type": "code",
   "execution_count": 99,
   "metadata": {},
   "outputs": [],
   "source": [
    "import re"
   ]
  },
  {
   "cell_type": "code",
   "execution_count": 114,
   "metadata": {},
   "outputs": [
    {
     "name": "stdout",
     "output_type": "stream",
     "text": [
      "{'uiCode': 'A053801ANNNAG01', 'insuName': '주보험', 'name': '영구치보철치료보험금 [임플란트치료]', 'content': '치과치료보장개시일 이후에 보장의 대상이 되는 \"영구치 발치\"의 원인으로 영구치를 발치하고, 해당 영구치를 발치한 부위에 보철 치료(임플란트치료)를 받은 경우 (영구치발치 1개당)', 'amt': '25만원', 'contAmt': 0}\n",
      "{'uiCode': 'I059401ANNNAG01', 'insuName': '보철치료추가보장특약D(재가입형,무배당)', 'name': '영구치보철치료보험금 [임플란트치료]', 'content': '보철치료보장개시일 이후에 보장의 대상이 되는 \"영구치 발치\"의 원인으로 영구치를 발치하고, 해당 영구치를 발치한 부위에 보철 치료(임플란트치료)를 받은 경우 (영구치발치 1개당)', 'amt': '25만원', 'contAmt': 0}\n",
      "50\n"
     ]
    }
   ],
   "source": [
    "amt = 0\n",
    "for element in guarantee['arryData'][1]['guaranteeArry'] : \n",
    "    if element['name'] == '영구치보철치료보험금 [임플란트치료]' : \n",
    "        print(element)\n",
    "        amt += int(re.findall(r'([0-9]+)만원',json.dumps(element,ensure_ascii=False))[0])\n",
    "\n",
    "print(amt)"
   ]
  },
  {
   "cell_type": "code",
   "execution_count": 103,
   "metadata": {},
   "outputs": [],
   "source": [
    "test = guarantee['arryData'][1]['guaranteeArry']"
   ]
  },
  {
   "cell_type": "code",
   "execution_count": 111,
   "metadata": {},
   "outputs": [],
   "source": [
    "test[0]\n",
    "\n",
    "test_text = re.findall(r'([0-9]+)만원',json.dumps(test[0],ensure_ascii=False))"
   ]
  },
  {
   "cell_type": "code",
   "execution_count": 112,
   "metadata": {},
   "outputs": [
    {
     "data": {
      "text/plain": [
       "['25']"
      ]
     },
     "execution_count": 112,
     "metadata": {},
     "output_type": "execute_result"
    }
   ],
   "source": [
    "test_text"
   ]
  },
  {
   "cell_type": "code",
   "execution_count": 109,
   "metadata": {},
   "outputs": [
    {
     "data": {
      "text/plain": [
       "'{\"uiCode\": \"A053801ANNNAG01\", \"insuName\": \"주보험\", \"name\": \"영구치보철치료보험금 [임플란트치료]\", \"content\": \"치과치료보장개시일 이후에 보장의 대상이 되는 \\\\\"영구치 발치\\\\\"의 원인으로 영구치를 발치하고, 해당 영구치를 발치한 부위에 보철 치료(임플란트치료)를 받은 경우 (영구치발치 1개당)\", \"amt\": \"25만원\", \"contAmt\": 0}'"
      ]
     },
     "execution_count": 109,
     "metadata": {},
     "output_type": "execute_result"
    }
   ],
   "source": [
    "json.dumps(test[0],ensure_ascii=False)"
   ]
  },
  {
   "cell_type": "markdown",
   "metadata": {},
   "source": [
    "# Flow 구성하기 \n",
    "--- \n",
    "1. selenium으로 고객정보 입력 (나이, 성별)\n",
    "2. requests로 보험료 내역 불러오기 \n",
    "    1. 보험기간, 납입기간은 10년으로 고정\n",
    "    2. 임플란트 치료 보장 금액 변경하면서 데이터 수집 (50,100,150, 200)\n",
    "    3. 실속형, 표준형, 고급형 모두 수집 \n",
    "3. 나이, 성별에 따라 1,2번 반복\n"
   ]
  },
  {
   "cell_type": "code",
   "execution_count": null,
   "metadata": {},
   "outputs": [],
   "source": []
  }
 ],
 "metadata": {
  "kernelspec": {
   "display_name": "Python 3",
   "language": "python",
   "name": "python3"
  },
  "language_info": {
   "codemirror_mode": {
    "name": "ipython",
    "version": 3
   },
   "file_extension": ".py",
   "mimetype": "text/x-python",
   "name": "python",
   "nbconvert_exporter": "python",
   "pygments_lexer": "ipython3",
   "version": "3.7.4"
  }
 },
 "nbformat": 4,
 "nbformat_minor": 2
}
