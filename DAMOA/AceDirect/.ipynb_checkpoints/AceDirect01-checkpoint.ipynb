{
 "cells": [
  {
   "cell_type": "code",
   "execution_count": 2,
   "metadata": {},
   "outputs": [],
   "source": [
    "from selenium import webdriver\n",
    "from bs4 import BeautifulSoup"
   ]
  },
  {
   "cell_type": "code",
   "execution_count": 3,
   "metadata": {},
   "outputs": [],
   "source": [
    "url = 'https://www.acedirect.co.kr/servlets/contract/contractForward.ace?target=pc/contract/step01Dental&cmd=Step01Command&layout=type2'"
   ]
  },
  {
   "cell_type": "code",
   "execution_count": 4,
   "metadata": {},
   "outputs": [],
   "source": [
    "driver = webdriver.Chrome('C:/Users/concat/Desktop/LinaCrawling/CONCAT/chromedriver_win32/chromedriver.exe')"
   ]
  },
  {
   "cell_type": "code",
   "execution_count": 135,
   "metadata": {},
   "outputs": [],
   "source": [
    "driver.get(url)"
   ]
  },
  {
   "cell_type": "code",
   "execution_count": 156,
   "metadata": {},
   "outputs": [],
   "source": [
    "driver.find_element_by_name('insuredBirth').send_keys('750105')"
   ]
  },
  {
   "cell_type": "code",
   "execution_count": 157,
   "metadata": {},
   "outputs": [],
   "source": [
    "sexes = driver.find_elements_by_class_name('radio_type4')"
   ]
  },
  {
   "cell_type": "code",
   "execution_count": 158,
   "metadata": {},
   "outputs": [],
   "source": [
    "# 0은 남자 1은 여자 \n",
    "sexes[1].find_element_by_tag_name('span').click()"
   ]
  },
  {
   "cell_type": "code",
   "execution_count": 159,
   "metadata": {},
   "outputs": [],
   "source": [
    "# 보험기간 및 납입 주기 선택\n",
    "period = driver.find_element_by_name('periodPayFrequency')"
   ]
  },
  {
   "cell_type": "code",
   "execution_count": 160,
   "metadata": {},
   "outputs": [],
   "source": [
    "options = period.find_elements_by_tag_name('option')"
   ]
  },
  {
   "cell_type": "code",
   "execution_count": 161,
   "metadata": {},
   "outputs": [
    {
     "data": {
      "text/plain": [
       "'선택하세요'"
      ]
     },
     "execution_count": 161,
     "metadata": {},
     "output_type": "execute_result"
    }
   ],
   "source": [
    "options[0].text"
   ]
  },
  {
   "cell_type": "code",
   "execution_count": 29,
   "metadata": {},
   "outputs": [],
   "source": [
    "options[1].click()"
   ]
  },
  {
   "cell_type": "code",
   "execution_count": 33,
   "metadata": {},
   "outputs": [],
   "source": [
    "# 유형 선택 무조건 순수 보장형으로만\n",
    "driver.find_element_by_class_name('radio_type2').find_element_by_tag_name('span').click()"
   ]
  },
  {
   "cell_type": "code",
   "execution_count": 34,
   "metadata": {},
   "outputs": [],
   "source": [
    "driver.find_element_by_id('btnNext').click()"
   ]
  },
  {
   "cell_type": "code",
   "execution_count": 35,
   "metadata": {},
   "outputs": [],
   "source": [
    "page = driver.page_source"
   ]
  },
  {
   "cell_type": "code",
   "execution_count": 36,
   "metadata": {},
   "outputs": [],
   "source": [
    "soup = BeautifulSoup(page,'html.parser')"
   ]
  },
  {
   "cell_type": "code",
   "execution_count": 37,
   "metadata": {},
   "outputs": [],
   "source": [
    "result_table = soup.find(id='resultTable')"
   ]
  },
  {
   "cell_type": "code",
   "execution_count": 38,
   "metadata": {},
   "outputs": [],
   "source": [
    "head = result_table.find('thead')\n",
    "body = result_table.find('tbody')"
   ]
  },
  {
   "cell_type": "code",
   "execution_count": 55,
   "metadata": {},
   "outputs": [],
   "source": [
    "head.find(name = 'premium_M20461')"
   ]
  },
  {
   "cell_type": "code",
   "execution_count": 68,
   "metadata": {},
   "outputs": [],
   "source": [
    "# 유형 이름 + 보험료\n",
    "heads = head.find_all(class_ = 'radio_type3')"
   ]
  },
  {
   "cell_type": "code",
   "execution_count": 70,
   "metadata": {},
   "outputs": [
    {
     "data": {
      "text/plain": [
       "'\\n\\n(D)실속형86,310원\\n'"
      ]
     },
     "execution_count": 70,
     "metadata": {},
     "output_type": "execute_result"
    }
   ],
   "source": [
    "heads[0].text"
   ]
  },
  {
   "cell_type": "code",
   "execution_count": 79,
   "metadata": {},
   "outputs": [],
   "source": [
    "import re\n",
    "plan0 = re.findall(r'[가-힣]+|[0-9]+,[0-9]+',(heads[0].text))"
   ]
  },
  {
   "cell_type": "code",
   "execution_count": 80,
   "metadata": {},
   "outputs": [
    {
     "data": {
      "text/plain": [
       "['실속형', '86,310', '원']"
      ]
     },
     "execution_count": 80,
     "metadata": {},
     "output_type": "execute_result"
    }
   ],
   "source": [
    "plan0"
   ]
  },
  {
   "cell_type": "code",
   "execution_count": null,
   "metadata": {},
   "outputs": [],
   "source": []
  },
  {
   "cell_type": "code",
   "execution_count": 81,
   "metadata": {},
   "outputs": [],
   "source": [
    "# 보장내역\n",
    "gu_list = body.find_all('tr')\n"
   ]
  },
  {
   "cell_type": "code",
   "execution_count": 99,
   "metadata": {},
   "outputs": [],
   "source": [
    "test_g = gu_list[17]"
   ]
  },
  {
   "cell_type": "code",
   "execution_count": 100,
   "metadata": {},
   "outputs": [],
   "source": [
    "td_list = test_g.find_all('td')[:4]"
   ]
  },
  {
   "cell_type": "code",
   "execution_count": 101,
   "metadata": {},
   "outputs": [
    {
     "name": "stdout",
     "output_type": "stream",
     "text": [
      "가철성의치(틀니)(연간 1개한도)\n",
      "가입안함\n",
      "가입안함\n",
      "보철물당\n",
      "\t\t\t\t\t\t\t\t\t\t\t\t\t\t50만 원\n"
     ]
    }
   ],
   "source": [
    "for td in td_list : \n",
    "    print(td.get_text().strip())"
   ]
  },
  {
   "cell_type": "code",
   "execution_count": 126,
   "metadata": {},
   "outputs": [],
   "source": [
    "title = list()\n",
    "plan_0 = list()\n",
    "plan_1 = list()\n",
    "plan_2 = list()"
   ]
  },
  {
   "cell_type": "code",
   "execution_count": 127,
   "metadata": {},
   "outputs": [],
   "source": [
    "for gu in gu_list :\n",
    "    gu = gu.find_all('td')[:4]\n",
    "    title.append(gu[0].get_text().replace('\\t','').replace('\\n',''))\n",
    "    plan_0.append(gu[1].get_text().replace('\\t','').replace('\\n',''))\n",
    "    plan_1.append(gu[2].get_text().replace('\\t','').replace('\\n',''))\n",
    "    plan_2.append(gu[3].get_text().replace('\\t','').replace('\\n',''))"
   ]
  },
  {
   "cell_type": "code",
   "execution_count": 225,
   "metadata": {},
   "outputs": [
    {
     "data": {
      "text/plain": [
       "['치아치료(치아미백제외)를 위한 종합구강검진',\n",
       " '치아치료(치아미백제외)를 위한 치석제거(스케일링)',\n",
       " '아말감 충전 (치아당 보상)',\n",
       " '컴퍼짓 레진 (치아당 보상)',\n",
       " '아말감 및 컴퍼짓레진이외의 직접 치아충전치료(치아당 보상)',\n",
       " '골드 인레이/골드 온레이 (치아당 보상)',\n",
       " '골드이외의 간접 치아충전치료(치아당 보상)',\n",
       " '단순 발치 (맹출치아 및 노출된 치근) (치아당 보상)',\n",
       " '정교한 발치(부분적으로 매복된 치아 및 치근) (치아당 보상)',\n",
       " '완전히 매복된 치아의 발치 (치아당 보상)',\n",
       " '구내방사선 및 교익방사선 사진촬영(촬영당 보상)',\n",
       " '파노라마 사진촬영 (촬영당 보상)',\n",
       " '1개 근관치료(엑스레이 포함) (치아당 보상)',\n",
       " '2개 근관치료(엑스레이 포함) (치아당 보상)',\n",
       " '3개 근관치료(엑스레이 포함) (치아당 보상)',\n",
       " '치수절단술 (치아당 보상)',\n",
       " '크라운치료']"
      ]
     },
     "execution_count": 225,
     "metadata": {},
     "output_type": "execute_result"
    }
   ],
   "source": [
    "title"
   ]
  },
  {
   "cell_type": "code",
   "execution_count": 136,
   "metadata": {},
   "outputs": [],
   "source": [
    "page1 = driver.page_source\n",
    "soup = BeautifulSoup(page1, 'html.parser')"
   ]
  },
  {
   "cell_type": "code",
   "execution_count": 144,
   "metadata": {},
   "outputs": [],
   "source": [
    "age_range = soup.find(class_='bullet1').find_all('li')[1]"
   ]
  },
  {
   "cell_type": "code",
   "execution_count": 145,
   "metadata": {},
   "outputs": [],
   "source": [
    "age_range = re.findall(r'[0-9]+',age_range.get_text())"
   ]
  },
  {
   "cell_type": "code",
   "execution_count": 146,
   "metadata": {},
   "outputs": [
    {
     "data": {
      "text/plain": [
       "['1', '60']"
      ]
     },
     "execution_count": 146,
     "metadata": {},
     "output_type": "execute_result"
    }
   ],
   "source": [
    "age_range"
   ]
  },
  {
   "cell_type": "code",
   "execution_count": 162,
   "metadata": {},
   "outputs": [],
   "source": [
    "import pandas as pd"
   ]
  },
  {
   "cell_type": "code",
   "execution_count": 169,
   "metadata": {},
   "outputs": [],
   "source": [
    "column_list = ['생년월일','성별','유형']"
   ]
  },
  {
   "cell_type": "code",
   "execution_count": 170,
   "metadata": {},
   "outputs": [],
   "source": [
    "for title_ in title:\n",
    "    column_list.append(title_)"
   ]
  },
  {
   "cell_type": "code",
   "execution_count": 171,
   "metadata": {},
   "outputs": [],
   "source": [
    "column_list.append('보험료')"
   ]
  },
  {
   "cell_type": "code",
   "execution_count": 172,
   "metadata": {},
   "outputs": [
    {
     "data": {
      "text/plain": [
       "['생년월일',\n",
       " '성별',\n",
       " '유형',\n",
       " '치아치료(치아미백제외)를 위한 종합구강검진',\n",
       " '치아치료(치아미백제외)를 위한 치석제거(스케일링)',\n",
       " '아말감 충전 (치아당 보상)',\n",
       " '컴퍼짓 레진 (치아당 보상)',\n",
       " '아말감 및 컴퍼짓레진이외의 직접 치아충전치료(치아당 보상)',\n",
       " '골드 인레이/골드 온레이 (치아당 보상)',\n",
       " '골드이외의 간접 치아충전치료(치아당 보상)',\n",
       " '단순 발치 (맹출치아 및 노출된 치근) (치아당 보상)',\n",
       " '정교한 발치(부분적으로 매복된 치아 및 치근) (치아당 보상)',\n",
       " '완전히 매복된 치아의 발치 (치아당 보상)',\n",
       " '구내방사선 및 교익방사선 사진촬영(촬영당 보상)',\n",
       " '파노라마 사진촬영 (촬영당 보상)',\n",
       " '1개 근관치료(엑스레이 포함) (치아당 보상)',\n",
       " '2개 근관치료(엑스레이 포함) (치아당 보상)',\n",
       " '3개 근관치료(엑스레이 포함) (치아당 보상)',\n",
       " '치수절단술 (치아당 보상)',\n",
       " '크라운치료',\n",
       " '가철성의치(틀니)(연간 1개한도)',\n",
       " '고정성가공의치(브릿지)',\n",
       " '임플란트',\n",
       " '보험료']"
      ]
     },
     "execution_count": 172,
     "metadata": {},
     "output_type": "execute_result"
    }
   ],
   "source": [
    "column_list"
   ]
  },
  {
   "cell_type": "code",
   "execution_count": 173,
   "metadata": {},
   "outputs": [],
   "source": [
    "df = pd.DataFrame(columns = column_list)"
   ]
  },
  {
   "cell_type": "code",
   "execution_count": 178,
   "metadata": {},
   "outputs": [
    {
     "ename": "TypeError",
     "evalue": "can only concatenate list (not \"str\") to list",
     "output_type": "error",
     "traceback": [
      "\u001b[1;31m---------------------------------------------------------------------------\u001b[0m",
      "\u001b[1;31mTypeError\u001b[0m                                 Traceback (most recent call last)",
      "\u001b[1;32m<ipython-input-178-cf8ae7da1603>\u001b[0m in \u001b[0;36m<module>\u001b[1;34m\u001b[0m\n\u001b[1;32m----> 1\u001b[1;33m \u001b[0mdf\u001b[0m\u001b[1;33m.\u001b[0m\u001b[0mloc\u001b[0m\u001b[1;33m[\u001b[0m\u001b[1;36m0\u001b[0m\u001b[1;33m]\u001b[0m \u001b[1;33m=\u001b[0m \u001b[1;33m[\u001b[0m\u001b[1;34m'750105'\u001b[0m\u001b[1;33m,\u001b[0m\u001b[1;34m'남자'\u001b[0m\u001b[1;33m,\u001b[0m\u001b[1;34m'실속형'\u001b[0m\u001b[1;33m]\u001b[0m \u001b[1;33m+\u001b[0m \u001b[0mplan_0\u001b[0m \u001b[1;33m+\u001b[0m \u001b[0mplan0\u001b[0m\u001b[1;33m[\u001b[0m\u001b[1;36m2\u001b[0m\u001b[1;33m]\u001b[0m\u001b[1;33m\u001b[0m\u001b[1;33m\u001b[0m\u001b[0m\n\u001b[0m",
      "\u001b[1;31mTypeError\u001b[0m: can only concatenate list (not \"str\") to list"
     ]
    }
   ],
   "source": [
    "df.loc[0] = ['750105','남자','실속형'] + plan_0 + plan0[2]"
   ]
  },
  {
   "cell_type": "code",
   "execution_count": 176,
   "metadata": {},
   "outputs": [
    {
     "data": {
      "text/html": [
       "<div>\n",
       "<style scoped>\n",
       "    .dataframe tbody tr th:only-of-type {\n",
       "        vertical-align: middle;\n",
       "    }\n",
       "\n",
       "    .dataframe tbody tr th {\n",
       "        vertical-align: top;\n",
       "    }\n",
       "\n",
       "    .dataframe thead th {\n",
       "        text-align: right;\n",
       "    }\n",
       "</style>\n",
       "<table border=\"1\" class=\"dataframe\">\n",
       "  <thead>\n",
       "    <tr style=\"text-align: right;\">\n",
       "      <th></th>\n",
       "      <th>생년월일</th>\n",
       "      <th>성별</th>\n",
       "      <th>유형</th>\n",
       "      <th>치아치료(치아미백제외)를 위한 종합구강검진</th>\n",
       "      <th>치아치료(치아미백제외)를 위한 치석제거(스케일링)</th>\n",
       "      <th>아말감 충전 (치아당 보상)</th>\n",
       "      <th>컴퍼짓 레진 (치아당 보상)</th>\n",
       "      <th>아말감 및 컴퍼짓레진이외의 직접 치아충전치료(치아당 보상)</th>\n",
       "      <th>골드 인레이/골드 온레이 (치아당 보상)</th>\n",
       "      <th>골드이외의 간접 치아충전치료(치아당 보상)</th>\n",
       "      <th>...</th>\n",
       "      <th>파노라마 사진촬영 (촬영당 보상)</th>\n",
       "      <th>1개 근관치료(엑스레이 포함) (치아당 보상)</th>\n",
       "      <th>2개 근관치료(엑스레이 포함) (치아당 보상)</th>\n",
       "      <th>3개 근관치료(엑스레이 포함) (치아당 보상)</th>\n",
       "      <th>치수절단술 (치아당 보상)</th>\n",
       "      <th>크라운치료</th>\n",
       "      <th>가철성의치(틀니)(연간 1개한도)</th>\n",
       "      <th>고정성가공의치(브릿지)</th>\n",
       "      <th>임플란트</th>\n",
       "      <th>보험료</th>\n",
       "    </tr>\n",
       "  </thead>\n",
       "  <tbody>\n",
       "    <tr>\n",
       "      <th>0</th>\n",
       "      <td>750105</td>\n",
       "      <td>남자</td>\n",
       "      <td>실속형</td>\n",
       "      <td>1만 원연간 1회</td>\n",
       "      <td>1만 원연간 1회</td>\n",
       "      <td>치아당1만 원</td>\n",
       "      <td>치아당3만 원</td>\n",
       "      <td>치아당1만 원</td>\n",
       "      <td>치아당5만 원</td>\n",
       "      <td>치아당5만 원</td>\n",
       "      <td>...</td>\n",
       "      <td>촬영당1만 원</td>\n",
       "      <td>치아당1만 원</td>\n",
       "      <td>치아당1만 원</td>\n",
       "      <td>치아당1만 원</td>\n",
       "      <td>치아당1만 원</td>\n",
       "      <td>가입안함</td>\n",
       "      <td>가입안함</td>\n",
       "      <td>가입안함</td>\n",
       "      <td>가입안함</td>\n",
       "      <td>800000</td>\n",
       "    </tr>\n",
       "  </tbody>\n",
       "</table>\n",
       "<p>1 rows × 24 columns</p>\n",
       "</div>"
      ],
      "text/plain": [
       "     생년월일  성별   유형 치아치료(치아미백제외)를 위한 종합구강검진 치아치료(치아미백제외)를 위한 치석제거(스케일링)  \\\n",
       "0  750105  남자  실속형               1만 원연간 1회                   1만 원연간 1회   \n",
       "\n",
       "  아말감 충전 (치아당 보상) 컴퍼짓 레진 (치아당 보상) 아말감 및 컴퍼짓레진이외의 직접 치아충전치료(치아당 보상)  \\\n",
       "0         치아당1만 원         치아당3만 원                          치아당1만 원   \n",
       "\n",
       "  골드 인레이/골드 온레이 (치아당 보상) 골드이외의 간접 치아충전치료(치아당 보상)  ... 파노라마 사진촬영 (촬영당 보상)  \\\n",
       "0                치아당5만 원                 치아당5만 원  ...            촬영당1만 원   \n",
       "\n",
       "  1개 근관치료(엑스레이 포함) (치아당 보상) 2개 근관치료(엑스레이 포함) (치아당 보상)  \\\n",
       "0                   치아당1만 원                   치아당1만 원   \n",
       "\n",
       "  3개 근관치료(엑스레이 포함) (치아당 보상) 치수절단술 (치아당 보상) 크라운치료 가철성의치(틀니)(연간 1개한도)  \\\n",
       "0                   치아당1만 원        치아당1만 원  가입안함               가입안함   \n",
       "\n",
       "  고정성가공의치(브릿지)  임플란트     보험료  \n",
       "0         가입안함  가입안함  800000  \n",
       "\n",
       "[1 rows x 24 columns]"
      ]
     },
     "execution_count": 176,
     "metadata": {},
     "output_type": "execute_result"
    }
   ],
   "source": [
    "df"
   ]
  },
  {
   "cell_type": "markdown",
   "metadata": {},
   "source": [
    "## 목록\n",
    "- 생년월일\n",
    "- 성별\n",
    "- 유형\n",
    "- 보험 납부 기간\n",
    "- 보장내역\n",
    "- 보험료 "
   ]
  },
  {
   "cell_type": "code",
   "execution_count": 232,
   "metadata": {},
   "outputs": [
    {
     "ename": "ValueError",
     "evalue": "cannot set a row with mismatched columns",
     "output_type": "error",
     "traceback": [
      "\u001b[1;31m---------------------------------------------------------------------------\u001b[0m",
      "\u001b[1;31mValueError\u001b[0m                                Traceback (most recent call last)",
      "\u001b[1;32m<ipython-input-232-212e99f56e1a>\u001b[0m in \u001b[0;36m<module>\u001b[1;34m\u001b[0m\n\u001b[0;32m    189\u001b[0m \u001b[1;33m\u001b[0m\u001b[0m\n\u001b[0;32m    190\u001b[0m \u001b[1;32mif\u001b[0m \u001b[0m__name__\u001b[0m \u001b[1;33m==\u001b[0m \u001b[1;34m\"__main__\"\u001b[0m \u001b[1;33m:\u001b[0m\u001b[1;33m\u001b[0m\u001b[1;33m\u001b[0m\u001b[0m\n\u001b[1;32m--> 191\u001b[1;33m     \u001b[0mmain\u001b[0m\u001b[1;33m(\u001b[0m\u001b[1;33m)\u001b[0m\u001b[1;33m\u001b[0m\u001b[1;33m\u001b[0m\u001b[0m\n\u001b[0m\u001b[0;32m    192\u001b[0m \u001b[1;33m\u001b[0m\u001b[0m\n",
      "\u001b[1;32m<ipython-input-232-212e99f56e1a>\u001b[0m in \u001b[0;36mmain\u001b[1;34m()\u001b[0m\n\u001b[0;32m     81\u001b[0m                 \u001b[0mpage\u001b[0m \u001b[1;33m=\u001b[0m \u001b[0mdriver\u001b[0m\u001b[1;33m.\u001b[0m\u001b[0mpage_source\u001b[0m\u001b[1;33m\u001b[0m\u001b[1;33m\u001b[0m\u001b[0m\n\u001b[0;32m     82\u001b[0m \u001b[1;33m\u001b[0m\u001b[0m\n\u001b[1;32m---> 83\u001b[1;33m                 \u001b[0mdf\u001b[0m \u001b[1;33m=\u001b[0m \u001b[0mgetContents\u001b[0m\u001b[1;33m(\u001b[0m\u001b[0mpage\u001b[0m\u001b[1;33m,\u001b[0m\u001b[0mdf_index\u001b[0m\u001b[1;33m,\u001b[0m\u001b[0mdf\u001b[0m\u001b[1;33m,\u001b[0m\u001b[0mperiod_option\u001b[0m\u001b[1;33m)\u001b[0m\u001b[1;33m\u001b[0m\u001b[1;33m\u001b[0m\u001b[0m\n\u001b[0m\u001b[0;32m     84\u001b[0m \u001b[1;33m\u001b[0m\u001b[0m\n\u001b[0;32m     85\u001b[0m \u001b[1;33m\u001b[0m\u001b[0m\n",
      "\u001b[1;32m<ipython-input-232-212e99f56e1a>\u001b[0m in \u001b[0;36mgetContents\u001b[1;34m(page, df_index, df, option_name)\u001b[0m\n\u001b[0;32m    140\u001b[0m \u001b[1;33m\u001b[0m\u001b[0m\n\u001b[0;32m    141\u001b[0m     \u001b[1;32mfor\u001b[0m \u001b[0mindex\u001b[0m\u001b[1;33m,\u001b[0m\u001b[0melement\u001b[0m \u001b[1;32min\u001b[0m \u001b[0menumerate\u001b[0m\u001b[1;33m(\u001b[0m\u001b[0mplan_premium\u001b[0m\u001b[1;33m)\u001b[0m \u001b[1;33m:\u001b[0m\u001b[1;33m\u001b[0m\u001b[1;33m\u001b[0m\u001b[0m\n\u001b[1;32m--> 142\u001b[1;33m         \u001b[0mdf\u001b[0m\u001b[1;33m.\u001b[0m\u001b[0mloc\u001b[0m\u001b[1;33m[\u001b[0m\u001b[0mdf_index\u001b[0m \u001b[1;33m+\u001b[0m \u001b[0mindex\u001b[0m\u001b[1;33m]\u001b[0m \u001b[1;33m=\u001b[0m \u001b[0melement\u001b[0m\u001b[1;33m\u001b[0m\u001b[1;33m\u001b[0m\u001b[0m\n\u001b[0m\u001b[0;32m    143\u001b[0m \u001b[1;33m\u001b[0m\u001b[0m\n\u001b[0;32m    144\u001b[0m     \u001b[0mdf_index\u001b[0m \u001b[1;33m+=\u001b[0m \u001b[0mlen\u001b[0m\u001b[1;33m(\u001b[0m\u001b[0mplan_premium\u001b[0m\u001b[1;33m)\u001b[0m\u001b[1;33m\u001b[0m\u001b[1;33m\u001b[0m\u001b[0m\n",
      "\u001b[1;32mc:\\users\\concat\\appdata\\local\\programs\\python\\python37\\lib\\site-packages\\pandas\\core\\indexing.py\u001b[0m in \u001b[0;36m__setitem__\u001b[1;34m(self, key, value)\u001b[0m\n\u001b[0;32m    188\u001b[0m             \u001b[0mkey\u001b[0m \u001b[1;33m=\u001b[0m \u001b[0mcom\u001b[0m\u001b[1;33m.\u001b[0m\u001b[0mapply_if_callable\u001b[0m\u001b[1;33m(\u001b[0m\u001b[0mkey\u001b[0m\u001b[1;33m,\u001b[0m \u001b[0mself\u001b[0m\u001b[1;33m.\u001b[0m\u001b[0mobj\u001b[0m\u001b[1;33m)\u001b[0m\u001b[1;33m\u001b[0m\u001b[1;33m\u001b[0m\u001b[0m\n\u001b[0;32m    189\u001b[0m         \u001b[0mindexer\u001b[0m \u001b[1;33m=\u001b[0m \u001b[0mself\u001b[0m\u001b[1;33m.\u001b[0m\u001b[0m_get_setitem_indexer\u001b[0m\u001b[1;33m(\u001b[0m\u001b[0mkey\u001b[0m\u001b[1;33m)\u001b[0m\u001b[1;33m\u001b[0m\u001b[1;33m\u001b[0m\u001b[0m\n\u001b[1;32m--> 190\u001b[1;33m         \u001b[0mself\u001b[0m\u001b[1;33m.\u001b[0m\u001b[0m_setitem_with_indexer\u001b[0m\u001b[1;33m(\u001b[0m\u001b[0mindexer\u001b[0m\u001b[1;33m,\u001b[0m \u001b[0mvalue\u001b[0m\u001b[1;33m)\u001b[0m\u001b[1;33m\u001b[0m\u001b[1;33m\u001b[0m\u001b[0m\n\u001b[0m\u001b[0;32m    191\u001b[0m \u001b[1;33m\u001b[0m\u001b[0m\n\u001b[0;32m    192\u001b[0m     \u001b[1;32mdef\u001b[0m \u001b[0m_validate_key\u001b[0m\u001b[1;33m(\u001b[0m\u001b[0mself\u001b[0m\u001b[1;33m,\u001b[0m \u001b[0mkey\u001b[0m\u001b[1;33m,\u001b[0m \u001b[0maxis\u001b[0m\u001b[1;33m)\u001b[0m\u001b[1;33m:\u001b[0m\u001b[1;33m\u001b[0m\u001b[1;33m\u001b[0m\u001b[0m\n",
      "\u001b[1;32mc:\\users\\concat\\appdata\\local\\programs\\python\\python37\\lib\\site-packages\\pandas\\core\\indexing.py\u001b[0m in \u001b[0;36m_setitem_with_indexer\u001b[1;34m(self, indexer, value)\u001b[0m\n\u001b[0;32m    443\u001b[0m                         \u001b[1;32mif\u001b[0m \u001b[0mis_list_like_indexer\u001b[0m\u001b[1;33m(\u001b[0m\u001b[0mvalue\u001b[0m\u001b[1;33m)\u001b[0m\u001b[1;33m:\u001b[0m\u001b[1;33m\u001b[0m\u001b[1;33m\u001b[0m\u001b[0m\n\u001b[0;32m    444\u001b[0m                             \u001b[1;32mif\u001b[0m \u001b[0mlen\u001b[0m\u001b[1;33m(\u001b[0m\u001b[0mvalue\u001b[0m\u001b[1;33m)\u001b[0m \u001b[1;33m!=\u001b[0m \u001b[0mlen\u001b[0m\u001b[1;33m(\u001b[0m\u001b[0mself\u001b[0m\u001b[1;33m.\u001b[0m\u001b[0mobj\u001b[0m\u001b[1;33m.\u001b[0m\u001b[0mcolumns\u001b[0m\u001b[1;33m)\u001b[0m\u001b[1;33m:\u001b[0m\u001b[1;33m\u001b[0m\u001b[1;33m\u001b[0m\u001b[0m\n\u001b[1;32m--> 445\u001b[1;33m                                 raise ValueError(\"cannot set a row with \"\n\u001b[0m\u001b[0;32m    446\u001b[0m                                                  \"mismatched columns\")\n\u001b[0;32m    447\u001b[0m \u001b[1;33m\u001b[0m\u001b[0m\n",
      "\u001b[1;31mValueError\u001b[0m: cannot set a row with mismatched columns"
     ]
    }
   ],
   "source": [
    "from selenium import webdriver\n",
    "from bs4 import BeautifulSoup\n",
    "from selenium.webdriver.common.by import By \n",
    "from selenium.webdriver.support.ui import WebDriverWait\n",
    "from selenium.webdriver.support import expected_conditions as EC \n",
    "import openpyxl\n",
    "import pandas as pd \n",
    "from datetime import datetime\n",
    "import re\n",
    "\n",
    "def main() :\n",
    "\n",
    "    driver = webdriver.Chrome('C:/Users/concat/Desktop/LinaCrawling/CONCAT/chromedriver_win32/chromedriver.exe')\n",
    "    url = 'https://www.acedirect.co.kr/servlets/contract/contractForward.ace?target=pc/contract/step01Dental&cmd=Step01Command&layout=type2'\n",
    "    driver.get(url)\n",
    "\n",
    "    driver.set_window_size(1920,1028)\n",
    "\n",
    "    page0 = driver.page_source\n",
    "    soup  = BeautifulSoup(page0,'html.parser')\n",
    "\n",
    "    # 보험가입 가능한 나이 범위 구하기 \n",
    "    year = datetime.now().year\n",
    "    age_range = soup.find(class_='bullet1').find_all('li')[1].get_text()\n",
    "    age_range = re.findall(r'[0-9]+',age_range)\n",
    "\n",
    "    young = int(str(int(year) - int(age_range[0])) + '0726')\n",
    "    old   = int(str(int(year) - int(age_range[1])) + '0726')\n",
    "\n",
    "\n",
    "    wait = WebDriverWait(driver,20)\n",
    "\n",
    "    # pandas dataframe index \n",
    "    df_index = 0 \n",
    "\n",
    "\n",
    "    column_list = getColumns()\n",
    "\n",
    "    df = pd.DataFrame(columns = column_list)\n",
    "\n",
    "    # 나이에 따라 반복합니다\n",
    "    for age in range(old,young,50000) : \n",
    "        \n",
    "        # 성별에 따라 반복합니다. \n",
    "        for sex_i in range(2) :\n",
    "\n",
    "            # 보험 납부 기간 유형에 따라 반복합니다.\n",
    "            for option_i in range(1,3) : \n",
    "                \n",
    "                driver.get(url)\n",
    "                \n",
    "                # yymmdd\n",
    "                age = str(age)[2:]\n",
    "\n",
    "                sexes = driver.find_elements_by_class_name('radio_type4')\n",
    "                \n",
    "                driver.find_element_by_name('insuredBirth').clear()\n",
    "                driver.find_element_by_name('insuredBirth').send_keys(age)   \n",
    "\n",
    "                if sex_i == 0 :\n",
    "                    sexes[0].find_element_by_tag_name('span').click()\n",
    "                    sex = '남자'\n",
    "                else :\n",
    "                    sexes[1].find_element_by_tag_name('span').click()\n",
    "                    sex = '여자'\n",
    "\n",
    "                period  = driver.find_element_by_name('periodPayFrequency')\n",
    "                options = driver.find_elements_by_tag_name('option')\n",
    "\n",
    "                option = options[option_i]\n",
    "                option.click()\n",
    "                period_option = option.text\n",
    "\n",
    "                # 순수보장형 선택\n",
    "                driver.find_element_by_class_name('radio_type2').find_element_by_tag_name('span').click()\n",
    "\n",
    "\n",
    "                driver.find_element_by_id('btnNext').click()\n",
    "                time.sleep(2)\n",
    "\n",
    "                page = driver.page_source\n",
    "\n",
    "                df = getContents(page,df_index,df,period_option)\n",
    "\n",
    "\n",
    "'''\n",
    "회원 정보 입력하는 페이지\n",
    "--------------------\n",
    "보험료 및 보장내역 나오는 페이지 -> 이 부분을 함수화해서 돌리는 것이 낫겠다.\n",
    "'''\n",
    "\n",
    "\n",
    "\n",
    "def getContents(page,df_index,df,option_name) :\n",
    "    \n",
    "    soup = BeautifulSoup(page,'html.parser')\n",
    "\n",
    "    result_table = soup.find(id = 'resultTable')\n",
    "\n",
    "    head = result_table.find('thead')\n",
    "    body = result_table.find('tbody')\n",
    "\n",
    "    # 실속형, 기본형, (고급형) 정보를 담을 리스트\n",
    "    plan_list = head.find_all(class_= 'radio_type3')\n",
    "    # 자유선택형은 제외\n",
    "    plan_list.pop()\n",
    "\n",
    "    names = list()\n",
    "    prices = list()\n",
    "    \n",
    "    for plan in plan_list : \n",
    "        tmp = re.findall(r'[가-힣]+|[0-9]+,[0-9]+',plan.text)\n",
    "            \n",
    "        names.append(tmp[0])\n",
    "        prices.append(tmp[1])\n",
    "\n",
    "    # 보장 내역 리스트\n",
    "    gu_list = body.find_all('tr')\n",
    "\n",
    "    # 실속,기본,(고급) 에 따라 보장 금액을 담을 리스트\n",
    "    plan_premium = list()\n",
    "    for i in range(len(plan_list)) :\n",
    "        plan_premium.append([])\n",
    "\n",
    "    for index, element in enumerate(plan_premium) : \n",
    "        element.append(age)\n",
    "        element.append(sex)\n",
    "        element.append(option_name)\n",
    "        element.append(names[index])\n",
    "        \n",
    "\n",
    "    for gu in gu_list : \n",
    "        gu = gu.find_all('td')[:4]\n",
    "    \n",
    "        for index, element in enumerate(plan_premium) : \n",
    "            element.append(gu[index+1].get_text().replace('\\t','').replace('\\n',''))\n",
    "    \n",
    "    for index, element in enumerate(plan_premium) : \n",
    "        element.append(prices[index])\n",
    "    \n",
    "    for index,element in enumerate(plan_premium) :\n",
    "        print(\"element: \",element)\n",
    "        df.loc[df_index + index] = element\n",
    "\n",
    "    df_index += len(plan_premium)\n",
    "\n",
    "    return df \n",
    "\n",
    "\n",
    "\n",
    "def getColumns () : \n",
    "    column_list = ['생년월일','성별','보험납부유형','유형',]\n",
    "\n",
    "    driver = webdriver.Chrome('C:/Users/concat/Desktop/LinaCrawling/CONCAT/chromedriver_win32/chromedriver.exe')\n",
    "    url = 'https://www.acedirect.co.kr/servlets/contract/contractForward.ace?target=pc/contract/step01Dental&cmd=Step01Command&layout=type2'\n",
    "    driver.get(url)\n",
    "    \n",
    "    driver.set_window_size(1920,1028)\n",
    "\n",
    "    driver.find_element_by_name('insuredBirth').send_keys('750106')\n",
    "    sexes = driver.find_elements_by_class_name('radio_type4')\n",
    "    sexes[0].find_element_by_tag_name('span').click()\n",
    "    options = driver.find_elements_by_tag_name('option')\n",
    "\n",
    "    options[1].click()\n",
    "    driver.find_element_by_class_name('radio_type2').find_element_by_tag_name('span').click()\n",
    "    driver.find_element_by_id('btnNext').click()\n",
    "\n",
    "    time.sleep(2)\n",
    "\n",
    "    page = driver.page_source\n",
    "    soup = BeautifulSoup(page,'html.parser')\n",
    "\n",
    "    result_table = soup.find(id = 'resultTable')\n",
    "\n",
    "    body = result_table.find('tbody')\n",
    "    gu_list = body.find_all('tr')\n",
    "\n",
    "    for gu in gu_list : \n",
    "        gu = gu.find_all('td')[:4]\n",
    "        column_list.append(gu[0].get_text().replace('\\t','').replace('\\n',''))\n",
    "    \n",
    "    column_list.append('보험료')\n",
    "\n",
    "    driver.quit()\n",
    "\n",
    "    return column_list\n",
    "    \n",
    "\n",
    "\n",
    "if __name__ == \"__main__\" : \n",
    "    main()\n",
    "\n"
   ]
  },
  {
   "cell_type": "code",
   "execution_count": null,
   "metadata": {},
   "outputs": [],
   "source": []
  }
 ],
 "metadata": {
  "kernelspec": {
   "display_name": "Python 3",
   "language": "python",
   "name": "python3"
  },
  "language_info": {
   "codemirror_mode": {
    "name": "ipython",
    "version": 3
   },
   "file_extension": ".py",
   "mimetype": "text/x-python",
   "name": "python",
   "nbconvert_exporter": "python",
   "pygments_lexer": "ipython3",
   "version": "3.7.4"
  }
 },
 "nbformat": 4,
 "nbformat_minor": 2
}
