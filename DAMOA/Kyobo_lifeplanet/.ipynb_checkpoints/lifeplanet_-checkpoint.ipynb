{
 "cells": [
  {
   "cell_type": "code",
   "execution_count": 1,
   "metadata": {},
   "outputs": [],
   "source": [
    "from selenium import webdriver\n",
    "from selenium.webdriver.common.by import By \n",
    "from selenium.webdriver.support.ui import WebDriverWait\n",
    "from selenium.webdriver.support import expected_conditions as EC \n",
    "import openpyxl\n",
    "import re\n",
    "import pandas as pd \n",
    "from bs4 import BeautifulSoup\n",
    "import time\n",
    "from datetime import datetime"
   ]
  },
  {
   "cell_type": "code",
   "execution_count": 10,
   "metadata": {},
   "outputs": [],
   "source": [
    "def main() : \n",
    "    global driver \n",
    "    \n",
    "    url = 'https://www.lifeplanet.co.kr/products/pe/HPPE800S1.dev'\n",
    "    driver.get(url)\n",
    "\n",
    "    now_year = datetime.now().year \n",
    "\n",
    "    # 나이는 만 19세 ~ 50세 (20년 만기의 경우 45세까지)\n",
    "    young = 19\n",
    "    old   = 50\n",
    "\n",
    "    today = int(str(now_year) + '0803')\n",
    "\n",
    "    contents = list()\n",
    "\n",
    "    for age in range(young,old,5) : \n",
    "        \n",
    "        for sxCd in range(2) : \n",
    "\n",
    "            for insCd in [10,20] : \n",
    "\n",
    "                if age > 45 : \n",
    "                    continue\n",
    "                \n",
    "                age = str(now_year-age)[2:] + '0803'\n",
    "\n",
    "                inputClient(age,sxCd)\n",
    "\n",
    "                content = getContents(insCd,age,sxCd)\n",
    "                contents.append(content)\n",
    "                \n",
    "    return contents"
   ]
  },
  {
   "cell_type": "code",
   "execution_count": 3,
   "metadata": {},
   "outputs": [],
   "source": [
    "def inputClient(age,sxCd) :\n",
    "    global driver \n",
    "    global wait\n",
    "    \n",
    "    inputbox = driver.find_element_by_class_name('list_calc')\n",
    "\n",
    "    inputbox.find_element_by_name('plnnrBrdt').clear()\n",
    "    inputbox.find_element_by_name('plnnrBrdt').send_keys(age)\n",
    "\n",
    "    sexes = inputbox.find_elements_by_class_name('rdo_m')\n",
    "    sexes[sxCd].find_element_by_tag_name('label').click()\n",
    "\n",
    "    driver.find_element_by_id('fastPayCalc').click()\n",
    "    wait.until(EC.invisibility_of_element((By.ID,\"loadingWrap\")))"
   ]
  },
  {
   "cell_type": "code",
   "execution_count": 4,
   "metadata": {},
   "outputs": [],
   "source": [
    "def getContents(insCd,age,sxCd) :\n",
    "\n",
    "    global driver\n",
    "    global wait\n",
    "\n",
    "    # 치료보험금 선택 10만원 or 20만원\n",
    "    driver.find_element_by_class_name('_sel_tit').click()\n",
    "    time.sleep(0.2)\n",
    "    insure_ = driver.find_element_by_class_name('_sel_option').find_elements_by_tag_name('li')\n",
    "    insure_[insCd].click()\n",
    "\n",
    "    page = driver.page_source \n",
    "    soup = BeautifulSoup(page,'html.parser')\n",
    "    cvrList = soup.find(class_= 'box_info').find_all('li')\n",
    "\n",
    "    # 치료 보장 내역\n",
    "    insure_dict = dict() \n",
    "\n",
    "    # 자세한 설명은 제외한다.\n",
    "    not_want = cvr.find(class_='box_tooltip')\n",
    "    not_want.extract()\n",
    "\n",
    "    for cvr in cvrList :\n",
    "        title  = cvr.find(class_='tooltip_include').get_text()\n",
    "        insure = cvr.find('strong').get_text() \n",
    "\n",
    "        title = title.replace('\\t','')\n",
    "        title = title.replace('\\n','')\n",
    "\n",
    "        insure_dict[title] = insure\n",
    "\n",
    "\n",
    "    period_box = driver.find_element_by_class_name('section_plan_info').find_element_by_class_name('box_rdo')\n",
    "    period_options = period_box.find_elements_by_class_name(\"rdo_m\")\n",
    "    \n",
    "    contents = list()\n",
    "\n",
    "    # 보험기간, 납부기간 선택 \n",
    "    for index, per_option in enumerate(period_options) : \n",
    "        \n",
    "        per_option = per_option.find_element_by_tag_name('label')\n",
    "        per_option.click()\n",
    "        period = per_option.text\n",
    "\n",
    "        payments = driver.find_element_by_id('insuTermContents').find_elements_by_tag_name('label')\n",
    "\n",
    "        for pay_index in range(index + 1) :\n",
    "            \n",
    "            payment = payments[pay_index]\n",
    "            payment.click()\n",
    "            pay_option = payment.text\n",
    "\n",
    "            driver.find_element_by_tag_name('body').send_keys(Keys.PAGE_DOWN)\n",
    "            driver.find_element_by_id(\"btnExpectInsuPay\").click()\n",
    "\n",
    "            # 보험료\n",
    "            prm = driver.find_element_by_class_name('section_premium').find_element_by_class_name('area_r').find_element_by_class_name('txt_2').text\n",
    "\n",
    "            content = dict()\n",
    "\n",
    "            content['생년월일'] = age\n",
    "            content['성별'] = '남자' if sxCd == 0 else '여자'\n",
    "            content['보험기간'] = period\n",
    "            content['납입기간'] = pay_option\n",
    "            \n",
    "            content.update(insure_dict)\n",
    "            content['보험료'] = prm \n",
    "            contents.append(content)\n",
    "    \n",
    "    return contents"
   ]
  },
  {
   "cell_type": "code",
   "execution_count": 5,
   "metadata": {},
   "outputs": [],
   "source": [
    "driver = webdriver.Chrome('C:/Users/concat/Desktop/LinaCrawling/CONCAT/chromedriver_win32/chromedriver.exe')\n",
    "wait = WebDriverWait(driver,20)"
   ]
  },
  {
   "cell_type": "code",
   "execution_count": 11,
   "metadata": {},
   "outputs": [
    {
     "name": "stdout",
     "output_type": "stream",
     "text": [
      "803 690803\n"
     ]
    }
   ],
   "source": [
    "contents = main()"
   ]
  },
  {
   "cell_type": "code",
   "execution_count": 13,
   "metadata": {},
   "outputs": [],
   "source": [
    "now_year = datetime.now().year\n",
    "young = int(str((now_year - 19))[2:] + '0803')"
   ]
  },
  {
   "cell_type": "code",
   "execution_count": 14,
   "metadata": {},
   "outputs": [
    {
     "data": {
      "text/plain": [
       "803"
      ]
     },
     "execution_count": 14,
     "metadata": {},
     "output_type": "execute_result"
    }
   ],
   "source": [
    "young"
   ]
  },
  {
   "cell_type": "code",
   "execution_count": 15,
   "metadata": {},
   "outputs": [
    {
     "data": {
      "text/plain": [
       "2019"
      ]
     },
     "execution_count": 15,
     "metadata": {},
     "output_type": "execute_result"
    }
   ],
   "source": [
    "now_year"
   ]
  },
  {
   "cell_type": "code",
   "execution_count": 19,
   "metadata": {},
   "outputs": [
    {
     "data": {
      "text/plain": [
       "'000803'"
      ]
     },
     "execution_count": 19,
     "metadata": {},
     "output_type": "execute_result"
    }
   ],
   "source": [
    "str(now_year-19)[2:] + '0803'"
   ]
  },
  {
   "cell_type": "code",
   "execution_count": null,
   "metadata": {},
   "outputs": [],
   "source": []
  }
 ],
 "metadata": {
  "kernelspec": {
   "display_name": "Python 3",
   "language": "python",
   "name": "python3"
  },
  "language_info": {
   "codemirror_mode": {
    "name": "ipython",
    "version": 3
   },
   "file_extension": ".py",
   "mimetype": "text/x-python",
   "name": "python",
   "nbconvert_exporter": "python",
   "pygments_lexer": "ipython3",
   "version": "3.7.4"
  }
 },
 "nbformat": 4,
 "nbformat_minor": 2
}
