{
 "cells": [
  {
   "cell_type": "code",
   "execution_count": 35,
   "metadata": {},
   "outputs": [],
   "source": [
    "from selenium import webdriver\n",
    "from selenium.webdriver.common.by import By \n",
    "from selenium.webdriver.support.ui import WebDriverWait\n",
    "from selenium.webdriver.support import expected_conditions as EC \n",
    "import openpyxl\n",
    "import re\n",
    "import pandas as pd \n",
    "from bs4 import BeautifulSoup\n",
    "import time\n",
    "from datetime import datetime\n",
    "from selenium.webdriver.common.keys import Keys"
   ]
  },
  {
   "cell_type": "code",
   "execution_count": 127,
   "metadata": {},
   "outputs": [],
   "source": [
    "def main() : \n",
    "    global driver \n",
    "    \n",
    "    url = 'https://www.lifeplanet.co.kr/products/pe/HPPE800S1.dev'\n",
    "    driver.get(url)\n",
    "\n",
    "    now_year = datetime.now().year \n",
    "\n",
    "    # 나이는 만 19세 ~ 50세 (20년 만기의 경우 45세까지)\n",
    "    young = 19\n",
    "    old   = 50\n",
    "\n",
    " \n",
    "    contents = list()\n",
    "\n",
    "    for age in range(young,old+1,5) : \n",
    "        \n",
    "        for sxCd in range(2) : \n",
    "\n",
    "            for insCd in range(2) : \n",
    "\n",
    "                if age > 45 : \n",
    "                    continue\n",
    "                \n",
    "                input_age = str(now_year-age)[2:] + '0505'\n",
    "\n",
    "                inputClient(input_age,sxCd)\n",
    "                time.sleep(3)\n",
    "                content = getContents(insCd,input_age,sxCd)\n",
    "                contents += content\n",
    "                \n",
    "    return contents"
   ]
  },
  {
   "cell_type": "code",
   "execution_count": 3,
   "metadata": {},
   "outputs": [],
   "source": [
    "def inputClient(age,sxCd) :\n",
    "    global driver \n",
    "    global wait\n",
    "    \n",
    "    inputbox = driver.find_element_by_class_name('list_calc')\n",
    "\n",
    "    inputbox.find_element_by_name('plnnrBrdt').clear()\n",
    "    inputbox.find_element_by_name('plnnrBrdt').send_keys(age)\n",
    "\n",
    "    sexes = inputbox.find_elements_by_class_name('rdo_m')\n",
    "    sexes[sxCd].find_element_by_tag_name('label').click()\n",
    "\n",
    "    driver.find_element_by_id('fastPayCalc').click()\n",
    "    wait.until(EC.invisibility_of_element((By.ID,\"loadingWrap\")))"
   ]
  },
  {
   "cell_type": "code",
   "execution_count": 116,
   "metadata": {},
   "outputs": [],
   "source": [
    "def getContents(insCd,age,sxCd) :\n",
    "\n",
    "    global driver\n",
    "    global wait\n",
    "    \n",
    "    driver.find_element_by_tag_name('body').send_keys(Keys.PAGE_UP)\n",
    "    time.sleep(1)\n",
    "    # 치료보험금 선택 10만원 or 20만원\n",
    "    driver.find_element_by_class_name('box_sel').click()\n",
    "    time.sleep(1)\n",
    "    insure_ = driver.find_element_by_class_name('_sel_option').find_elements_by_tag_name('li')\n",
    "    insure_[insCd].click()\n",
    "    \n",
    "    \n",
    "    wait.until(EC.invisibility_of_element((By.ID,\"loadingWrap\")))\n",
    "\n",
    "    page = driver.page_source \n",
    "    soup = BeautifulSoup(page,'html.parser')\n",
    "    cvrList = soup.find(class_= 'box_info').find_all('li')\n",
    "\n",
    "    # 치료 보장 내역\n",
    "    insure_dict = dict() \n",
    "\n",
    "    \n",
    "    \n",
    "\n",
    "    for cvr in cvrList :\n",
    "        \n",
    "        # 자세한 설명은 제외한다.\n",
    "        not_want = cvr.find(class_='box_tooltip')\n",
    "        not_want.extract()\n",
    "        \n",
    "        title  = cvr.find(class_='tooltip_include').get_text()\n",
    "        insure = cvr.find('strong').get_text() \n",
    "\n",
    "        title = title.replace('\\t','')\n",
    "        title = title.replace('\\n','')\n",
    "\n",
    "        insure_dict[title] = insure\n",
    "\n",
    "\n",
    "    period_box = driver.find_element_by_class_name('section_plan_info').find_element_by_class_name('box_rdo')\n",
    "    period_options = period_box.find_elements_by_class_name(\"rdo_m\")\n",
    "    \n",
    "    contents = list()\n",
    "\n",
    "    # 보험기간, 납부기간 선택 \n",
    "    for index, per_option in enumerate(period_options) : \n",
    "        \n",
    "        per_option = per_option.find_element_by_tag_name('label')\n",
    "        per_option.click()\n",
    "        wait.until(EC.invisibility_of_element((By.ID,\"loadingWrap\")))\n",
    "        period = per_option.text\n",
    "\n",
    "        payments = driver.find_element_by_id('insuTermContents').find_elements_by_tag_name('label')\n",
    "\n",
    "        for pay_index in range(index + 1) :\n",
    "            \n",
    "            payment = payments[pay_index]\n",
    "            payment.click()\n",
    "            wait.until(EC.invisibility_of_element((By.ID,\"loadingWrap\")))\n",
    "            \n",
    "            pay_option = payment.text\n",
    "\n",
    "            #driver.find_element_by_tag_name('body').send_keys(Keys.PAGE_DOWN)\n",
    "            driver.find_element_by_id(\"btnExpectInsuPay\").click()\n",
    "            time.sleep(2)\n",
    "\n",
    "            # 보험료\n",
    "            prm = driver.find_element_by_class_name('section_premium').find_element_by_class_name('area_r').find_element_by_class_name('txt_2').text\n",
    "\n",
    "            content = dict()\n",
    "\n",
    "            content['생년월일'] = age\n",
    "            content['성별'] = '남자' if sxCd == 0 else '여자'\n",
    "            content['보험기간'] = period\n",
    "            content['납입기간'] = pay_option\n",
    "            \n",
    "            content.update(insure_dict)\n",
    "            content['보험료'] = prm \n",
    "            contents.append(content)\n",
    "    \n",
    "    return contents"
   ]
  },
  {
   "cell_type": "code",
   "execution_count": 5,
   "metadata": {},
   "outputs": [],
   "source": [
    "driver = webdriver.Chrome('C:/Users/concat/Desktop/LinaCrawling/CONCAT/chromedriver_win32/chromedriver.exe')\n",
    "wait = WebDriverWait(driver,20)"
   ]
  },
  {
   "cell_type": "code",
   "execution_count": 119,
   "metadata": {
    "scrolled": true
   },
   "outputs": [],
   "source": [
    "contents = main()"
   ]
  },
  {
   "cell_type": "code",
   "execution_count": 123,
   "metadata": {},
   "outputs": [
    {
     "data": {
      "text/plain": [
       "10"
      ]
     },
     "execution_count": 123,
     "metadata": {},
     "output_type": "execute_result"
    }
   ],
   "source": [
    "len(contents[0])"
   ]
  },
  {
   "cell_type": "code",
   "execution_count": 124,
   "metadata": {},
   "outputs": [],
   "source": [
    "result = list()\n",
    "for content in contents : \n",
    "    result += content"
   ]
  },
  {
   "cell_type": "code",
   "execution_count": 128,
   "metadata": {},
   "outputs": [
    {
     "data": {
      "text/plain": [
       "240"
      ]
     },
     "execution_count": 128,
     "metadata": {},
     "output_type": "execute_result"
    }
   ],
   "source": [
    "len(result)"
   ]
  },
  {
   "cell_type": "code",
   "execution_count": 129,
   "metadata": {},
   "outputs": [],
   "source": [
    "df = pd.DataFrame(result, columns = result[0].keys())"
   ]
  },
  {
   "cell_type": "code",
   "execution_count": 130,
   "metadata": {},
   "outputs": [],
   "source": [
    "df.to_excel('lifePlanet.xlsx')"
   ]
  },
  {
   "cell_type": "code",
   "execution_count": 76,
   "metadata": {},
   "outputs": [],
   "source": [
    "driver.find_element_by_class_name('box_sel').click()"
   ]
  },
  {
   "cell_type": "code",
   "execution_count": 93,
   "metadata": {},
   "outputs": [],
   "source": [
    "page = driver.page_source \n",
    "soup = BeautifulSoup(page,'html.parser')\n",
    "cvrList = soup.find(class_= 'box_info').find_all('li')"
   ]
  },
  {
   "cell_type": "code",
   "execution_count": 90,
   "metadata": {},
   "outputs": [
    {
     "ename": "AttributeError",
     "evalue": "'NoneType' object has no attribute 'extract'",
     "output_type": "error",
     "traceback": [
      "\u001b[1;31m---------------------------------------------------------------------------\u001b[0m",
      "\u001b[1;31mAttributeError\u001b[0m                            Traceback (most recent call last)",
      "\u001b[1;32m<ipython-input-90-af6d001ca1ff>\u001b[0m in \u001b[0;36m<module>\u001b[1;34m\u001b[0m\n\u001b[1;32m----> 1\u001b[1;33m \u001b[0mcvrList\u001b[0m\u001b[1;33m[\u001b[0m\u001b[1;36m1\u001b[0m\u001b[1;33m]\u001b[0m\u001b[1;33m.\u001b[0m\u001b[0mfind\u001b[0m\u001b[1;33m(\u001b[0m\u001b[0mclass_\u001b[0m\u001b[1;33m=\u001b[0m\u001b[1;34m'box_tooltip'\u001b[0m\u001b[1;33m)\u001b[0m\u001b[1;33m.\u001b[0m\u001b[0mextract\u001b[0m\u001b[1;33m(\u001b[0m\u001b[1;33m)\u001b[0m\u001b[1;33m\u001b[0m\u001b[1;33m\u001b[0m\u001b[0m\n\u001b[0m\u001b[0;32m      2\u001b[0m \u001b[0mcvrList\u001b[0m\u001b[1;33m[\u001b[0m\u001b[1;36m1\u001b[0m\u001b[1;33m]\u001b[0m\u001b[1;33m.\u001b[0m\u001b[0mtext\u001b[0m\u001b[1;33m\u001b[0m\u001b[1;33m\u001b[0m\u001b[0m\n",
      "\u001b[1;31mAttributeError\u001b[0m: 'NoneType' object has no attribute 'extract'"
     ]
    }
   ],
   "source": [
    "cvrList[1].find(class_='box_tooltip').extract()\n",
    "cvrList[1].text"
   ]
  },
  {
   "cell_type": "code",
   "execution_count": 104,
   "metadata": {},
   "outputs": [
    {
     "ename": "AttributeError",
     "evalue": "'NoneType' object has no attribute 'extract'",
     "output_type": "error",
     "traceback": [
      "\u001b[1;31m---------------------------------------------------------------------------\u001b[0m",
      "\u001b[1;31mAttributeError\u001b[0m                            Traceback (most recent call last)",
      "\u001b[1;32m<ipython-input-104-1d4fd0f57146>\u001b[0m in \u001b[0;36m<module>\u001b[1;34m\u001b[0m\n\u001b[1;32m----> 1\u001b[1;33m \u001b[0msoup\u001b[0m\u001b[1;33m.\u001b[0m\u001b[0mfind\u001b[0m\u001b[1;33m(\u001b[0m\u001b[0mclass_\u001b[0m\u001b[1;33m=\u001b[0m\u001b[1;34m'box_info'\u001b[0m\u001b[1;33m)\u001b[0m\u001b[1;33m.\u001b[0m\u001b[0mfind\u001b[0m\u001b[1;33m(\u001b[0m\u001b[0mclass_\u001b[0m\u001b[1;33m=\u001b[0m\u001b[1;34m'box_tooltip'\u001b[0m\u001b[1;33m)\u001b[0m\u001b[1;33m.\u001b[0m\u001b[0mextract\u001b[0m\u001b[1;33m(\u001b[0m\u001b[1;33m)\u001b[0m\u001b[1;33m\u001b[0m\u001b[1;33m\u001b[0m\u001b[0m\n\u001b[0m",
      "\u001b[1;31mAttributeError\u001b[0m: 'NoneType' object has no attribute 'extract'"
     ]
    }
   ],
   "source": [
    "soup.find(class_='box_info').find(class_='box_tooltip').extract()"
   ]
  },
  {
   "cell_type": "code",
   "execution_count": 105,
   "metadata": {},
   "outputs": [
    {
     "name": "stdout",
     "output_type": "stream",
     "text": [
      "\n",
      "\n",
      "\t\t\t\t\t\t\t\t\t\t\t\t\t\t충전치료(인레이/온레이)\n",
      "\n",
      "\n",
      "15만원\n",
      "\n",
      "\n",
      "\n",
      "\t\t\t\t\t\t\t\t\t\t\t\t\t\t충전치료(인레이/온레이 외)\n",
      "\n",
      "\n",
      "4만원\n",
      "\n",
      "\n",
      "\n",
      "\t\t\t\t\t\t\t\t\t\t\t\t\t\t크라운 치료\n",
      "\t\t\t\t\t\t\t\t\t\t\t\t\t\t\n",
      "\n",
      "20만원\n",
      "\n",
      "\n",
      "\n",
      "\t\t\t\t\t\t\t\t\t\t\t\t\t\t치수치료\n",
      "\t\t\t\t\t\t\t\t\t\t\t\t\t\t\n",
      "\n",
      "2만원\n",
      "\n",
      "\n",
      "\n",
      "\t\t\t\t\t\t\t\t\t\t\t\t\t\t임플란트\n",
      "\t\t\t\t\t\t\t\t\t\t\t\t\t\t\n",
      "\n",
      "100만원\n",
      "\n",
      "\n",
      "\n",
      "\t\t\t\t\t\t\t\t\t\t\t\t\t\t브릿지\n",
      "\t\t\t\t\t\t\t\t\t\t\t\t\t\t\n",
      "\n",
      "50만원\n",
      "\n",
      "\n",
      "\n",
      "\t\t\t\t\t\t\t\t\t\t\t\t\t\t틀니\n",
      "\t\t\t\t\t\t\t\t\t\t\t\t\t\t\n",
      "\n",
      "100만원\n",
      "\n"
     ]
    }
   ],
   "source": [
    "for cvr in cvrList : \n",
    "    print(cvr.get_text())"
   ]
  },
  {
   "cell_type": "code",
   "execution_count": null,
   "metadata": {},
   "outputs": [],
   "source": []
  }
 ],
 "metadata": {
  "kernelspec": {
   "display_name": "Python 3",
   "language": "python",
   "name": "python3"
  },
  "language_info": {
   "codemirror_mode": {
    "name": "ipython",
    "version": 3
   },
   "file_extension": ".py",
   "mimetype": "text/x-python",
   "name": "python",
   "nbconvert_exporter": "python",
   "pygments_lexer": "ipython3",
   "version": "3.7.4"
  }
 },
 "nbformat": 4,
 "nbformat_minor": 2
}
