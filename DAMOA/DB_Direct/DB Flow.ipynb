{
 "cells": [
  {
   "cell_type": "code",
   "execution_count": 9,
   "metadata": {},
   "outputs": [],
   "source": [
    "from selenium import webdriver\n",
    "from bs4 import BeautifulSoup\n",
    "import requests\n",
    "import json\n",
    "from datetime import datetime\n",
    "from selenium.webdriver.common.by import By \n",
    "from selenium.webdriver.support.ui import WebDriverWait\n",
    "from selenium.webdriver.support import expected_conditions as EC \n",
    "import openpyxl"
   ]
  },
  {
   "cell_type": "code",
   "execution_count": 85,
   "metadata": {},
   "outputs": [],
   "source": [
    "def main() : \n",
    "    # 나이, 성별 설정 \n",
    "    # 함수를 이용해서 각 정보를 받아옴\n",
    "    \n",
    "    drvier = webdriver.Chrome('C:/Users/concat/Desktop/LinaCrawling/CONCAT/chromedriver_win32/chromedriver.exe')\n",
    "    url = 'https://www.directdb.co.kr/product/ltm/custInfoLtm.do?searchPdcCd=30581&searchPdcTrtHistCd=00&pdcDvcd=l_tooth' \n",
    "    driver.get(url)\n",
    "    \n",
    "    wait = WebDriverWait(driver,20)\n",
    "    \n",
    "    now_year = datetime.now().year\n",
    "    \n",
    "    contents = list()\n",
    "    \n",
    "    # 자녀 입력 \n",
    "    kid_young = int(str((year - 2))  + '1231')\n",
    "    kid_old   = int(str((year - 19)) + '1231')\n",
    "    \n",
    "    for age in range(kid_old, kid_young, 50000) : \n",
    "        \n",
    "        for sxCd in range(2) : \n",
    "            \n",
    "            inputChild(age,sxCd)\n",
    "            \n",
    "            years = ['07','15','20']\n",
    "            \n",
    "            for year in years : \n",
    "                contents += getContent(year,0,sxCd)\n",
    "            \n",
    "            "
   ]
  },
  {
   "cell_type": "code",
   "execution_count": 86,
   "metadata": {},
   "outputs": [],
   "source": [
    "# 자녀형 고객 정보 입력 함수\n",
    "def inputChild(age, sxCd) : \n",
    "    \n",
    "    global driver\n",
    "    global wait\n",
    "    \n",
    "    driver.find_element_by_class_name(\"li01\").click()\n",
    "    \n",
    "    driver.find_element_by_id('birthday').send_keys(age)\n",
    "    \n",
    "    sexes = driver.find_element_by_class_name('ico_sex').find_elements_by_class_name('input_radio')\n",
    "    \n",
    "    sexes[sxCd-1].find_element_by_tag_name('span').click()\n",
    "    \n",
    "    jobkids = driver.find_element_by_class_name('label_horizental').find_elements_by_tag_name('li')\n",
    "    jobkids[0].find_element_by_tag_name('span').click()\n",
    "\n",
    "    driver.find_element_by_class_name('btn_foot').click()\n",
    "    wait.until(EC.invisibility_of_element((By.CLASS_NAME,'loading')))\n",
    "    \n"
   ]
  },
  {
   "cell_type": "code",
   "execution_count": 87,
   "metadata": {},
   "outputs": [],
   "source": [
    "# 성인형 고객 정보 입력 함수\n",
    "\n",
    "def inputAdult(age, sxCd) : \n",
    "    \n",
    "    global driver\n",
    "    global wait\n",
    "    \n",
    "    driver.find_element_by_id('birthday').send_keys(age)\n",
    "    \n",
    "    sexes = driver.find_element_by_class_name('ico_sex').find_elements_by_class_name('input_radio')\n",
    "    sexes[sxCd-1].find_element_by_tag_name('span').click()\n",
    "    \n",
    "    driver.find_element_by_class_name('btn_foot').click()\n",
    "    wait.until(EC.invisibility_of_element((By.CLASS_NAME,'loading')))"
   ]
  },
  {
   "cell_type": "code",
   "execution_count": 82,
   "metadata": {},
   "outputs": [],
   "source": [
    "# request를 통해 보장 내역 및 보험료 크롤링\n",
    "\n",
    "def getContent(year,typecode,sxCd) :\n",
    "    \n",
    "    # getLtmPlan.do \n",
    "    \n",
    "    CMKSESSIONID= driver.get_cookie('CMKSESSIONID')['value']\n",
    "    \n",
    "    _csrf = driver.find_element_by_name('_csrf').get_attribute('value')\n",
    "    \n",
    "    page = driver.page_source\n",
    "    \n",
    "    soup = BeautifulSoup(page,'html.parser')\n",
    "    \n",
    "    # cvrList 얻기 (보장 내역 코드 리스트)\n",
    "    cvrlist = soup.find(class_ = 'plan_select').find(class_ = 'plan_name').find_all('dd')\n",
    "    \n",
    "    cvr_ = str()\n",
    "    \n",
    "    for cvr_e in cvrlist : \n",
    "        cvr_t = cvr_e.find(class_='ico_pop').get('name')\n",
    "        cvr_t = cvr_e.replace('cvrPop_','')\n",
    "        \n",
    "        if cvr_ != \"\" :\n",
    "            cvr_ += \"%2C\"\n",
    "        \n",
    "        cvr_ += cvr_t\n",
    "    \n",
    "    # SlPanCd 값에 따라 유형이 바뀐다. \n",
    "    SlPanCd = int(soup.find(id = \"searchSlPanCd\").get('value'))\n",
    "    \n",
    "    plan_slpanCd = [10,0,-10]\n",
    "    \n",
    "    contents = list()\n",
    "    \n",
    "    # 유형에 따라 반복\n",
    "    for sl in plan_slpanCd : \n",
    "        \n",
    "        SlPanCd += sl\n",
    "        \n",
    "        calc_data = (\"searchPdcCd=30581&searchSlPanCd=\" + SlPanCd + \"&searchPymMtdCd=01\" +\n",
    "            \"&searchCvrCds=\" + cvr_ + \"&searchCalcType=default&pdcDvcd=l_tooth\" +\n",
    "            \"&arcTrmCd=Y0\"+year+\"&pymTrmCd=Y0\"+year+\"&pymMtdCd=01&_csrf=\" + _csrf)\n",
    "    \n",
    "        calc_header = {\n",
    "            'Content-Type' : 'application/x-www-form-urlencoded; charset=UTF-8',\n",
    "            'X-Requested-With' : 'XMLHttpRequest',\n",
    "            'User-Agent' : 'Mozilla/5.0 (Windows NT 10.0; Win64; x64) AppleWebKit/537.36 (KHTML, like Gecko) Chrome/75.0.3770.142 Safari/537.36',\n",
    "            'Referer' : 'https://www.directdb.co.kr/product/ltmSimple/getLtmPlan.do'\n",
    "        }\n",
    "        \n",
    "        calc_cookie = {\n",
    "             'CMKSESSIONID' : CMKSESSIONID\n",
    "        }\n",
    "        \n",
    "        url = 'https://www.directdb.co.kr/product/ltm/ajaxLtmCalc.do'\n",
    "        \n",
    "        response = requests.post(url, headers = calc_header, cookies = calc_cookie, data = calc_data)\n",
    "        \n",
    "        # 읽어온 데이터를 json으로 파싱\n",
    "        data = json.loads(response)\n",
    "        \n",
    "        # 내가 입력한 year과 읽어온 데이터의 year이 다르면 경고문 출력\n",
    "        if year != data['arcTrmCd'] : \n",
    "            print('waring! \\n year : ',year , '\\n data[\"arcTrmCd\"] : ', data['arcTrmCd'] )\n",
    "        \n",
    "        \n",
    "        plan = data['cvrList']\n",
    "        \n",
    "        content = dict()\n",
    "\n",
    "        content['생년월일'] = age\n",
    "        content['성별'] = '남자' if sxCd == 1 else '여자'\n",
    "        content['보험기간'] = year\n",
    "\n",
    "        content['유형'] = data['pdcPanNm']\n",
    "\n",
    "        for element in plan : \n",
    "\n",
    "            name = element['cvrNm']\n",
    "            inam = element['cvrInam']\n",
    "            eta = element['etaCn']\n",
    "            prm = element['cvrPrm']\n",
    "\n",
    "            if name != None :\n",
    "                content[name]  = inam\n",
    "\n",
    "            if eta != None : \n",
    "                eta_prices = re.findall(r':([0-9]+)',eta)\n",
    "                eta_names  = re.findall(r'-([^0-9]+):',eta)\n",
    "\n",
    "                for i in range(len(eta_names)) : \n",
    "                    content[eta_names[i].strip()] = eta_prices[i]\n",
    "        \n",
    "        content['보험료'] = data['fstiPrm']\n",
    "\n",
    "        contents.append(content)\n",
    "    \n",
    "    \n",
    "    return contents"
   ]
  },
  {
   "cell_type": "code",
   "execution_count": 16,
   "metadata": {},
   "outputs": [],
   "source": [
    "# 해당 보험이 실속형, 기본형, 고급형 중 어떤 것인지 판별하는 함수\n",
    "def getType(SlPanCd,typecode) : \n",
    "    \n",
    "    typeCd = SlPanCd - typecode \n",
    "    \n",
    "    if typeCd % 30 == 10 : \n",
    "        return '고급형'\n",
    "    elif typeCd % 30 == 20 :\n",
    "        return '기본형'\n",
    "    else :\n",
    "        return '실속형'"
   ]
  },
  {
   "cell_type": "code",
   "execution_count": 28,
   "metadata": {},
   "outputs": [],
   "source": [
    "calc_header = {\n",
    "            'Content-Type' : 'application/x-www-form-urlencoded; charset=UTF-8',\n",
    "            'X-Requested-With' : 'XMLHttpRequest',\n",
    "            'User-Agent' : 'Mozilla/5.0 (Windows NT 10.0; Win64; x64) AppleWebKit/537.36 (KHTML, like Gecko) Chrome/75.0.3770.142 Safari/537.36',\n",
    "            'Referer' : 'https://www.directdb.co.kr/product/ltmSimple/getLtmPlan.do'\n",
    "        }\n",
    "calc_data = 'searchPdcCd=30581&searchArcAg=44&searchIntAg=44&searchSlPanCd=30&searchPymMtdCd=01&searchPdcTrtHistCd=01&searchCvrCds=307677%2C305065%2C305069%2C305031%2C305093%2C305100%2C307682%2C305379%2C307662&searchPlanAgeCd=&dupCvrCds=&dupPrceCvrCds=&searchCalcType=default&reCalcYn=&atArcEnyYn=&dcInfoCfmYn=&planNo=&pdcDvcd=l_tooth&cmPynTgtClsfCd=&chdDvcd=&nonStopYn=&arcTrmCd=Y007&pymTrmCd=Y007&pymMtdCd=01&_csrf=8937aae0-cb2c-4470-9c96-cb06cfbf3dfb'\n",
    "\n",
    "cookie = {\n",
    "    'CMKSESSIONID' : '0001dYOwO0bxits-GJf2LBDDYm-:1aafrjfnb'\n",
    "}\n",
    "\n",
    "\n",
    "test = requests.post('https://www.directdb.co.kr/product/ltm/ajaxLtmCalc.do',headers = calc_header, cookies = cookie, data = calc_data)"
   ]
  },
  {
   "cell_type": "code",
   "execution_count": 29,
   "metadata": {},
   "outputs": [],
   "source": [
    "test_j = json.loads(test.text)"
   ]
  },
  {
   "cell_type": "code",
   "execution_count": null,
   "metadata": {},
   "outputs": [],
   "source": []
  },
  {
   "cell_type": "code",
   "execution_count": 32,
   "metadata": {},
   "outputs": [],
   "source": [
    "plans = test_j['planCvrLists']"
   ]
  },
  {
   "cell_type": "code",
   "execution_count": 63,
   "metadata": {},
   "outputs": [],
   "source": [
    "import re \n",
    "\n",
    "eta_prices = re.findall(r':([0-9]+)',contents[2]['eta'])\n",
    "eta_names  = re.findall(r'-([^0-9]+):',contents[2]['eta'])"
   ]
  },
  {
   "cell_type": "code",
   "execution_count": 55,
   "metadata": {},
   "outputs": [
    {
     "data": {
      "text/plain": [
       "'- 임플란트 치료:1500000<br/>- 브릿지 치료:750000<br/>- 틀니 치료:1500000'"
      ]
     },
     "execution_count": 55,
     "metadata": {},
     "output_type": "execute_result"
    }
   ],
   "source": [
    "contents[2]['eta']"
   ]
  },
  {
   "cell_type": "code",
   "execution_count": 80,
   "metadata": {},
   "outputs": [],
   "source": [
    "plan = test_j['cvrList']\n",
    "        \n",
    "content = dict()\n",
    "\n",
    "# content['생년월일'] = age\n",
    "# content['성별'] = '남자' if sxCd == 1 else '여자'\n",
    "# content['보험기간'] = year\n",
    "\n",
    "content['유형'] = test_j['pdcPanNm']\n",
    "\n",
    "for element in plan : \n",
    "\n",
    "    name = element['cvrNm']\n",
    "    inam = element['cvrInam']\n",
    "    eta = element['etaCn']\n",
    "    prm = element['cvrPrm']\n",
    "\n",
    "    if name != None :\n",
    "        content[name]  = inam\n",
    "\n",
    "    if eta != None : \n",
    "        eta_prices = re.findall(r':([0-9]+)',eta)\n",
    "        eta_names  = re.findall(r'-([^0-9]+):',eta)\n",
    "\n",
    "        for i in range(len(eta_names)) : \n",
    "            content[eta_names[i].strip()] = eta_prices[i]\n",
    "\n",
    "content['보험료'] = test_j['fstiPrm']"
   ]
  },
  {
   "cell_type": "code",
   "execution_count": 81,
   "metadata": {},
   "outputs": [
    {
     "data": {
      "text/plain": [
       "{'유형': '실속형',\n",
       " '치아보존치료비(상해및질병)': '200000',\n",
       " '아말감 또는 글래스아이노머(G.I)': '20000',\n",
       " '레진필링, 인레이, 온레이 등': '100000',\n",
       " '크라운 치료': '200000',\n",
       " '영구치보철치료비(상해및질병)': '500000',\n",
       " '임플란트 치료': '500000',\n",
       " '브릿지 치료': '250000',\n",
       " '틀니 치료': '500000',\n",
       " '영구치상실치료비(상해및질병)': '30000',\n",
       " '치주질환치료비': '30000',\n",
       " '치아치수치료비(상해및질병)': '20000',\n",
       " '보험료': '25490'}"
      ]
     },
     "execution_count": 81,
     "metadata": {},
     "output_type": "execute_result"
    }
   ],
   "source": [
    "content"
   ]
  },
  {
   "cell_type": "code",
   "execution_count": null,
   "metadata": {},
   "outputs": [],
   "source": []
  }
 ],
 "metadata": {
  "kernelspec": {
   "display_name": "Python 3",
   "language": "python",
   "name": "python3"
  },
  "language_info": {
   "codemirror_mode": {
    "name": "ipython",
    "version": 3
   },
   "file_extension": ".py",
   "mimetype": "text/x-python",
   "name": "python",
   "nbconvert_exporter": "python",
   "pygments_lexer": "ipython3",
   "version": "3.7.4"
  }
 },
 "nbformat": 4,
 "nbformat_minor": 2
}
