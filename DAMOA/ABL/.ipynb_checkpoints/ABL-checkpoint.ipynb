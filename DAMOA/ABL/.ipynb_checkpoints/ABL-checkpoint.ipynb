{
 "cells": [
  {
   "cell_type": "code",
   "execution_count": 2,
   "metadata": {},
   "outputs": [],
   "source": [
    "from selenium import webdriver\n",
    "from bs4 import BeautifulSoup\n",
    "from selenium.webdriver.common.by import By \n",
    "from selenium.webdriver.support.ui import WebDriverWait\n",
    "from selenium.webdriver.support import expected_conditions as EC \n",
    "import openpyxl\n",
    "import pandas as pd \n",
    "from datetime import datetime\n",
    "import re\n",
    "import time \n",
    "\n",
    "driver = webdriver.Chrome('C:/Users/concat/Desktop/LinaCrawling/CONCAT/chromedriver_win32/chromedriver.exe')\n",
    "url = 'https://online.abllife.co.kr/insurance-product/health-coverage/dental.abl?utm_campaign=dental&utm_source=insmarket-p&utm_medium=referral&utm_content=ebiz&utm_term=main_dental'\n",
    "\n",
    "driver.get(url)"
   ]
  },
  {
   "cell_type": "code",
   "execution_count": 8,
   "metadata": {},
   "outputs": [],
   "source": [
    "# 성별\n",
    "#driver.find_element_by_class_name('man').click()\n",
    "driver.find_element_by_class_name('woman').click()"
   ]
  },
  {
   "cell_type": "code",
   "execution_count": 5,
   "metadata": {},
   "outputs": [],
   "source": [
    "# 생년월일\n",
    "# yyyymmdd\n",
    "# 만 19세 ~ 만 70세 까지\n",
    "# 60세 이상은 10년 만기만 가능 \n",
    "\n",
    "driver.find_element_by_id('brthDay').send_keys('19961129')\n",
    "#driver.find_element_by_id('brthDay').clear()\n",
    "\n"
   ]
  },
  {
   "cell_type": "code",
   "execution_count": 10,
   "metadata": {},
   "outputs": [],
   "source": [
    "# 보험료 확인 버튼\n",
    "driver.find_element_by_id('calcStrBtn').click()"
   ]
  },
  {
   "cell_type": "code",
   "execution_count": null,
   "metadata": {},
   "outputs": [],
   "source": [
    "# loading bar\n",
    "wait = WebDriverWait(driver,20)\n",
    "\n",
    "wait.until(EC.invisibility_of_element((By.id,'globalLoadingDiv')))\n"
   ]
  },
  {
   "cell_type": "code",
   "execution_count": 64,
   "metadata": {},
   "outputs": [],
   "source": [
    "page = driver.page_source\n",
    "soup = BeautifulSoup(page,'html.parser')\n",
    "\n",
    "# 보험료 및 보장내역이 나와있는 Box\n",
    "result = soup.find(id = 'direcEntplDiv')\n",
    "\n",
    "# 보험 기간 등의 정보가 있는 Box\n",
    "planBox = result.find(id = 'direcContDiv')\n",
    "\n",
    "# 보험 가입금액\n",
    "joinPrice = planBox.find(id = \"mnContEntAmt00Div\")\n",
    "\n",
    "# 보험 기간\n",
    "period = planBox.find(id = \"mnInsrPrdYys00Div\")\n",
    "\n",
    "# 납입 기간\n",
    "payment = planBox.find(id = \"mnInsrPadPrdYys00Div\")\n",
    "\n",
    "\n"
   ]
  },
  {
   "cell_type": "code",
   "execution_count": 65,
   "metadata": {},
   "outputs": [
    {
     "data": {
      "text/plain": [
       "<li id=\"mnInsrPrdYys00Div\">\n",
       "<strong><label for=\"mnInsrPrdYys00\">보험기간</label></strong>\n",
       "<span>\n",
       "<select class=\"sel_m\" id=\"mnInsrPrdYys00\"><option value=\"0\">10년</option><option value=\"1\">20년</option></select>\n",
       "</span>\n",
       "<span class=\"mnInsrPrdYys_st subtxt\" style=\"\">최대 80세까지 자동갱신 및 보장</span>\n",
       "</li>"
      ]
     },
     "execution_count": 65,
     "metadata": {},
     "output_type": "execute_result"
    }
   ],
   "source": [
    "period.find()"
   ]
  },
  {
   "cell_type": "code",
   "execution_count": 55,
   "metadata": {},
   "outputs": [],
   "source": [
    "# 보장 내역\n",
    "guaranteeList = result.find(id = \"entplFinDiv\").find(class_='box_area')\n",
    "\n",
    "#보험료\n",
    "premium = result.find(id = \"entplFinDiv\").find(class_='box2_area')\n"
   ]
  },
  {
   "cell_type": "code",
   "execution_count": 21,
   "metadata": {},
   "outputs": [],
   "source": [
    "# planBox Crawling\n",
    "title = joinPrice.find('strong').get_text()"
   ]
  },
  {
   "cell_type": "code",
   "execution_count": 22,
   "metadata": {},
   "outputs": [
    {
     "data": {
      "text/plain": [
       "'주계약 보험가입금액'"
      ]
     },
     "execution_count": 22,
     "metadata": {},
     "output_type": "execute_result"
    }
   ],
   "source": [
    "title"
   ]
  },
  {
   "cell_type": "code",
   "execution_count": 23,
   "metadata": {},
   "outputs": [
    {
     "data": {
      "text/plain": [
       "<li id=\"mnContEntAmt00Div\">\n",
       "<strong><label for=\"mnContEntAmt00\">주계약 보험가입금액</label></strong>\n",
       "<span>\n",
       "<select class=\"sel_m\" disabled=\"disabled\" id=\"mnContEntAmt00\"><option value=\"5000000\">500만원</option></select>\n",
       "</span>\n",
       "<span class=\"mnContEntAmt_st subtxt\" style=\"display:none\"></span>\n",
       "</li>"
      ]
     },
     "execution_count": 23,
     "metadata": {},
     "output_type": "execute_result"
    }
   ],
   "source": [
    "joinPrice"
   ]
  },
  {
   "cell_type": "code",
   "execution_count": 26,
   "metadata": {},
   "outputs": [],
   "source": [
    "content = joinPrice.find(class_='sel_m').get_text()"
   ]
  },
  {
   "cell_type": "code",
   "execution_count": 27,
   "metadata": {},
   "outputs": [
    {
     "data": {
      "text/plain": [
       "'500만원'"
      ]
     },
     "execution_count": 27,
     "metadata": {},
     "output_type": "execute_result"
    }
   ],
   "source": [
    "content"
   ]
  },
  {
   "cell_type": "code",
   "execution_count": 29,
   "metadata": {},
   "outputs": [],
   "source": [
    "# 보험기간\n",
    "period = driver.find_element_by_id(\"mnInsrPrdYys00Div\")"
   ]
  },
  {
   "cell_type": "code",
   "execution_count": 30,
   "metadata": {},
   "outputs": [],
   "source": [
    "period_options = period.find_elements_by_tag_name('option')"
   ]
  },
  {
   "cell_type": "code",
   "execution_count": 33,
   "metadata": {},
   "outputs": [
    {
     "name": "stdout",
     "output_type": "stream",
     "text": [
      "10년\n",
      "20년\n"
     ]
    }
   ],
   "source": [
    "for option in period_options :\n",
    "    print(option.text)"
   ]
  },
  {
   "cell_type": "code",
   "execution_count": 35,
   "metadata": {},
   "outputs": [],
   "source": [
    "# 납입 기간 == 보험 기간 "
   ]
  },
  {
   "cell_type": "code",
   "execution_count": 41,
   "metadata": {},
   "outputs": [],
   "source": [
    "# 보장 내역\n",
    "notwants = guaranteeList.find_all(class_='stnrdPrdtList')\n",
    "for notwant in notwants : \n",
    "    notwant.extract()\n",
    "tr_list = guaranteeList.find_all(class_= 'insurance_info_dental')\n"
   ]
  },
  {
   "cell_type": "code",
   "execution_count": 46,
   "metadata": {},
   "outputs": [
    {
     "data": {
      "text/plain": [
       "<div class=\"insurance_info_dental\" id=\"benfCnt1\"><span> </span></div>"
      ]
     },
     "execution_count": 46,
     "metadata": {},
     "output_type": "execute_result"
    }
   ],
   "source": [
    "tr_list[0]"
   ]
  },
  {
   "cell_type": "code",
   "execution_count": 48,
   "metadata": {},
   "outputs": [],
   "source": [
    "content = dict()\n",
    "\n",
    "for tr in tr_list : \n",
    "    title = tr.find('strong')\n",
    "    price = tr.find('span')\n",
    "    \n",
    "    if title == None :\n",
    "        continue\n",
    "    \n",
    "    title = title.get_text()\n",
    "    price = price.get_text()\n",
    "    content[title] = price"
   ]
  },
  {
   "cell_type": "code",
   "execution_count": 49,
   "metadata": {},
   "outputs": [
    {
     "data": {
      "text/plain": [
       "{'임플란트': '50만원',\n",
       " '틀니치료': '50만원',\n",
       " '브릿지': '25만원',\n",
       " '인레이/온레이': '10만원',\n",
       " '복합레진': '7.5만원',\n",
       " '아말감/GI': '1.5만원',\n",
       " '치조골이식술': '25만원',\n",
       " '크라운치료': '15만원'}"
      ]
     },
     "execution_count": 49,
     "metadata": {},
     "output_type": "execute_result"
    }
   ],
   "source": [
    "content"
   ]
  },
  {
   "cell_type": "code",
   "execution_count": 62,
   "metadata": {},
   "outputs": [],
   "source": [
    "# 보험료\n",
    "premium_price = premium.find(id = \"vwMnContPrm00\").get_text()"
   ]
  },
  {
   "cell_type": "code",
   "execution_count": 63,
   "metadata": {},
   "outputs": [
    {
     "data": {
      "text/plain": [
       "'11,600'"
      ]
     },
     "execution_count": 63,
     "metadata": {},
     "output_type": "execute_result"
    }
   ],
   "source": [
    "premium_price"
   ]
  },
  {
   "cell_type": "code",
   "execution_count": 6,
   "metadata": {},
   "outputs": [],
   "source": [
    "def getContent(page,content) : \n",
    "\n",
    "    soup = BeautifulSoup(page,'html.parser')\n",
    "\n",
    "    result = soup.find(id = 'direcEntplDiv')\n",
    "\n",
    "    # 보장 내역 and 보험료\n",
    "    guaranteeList = result.find(id = \"entplFinDiv\").find(class_='box_area')\n",
    "    premium = result.find(id = \"entplFinDiv\").find(class_='box2_area')\n",
    "\n",
    "    # 원하지 않는 요소들을 제외시켜줍니다.\n",
    "    not_wants = guaranteeList.find_all(class_='stnrdPrdtList')\n",
    "    for nots in not_wants : \n",
    "        nots.extract()\n",
    "    \n",
    "    # 보장 내역을 뽑아와 이름과 내역을 매칭시켜줍니다. \n",
    "    gt_list = guaranteeList.find_all(class_='insurance_info_dental')\n",
    "\n",
    "    for gt in gt_list : \n",
    "        title = gt.find('strong')\n",
    "        price = gt.find('span')\n",
    "\n",
    "        if title == None :\n",
    "            continue\n",
    "        \n",
    "        title = title.get_text()\n",
    "        price = price.get_text()\n",
    "        content[title] = price\n",
    "    \n",
    "    premium_price = premium.find(id = \"vwMnContPrm00\").get_text()\n",
    "\n",
    "    content['보험료'] = premium_price\n",
    "\n",
    "    return content"
   ]
  },
  {
   "cell_type": "code",
   "execution_count": 43,
   "metadata": {},
   "outputs": [],
   "source": [
    "driver = webdriver.Chrome('C:/Users/concat/Desktop/LinaCrawling/CONCAT/chromedriver_win32/chromedriver.exe')\n",
    "url = 'https://online.abllife.co.kr/insurance-product/health-coverage/dental.abl?utm_campaign=dental&utm_source=insmarket-p&utm_medium=referral&utm_content=ebiz&utm_term=main_dental'\n",
    "\n",
    "driver.get(url)\n",
    "\n",
    "driver.set_window_size(1920,1028)\n",
    "\n",
    "# 가입 연령은 만 19세부터 만 70세까지입니다.\n",
    "young = 20\n",
    "old   = 70 \n",
    "\n",
    "year = datetime.now().year\n",
    "\n",
    "young = int(str(year - young) + '0728')\n",
    "old   = int(str(year - old)   + '0728')\n",
    "\n",
    "wait = WebDriverWait(driver,20)\n",
    "\n",
    "contents = list()\n",
    "\n",
    "for age in range(old,young,50000) : \n",
    "    driver.find_element_by_id('brthDay').clear()\n",
    "    driver.find_element_by_id('brthDay').send_keys(age)\n",
    "\n",
    "    # 성별 선택\n",
    "    for i in range(2) : \n",
    "        if i == 0 : \n",
    "            driver.find_element_by_class_name('man').click()\n",
    "            sex = '남자'\n",
    "        else : \n",
    "            driver.find_element_by_class_name('woman').click()\n",
    "            sex = '여자'\n",
    "\n",
    "        # 보험료 계산하기\n",
    "        driver.find_element_by_id('calcStrBtn').click()\n",
    "\n",
    "        wait.until(EC.invisibility_of_element((By.ID,'globalLoadingDiv')))\n",
    "        time.sleep(1)\n",
    "        \n",
    "        # 보험 기간 선택하기\n",
    "        period = driver.find_element_by_id(\"mnInsrPrdYys00Div\")\n",
    "        period_options = period.find_elements_by_tag_name('option')\n",
    "        \n",
    "        try : \n",
    "            driver.find_element_by_id(\"direcEntplTab\").click()\n",
    "        except :\n",
    "            pass \n",
    "\n",
    "        for option in period_options :\n",
    "            option.click()\n",
    "            time.sleep(2)\n",
    "            \n",
    "            content = dict()\n",
    "            content['생년월일'] = age\n",
    "            content['성별'] = sex \n",
    "            content['주계약 보험금액'] = '500만원'\n",
    "            content['보험 기간'] = option.text\n",
    "            content['납입 기간'] = option.text\n",
    "\n",
    "            page = driver.page_source\n",
    "\n",
    "            content = getContent(page,content)\n",
    "            contents.append(content)\n",
    "\n",
    "df = pd.DataFrame(contents, columns = contents[0].keys())\n",
    "df.to_excel(\"ABL.xlsx\")"
   ]
  },
  {
   "cell_type": "code",
   "execution_count": 14,
   "metadata": {},
   "outputs": [
    {
     "data": {
      "text/plain": [
       "600000"
      ]
     },
     "execution_count": 14,
     "metadata": {},
     "output_type": "execute_result"
    }
   ],
   "source": [
    "20190728 - 19590728"
   ]
  },
  {
   "cell_type": "code",
   "execution_count": 30,
   "metadata": {},
   "outputs": [
    {
     "data": {
      "text/plain": [
       "[{'생년월일': 19490728,\n",
       "  '성별': '남자',\n",
       "  '주계약 보험금액': '500만원',\n",
       "  '보험 기간': '10년',\n",
       "  '납입 기간': '10년',\n",
       "  '임플란트': '50만원',\n",
       "  '틀니치료': '50만원',\n",
       "  '브릿지': '25만원',\n",
       "  '인레이/온레이': '10만원',\n",
       "  '복합레진': '7.5만원',\n",
       "  '아말감/GI': '1.5만원',\n",
       "  '치조골이식술': '25만원',\n",
       "  '크라운치료': '15만원',\n",
       "  '보험료': '46,550'},\n",
       " {'생년월일': 19490728,\n",
       "  '성별': '여자',\n",
       "  '주계약 보험금액': '500만원',\n",
       "  '보험 기간': '10년',\n",
       "  '납입 기간': '10년',\n",
       "  '임플란트': '50만원',\n",
       "  '틀니치료': '50만원',\n",
       "  '브릿지': '25만원',\n",
       "  '인레이/온레이': '10만원',\n",
       "  '복합레진': '7.5만원',\n",
       "  '아말감/GI': '1.5만원',\n",
       "  '치조골이식술': '25만원',\n",
       "  '크라운치료': '15만원',\n",
       "  '보험료': '34,550'},\n",
       " {'생년월일': 19540728,\n",
       "  '성별': '남자',\n",
       "  '주계약 보험금액': '500만원',\n",
       "  '보험 기간': '10년',\n",
       "  '납입 기간': '10년',\n",
       "  '임플란트': '50만원',\n",
       "  '틀니치료': '50만원',\n",
       "  '브릿지': '25만원',\n",
       "  '인레이/온레이': '10만원',\n",
       "  '복합레진': '7.5만원',\n",
       "  '아말감/GI': '1.5만원',\n",
       "  '치조골이식술': '25만원',\n",
       "  '크라운치료': '15만원',\n",
       "  '보험료': '46,100'},\n",
       " {'생년월일': 19540728,\n",
       "  '성별': '여자',\n",
       "  '주계약 보험금액': '500만원',\n",
       "  '보험 기간': '10년',\n",
       "  '납입 기간': '10년',\n",
       "  '임플란트': '50만원',\n",
       "  '틀니치료': '50만원',\n",
       "  '브릿지': '25만원',\n",
       "  '인레이/온레이': '10만원',\n",
       "  '복합레진': '7.5만원',\n",
       "  '아말감/GI': '1.5만원',\n",
       "  '치조골이식술': '25만원',\n",
       "  '크라운치료': '15만원',\n",
       "  '보험료': '37,400'},\n",
       " {'생년월일': 19590728,\n",
       "  '성별': '남자',\n",
       "  '주계약 보험금액': '500만원',\n",
       "  '보험 기간': '20년',\n",
       "  '납입 기간': '20년',\n",
       "  '임플란트': '50만원',\n",
       "  '틀니치료': '50만원',\n",
       "  '브릿지': '25만원',\n",
       "  '인레이/온레이': '10만원',\n",
       "  '복합레진': '7.5만원',\n",
       "  '아말감/GI': '1.5만원',\n",
       "  '치조골이식술': '25만원',\n",
       "  '크라운치료': '15만원',\n",
       "  '보험료': '48,700'},\n",
       " {'생년월일': 19590728,\n",
       "  '성별': '남자',\n",
       "  '주계약 보험금액': '500만원',\n",
       "  '보험 기간': '20년',\n",
       "  '납입 기간': '20년',\n",
       "  '임플란트': '50만원',\n",
       "  '틀니치료': '50만원',\n",
       "  '브릿지': '25만원',\n",
       "  '인레이/온레이': '10만원',\n",
       "  '복합레진': '7.5만원',\n",
       "  '아말감/GI': '1.5만원',\n",
       "  '치조골이식술': '25만원',\n",
       "  '크라운치료': '15만원',\n",
       "  '보험료': '48,700'},\n",
       " {'생년월일': 19590728,\n",
       "  '성별': '여자',\n",
       "  '주계약 보험금액': '500만원',\n",
       "  '보험 기간': '20년',\n",
       "  '납입 기간': '20년',\n",
       "  '임플란트': '50만원',\n",
       "  '틀니치료': '50만원',\n",
       "  '브릿지': '25만원',\n",
       "  '인레이/온레이': '10만원',\n",
       "  '복합레진': '7.5만원',\n",
       "  '아말감/GI': '1.5만원',\n",
       "  '치조골이식술': '25만원',\n",
       "  '크라운치료': '15만원',\n",
       "  '보험료': '37,800'},\n",
       " {'생년월일': 19590728,\n",
       "  '성별': '여자',\n",
       "  '주계약 보험금액': '500만원',\n",
       "  '보험 기간': '20년',\n",
       "  '납입 기간': '20년',\n",
       "  '임플란트': '50만원',\n",
       "  '틀니치료': '50만원',\n",
       "  '브릿지': '25만원',\n",
       "  '인레이/온레이': '10만원',\n",
       "  '복합레진': '7.5만원',\n",
       "  '아말감/GI': '1.5만원',\n",
       "  '치조골이식술': '25만원',\n",
       "  '크라운치료': '15만원',\n",
       "  '보험료': '37,800'},\n",
       " {'생년월일': 19640728,\n",
       "  '성별': '남자',\n",
       "  '주계약 보험금액': '500만원',\n",
       "  '보험 기간': '20년',\n",
       "  '납입 기간': '20년',\n",
       "  '임플란트': '50만원',\n",
       "  '틀니치료': '50만원',\n",
       "  '브릿지': '25만원',\n",
       "  '인레이/온레이': '10만원',\n",
       "  '복합레진': '7.5만원',\n",
       "  '아말감/GI': '1.5만원',\n",
       "  '치조골이식술': '25만원',\n",
       "  '크라운치료': '15만원',\n",
       "  '보험료': '46,500'},\n",
       " {'생년월일': 19640728,\n",
       "  '성별': '남자',\n",
       "  '주계약 보험금액': '500만원',\n",
       "  '보험 기간': '20년',\n",
       "  '납입 기간': '20년',\n",
       "  '임플란트': '50만원',\n",
       "  '틀니치료': '50만원',\n",
       "  '브릿지': '25만원',\n",
       "  '인레이/온레이': '10만원',\n",
       "  '복합레진': '7.5만원',\n",
       "  '아말감/GI': '1.5만원',\n",
       "  '치조골이식술': '25만원',\n",
       "  '크라운치료': '15만원',\n",
       "  '보험료': '46,500'},\n",
       " {'생년월일': 19640728,\n",
       "  '성별': '여자',\n",
       "  '주계약 보험금액': '500만원',\n",
       "  '보험 기간': '20년',\n",
       "  '납입 기간': '20년',\n",
       "  '임플란트': '50만원',\n",
       "  '틀니치료': '50만원',\n",
       "  '브릿지': '25만원',\n",
       "  '인레이/온레이': '10만원',\n",
       "  '복합레진': '7.5만원',\n",
       "  '아말감/GI': '1.5만원',\n",
       "  '치조골이식술': '25만원',\n",
       "  '크라운치료': '15만원',\n",
       "  '보험료': '36,600'},\n",
       " {'생년월일': 19640728,\n",
       "  '성별': '여자',\n",
       "  '주계약 보험금액': '500만원',\n",
       "  '보험 기간': '20년',\n",
       "  '납입 기간': '20년',\n",
       "  '임플란트': '50만원',\n",
       "  '틀니치료': '50만원',\n",
       "  '브릿지': '25만원',\n",
       "  '인레이/온레이': '10만원',\n",
       "  '복합레진': '7.5만원',\n",
       "  '아말감/GI': '1.5만원',\n",
       "  '치조골이식술': '25만원',\n",
       "  '크라운치료': '15만원',\n",
       "  '보험료': '36,600'},\n",
       " {'생년월일': 19690728,\n",
       "  '성별': '남자',\n",
       "  '주계약 보험금액': '500만원',\n",
       "  '보험 기간': '20년',\n",
       "  '납입 기간': '20년',\n",
       "  '임플란트': '50만원',\n",
       "  '틀니치료': '50만원',\n",
       "  '브릿지': '25만원',\n",
       "  '인레이/온레이': '10만원',\n",
       "  '복합레진': '7.5만원',\n",
       "  '아말감/GI': '1.5만원',\n",
       "  '치조골이식술': '25만원',\n",
       "  '크라운치료': '15만원',\n",
       "  '보험료': '42,600'},\n",
       " {'생년월일': 19690728,\n",
       "  '성별': '남자',\n",
       "  '주계약 보험금액': '500만원',\n",
       "  '보험 기간': '20년',\n",
       "  '납입 기간': '20년',\n",
       "  '임플란트': '50만원',\n",
       "  '틀니치료': '50만원',\n",
       "  '브릿지': '25만원',\n",
       "  '인레이/온레이': '10만원',\n",
       "  '복합레진': '7.5만원',\n",
       "  '아말감/GI': '1.5만원',\n",
       "  '치조골이식술': '25만원',\n",
       "  '크라운치료': '15만원',\n",
       "  '보험료': '42,600'},\n",
       " {'생년월일': 19690728,\n",
       "  '성별': '여자',\n",
       "  '주계약 보험금액': '500만원',\n",
       "  '보험 기간': '20년',\n",
       "  '납입 기간': '20년',\n",
       "  '임플란트': '50만원',\n",
       "  '틀니치료': '50만원',\n",
       "  '브릿지': '25만원',\n",
       "  '인레이/온레이': '10만원',\n",
       "  '복합레진': '7.5만원',\n",
       "  '아말감/GI': '1.5만원',\n",
       "  '치조골이식술': '25만원',\n",
       "  '크라운치료': '15만원',\n",
       "  '보험료': '32,550'},\n",
       " {'생년월일': 19690728,\n",
       "  '성별': '여자',\n",
       "  '주계약 보험금액': '500만원',\n",
       "  '보험 기간': '20년',\n",
       "  '납입 기간': '20년',\n",
       "  '임플란트': '50만원',\n",
       "  '틀니치료': '50만원',\n",
       "  '브릿지': '25만원',\n",
       "  '인레이/온레이': '10만원',\n",
       "  '복합레진': '7.5만원',\n",
       "  '아말감/GI': '1.5만원',\n",
       "  '치조골이식술': '25만원',\n",
       "  '크라운치료': '15만원',\n",
       "  '보험료': '32,550'},\n",
       " {'생년월일': 19740728,\n",
       "  '성별': '남자',\n",
       "  '주계약 보험금액': '500만원',\n",
       "  '보험 기간': '20년',\n",
       "  '납입 기간': '20년',\n",
       "  '임플란트': '50만원',\n",
       "  '틀니치료': '50만원',\n",
       "  '브릿지': '25만원',\n",
       "  '인레이/온레이': '10만원',\n",
       "  '복합레진': '7.5만원',\n",
       "  '아말감/GI': '1.5만원',\n",
       "  '치조골이식술': '25만원',\n",
       "  '크라운치료': '15만원',\n",
       "  '보험료': '37,150'},\n",
       " {'생년월일': 19740728,\n",
       "  '성별': '남자',\n",
       "  '주계약 보험금액': '500만원',\n",
       "  '보험 기간': '20년',\n",
       "  '납입 기간': '20년',\n",
       "  '임플란트': '50만원',\n",
       "  '틀니치료': '50만원',\n",
       "  '브릿지': '25만원',\n",
       "  '인레이/온레이': '10만원',\n",
       "  '복합레진': '7.5만원',\n",
       "  '아말감/GI': '1.5만원',\n",
       "  '치조골이식술': '25만원',\n",
       "  '크라운치료': '15만원',\n",
       "  '보험료': '37,150'},\n",
       " {'생년월일': 19740728,\n",
       "  '성별': '여자',\n",
       "  '주계약 보험금액': '500만원',\n",
       "  '보험 기간': '20년',\n",
       "  '납입 기간': '20년',\n",
       "  '임플란트': '50만원',\n",
       "  '틀니치료': '50만원',\n",
       "  '브릿지': '25만원',\n",
       "  '인레이/온레이': '10만원',\n",
       "  '복합레진': '7.5만원',\n",
       "  '아말감/GI': '1.5만원',\n",
       "  '치조골이식술': '25만원',\n",
       "  '크라운치료': '15만원',\n",
       "  '보험료': '27,050'},\n",
       " {'생년월일': 19740728,\n",
       "  '성별': '여자',\n",
       "  '주계약 보험금액': '500만원',\n",
       "  '보험 기간': '20년',\n",
       "  '납입 기간': '20년',\n",
       "  '임플란트': '50만원',\n",
       "  '틀니치료': '50만원',\n",
       "  '브릿지': '25만원',\n",
       "  '인레이/온레이': '10만원',\n",
       "  '복합레진': '7.5만원',\n",
       "  '아말감/GI': '1.5만원',\n",
       "  '치조골이식술': '25만원',\n",
       "  '크라운치료': '15만원',\n",
       "  '보험료': '27,050'},\n",
       " {'생년월일': 19790728,\n",
       "  '성별': '남자',\n",
       "  '주계약 보험금액': '500만원',\n",
       "  '보험 기간': '20년',\n",
       "  '납입 기간': '20년',\n",
       "  '임플란트': '50만원',\n",
       "  '틀니치료': '50만원',\n",
       "  '브릿지': '25만원',\n",
       "  '인레이/온레이': '10만원',\n",
       "  '복합레진': '7.5만원',\n",
       "  '아말감/GI': '1.5만원',\n",
       "  '치조골이식술': '25만원',\n",
       "  '크라운치료': '15만원',\n",
       "  '보험료': '30,300'},\n",
       " {'생년월일': 19790728,\n",
       "  '성별': '남자',\n",
       "  '주계약 보험금액': '500만원',\n",
       "  '보험 기간': '20년',\n",
       "  '납입 기간': '20년',\n",
       "  '임플란트': '50만원',\n",
       "  '틀니치료': '50만원',\n",
       "  '브릿지': '25만원',\n",
       "  '인레이/온레이': '10만원',\n",
       "  '복합레진': '7.5만원',\n",
       "  '아말감/GI': '1.5만원',\n",
       "  '치조골이식술': '25만원',\n",
       "  '크라운치료': '15만원',\n",
       "  '보험료': '30,300'},\n",
       " {'생년월일': 19790728,\n",
       "  '성별': '여자',\n",
       "  '주계약 보험금액': '500만원',\n",
       "  '보험 기간': '20년',\n",
       "  '납입 기간': '20년',\n",
       "  '임플란트': '50만원',\n",
       "  '틀니치료': '50만원',\n",
       "  '브릿지': '25만원',\n",
       "  '인레이/온레이': '10만원',\n",
       "  '복합레진': '7.5만원',\n",
       "  '아말감/GI': '1.5만원',\n",
       "  '치조골이식술': '25만원',\n",
       "  '크라운치료': '15만원',\n",
       "  '보험료': '21,650'},\n",
       " {'생년월일': 19790728,\n",
       "  '성별': '여자',\n",
       "  '주계약 보험금액': '500만원',\n",
       "  '보험 기간': '20년',\n",
       "  '납입 기간': '20년',\n",
       "  '임플란트': '50만원',\n",
       "  '틀니치료': '50만원',\n",
       "  '브릿지': '25만원',\n",
       "  '인레이/온레이': '10만원',\n",
       "  '복합레진': '7.5만원',\n",
       "  '아말감/GI': '1.5만원',\n",
       "  '치조골이식술': '25만원',\n",
       "  '크라운치료': '15만원',\n",
       "  '보험료': '21,650'},\n",
       " {'생년월일': 19840728,\n",
       "  '성별': '남자',\n",
       "  '주계약 보험금액': '500만원',\n",
       "  '보험 기간': '20년',\n",
       "  '납입 기간': '20년',\n",
       "  '임플란트': '50만원',\n",
       "  '틀니치료': '50만원',\n",
       "  '브릿지': '25만원',\n",
       "  '인레이/온레이': '10만원',\n",
       "  '복합레진': '7.5만원',\n",
       "  '아말감/GI': '1.5만원',\n",
       "  '치조골이식술': '25만원',\n",
       "  '크라운치료': '15만원',\n",
       "  '보험료': '23,050'},\n",
       " {'생년월일': 19840728,\n",
       "  '성별': '남자',\n",
       "  '주계약 보험금액': '500만원',\n",
       "  '보험 기간': '20년',\n",
       "  '납입 기간': '20년',\n",
       "  '임플란트': '50만원',\n",
       "  '틀니치료': '50만원',\n",
       "  '브릿지': '25만원',\n",
       "  '인레이/온레이': '10만원',\n",
       "  '복합레진': '7.5만원',\n",
       "  '아말감/GI': '1.5만원',\n",
       "  '치조골이식술': '25만원',\n",
       "  '크라운치료': '15만원',\n",
       "  '보험료': '23,050'},\n",
       " {'생년월일': 19840728,\n",
       "  '성별': '여자',\n",
       "  '주계약 보험금액': '500만원',\n",
       "  '보험 기간': '20년',\n",
       "  '납입 기간': '20년',\n",
       "  '임플란트': '50만원',\n",
       "  '틀니치료': '50만원',\n",
       "  '브릿지': '25만원',\n",
       "  '인레이/온레이': '10만원',\n",
       "  '복합레진': '7.5만원',\n",
       "  '아말감/GI': '1.5만원',\n",
       "  '치조골이식술': '25만원',\n",
       "  '크라운치료': '15만원',\n",
       "  '보험료': '17,000'},\n",
       " {'생년월일': 19840728,\n",
       "  '성별': '여자',\n",
       "  '주계약 보험금액': '500만원',\n",
       "  '보험 기간': '20년',\n",
       "  '납입 기간': '20년',\n",
       "  '임플란트': '50만원',\n",
       "  '틀니치료': '50만원',\n",
       "  '브릿지': '25만원',\n",
       "  '인레이/온레이': '10만원',\n",
       "  '복합레진': '7.5만원',\n",
       "  '아말감/GI': '1.5만원',\n",
       "  '치조골이식술': '25만원',\n",
       "  '크라운치료': '15만원',\n",
       "  '보험료': '17,000'},\n",
       " {'생년월일': 19890728,\n",
       "  '성별': '남자',\n",
       "  '주계약 보험금액': '500만원',\n",
       "  '보험 기간': '20년',\n",
       "  '납입 기간': '20년',\n",
       "  '임플란트': '50만원',\n",
       "  '틀니치료': '50만원',\n",
       "  '브릿지': '25만원',\n",
       "  '인레이/온레이': '10만원',\n",
       "  '복합레진': '7.5만원',\n",
       "  '아말감/GI': '1.5만원',\n",
       "  '치조골이식술': '25만원',\n",
       "  '크라운치료': '15만원',\n",
       "  '보험료': '17,000'},\n",
       " {'생년월일': 19890728,\n",
       "  '성별': '남자',\n",
       "  '주계약 보험금액': '500만원',\n",
       "  '보험 기간': '20년',\n",
       "  '납입 기간': '20년',\n",
       "  '임플란트': '50만원',\n",
       "  '틀니치료': '50만원',\n",
       "  '브릿지': '25만원',\n",
       "  '인레이/온레이': '10만원',\n",
       "  '복합레진': '7.5만원',\n",
       "  '아말감/GI': '1.5만원',\n",
       "  '치조골이식술': '25만원',\n",
       "  '크라운치료': '15만원',\n",
       "  '보험료': '17,000'},\n",
       " {'생년월일': 19890728,\n",
       "  '성별': '여자',\n",
       "  '주계약 보험금액': '500만원',\n",
       "  '보험 기간': '20년',\n",
       "  '납입 기간': '20년',\n",
       "  '임플란트': '50만원',\n",
       "  '틀니치료': '50만원',\n",
       "  '브릿지': '25만원',\n",
       "  '인레이/온레이': '10만원',\n",
       "  '복합레진': '7.5만원',\n",
       "  '아말감/GI': '1.5만원',\n",
       "  '치조골이식술': '25만원',\n",
       "  '크라운치료': '15만원',\n",
       "  '보험료': '14,000'},\n",
       " {'생년월일': 19890728,\n",
       "  '성별': '여자',\n",
       "  '주계약 보험금액': '500만원',\n",
       "  '보험 기간': '20년',\n",
       "  '납입 기간': '20년',\n",
       "  '임플란트': '50만원',\n",
       "  '틀니치료': '50만원',\n",
       "  '브릿지': '25만원',\n",
       "  '인레이/온레이': '10만원',\n",
       "  '복합레진': '7.5만원',\n",
       "  '아말감/GI': '1.5만원',\n",
       "  '치조골이식술': '25만원',\n",
       "  '크라운치료': '15만원',\n",
       "  '보험료': '14,000'},\n",
       " {'생년월일': 19940728,\n",
       "  '성별': '남자',\n",
       "  '주계약 보험금액': '500만원',\n",
       "  '보험 기간': '20년',\n",
       "  '납입 기간': '20년',\n",
       "  '임플란트': '50만원',\n",
       "  '틀니치료': '50만원',\n",
       "  '브릿지': '25만원',\n",
       "  '인레이/온레이': '10만원',\n",
       "  '복합레진': '7.5만원',\n",
       "  '아말감/GI': '1.5만원',\n",
       "  '치조골이식술': '25만원',\n",
       "  '크라운치료': '15만원',\n",
       "  '보험료': '12,750'},\n",
       " {'생년월일': 19940728,\n",
       "  '성별': '남자',\n",
       "  '주계약 보험금액': '500만원',\n",
       "  '보험 기간': '20년',\n",
       "  '납입 기간': '20년',\n",
       "  '임플란트': '50만원',\n",
       "  '틀니치료': '50만원',\n",
       "  '브릿지': '25만원',\n",
       "  '인레이/온레이': '10만원',\n",
       "  '복합레진': '7.5만원',\n",
       "  '아말감/GI': '1.5만원',\n",
       "  '치조골이식술': '25만원',\n",
       "  '크라운치료': '15만원',\n",
       "  '보험료': '12,750'},\n",
       " {'생년월일': 19940728,\n",
       "  '성별': '여자',\n",
       "  '주계약 보험금액': '500만원',\n",
       "  '보험 기간': '20년',\n",
       "  '납입 기간': '20년',\n",
       "  '임플란트': '50만원',\n",
       "  '틀니치료': '50만원',\n",
       "  '브릿지': '25만원',\n",
       "  '인레이/온레이': '10만원',\n",
       "  '복합레진': '7.5만원',\n",
       "  '아말감/GI': '1.5만원',\n",
       "  '치조골이식술': '25만원',\n",
       "  '크라운치료': '15만원',\n",
       "  '보험료': '12,550'},\n",
       " {'생년월일': 19940728,\n",
       "  '성별': '여자',\n",
       "  '주계약 보험금액': '500만원',\n",
       "  '보험 기간': '20년',\n",
       "  '납입 기간': '20년',\n",
       "  '임플란트': '50만원',\n",
       "  '틀니치료': '50만원',\n",
       "  '브릿지': '25만원',\n",
       "  '인레이/온레이': '10만원',\n",
       "  '복합레진': '7.5만원',\n",
       "  '아말감/GI': '1.5만원',\n",
       "  '치조골이식술': '25만원',\n",
       "  '크라운치료': '15만원',\n",
       "  '보험료': '12,550'}]"
      ]
     },
     "execution_count": 30,
     "metadata": {},
     "output_type": "execute_result"
    }
   ],
   "source": [
    "contents"
   ]
  },
  {
   "cell_type": "code",
   "execution_count": 26,
   "metadata": {},
   "outputs": [
    {
     "data": {
      "text/plain": [
       "'500만원'"
      ]
     },
     "execution_count": 26,
     "metadata": {},
     "output_type": "execute_result"
    }
   ],
   "source": [
    "driver.find_element_by_id(\"mnContEntAmt00Div\").find_element_by_class_name(\"sel_m\").text"
   ]
  },
  {
   "cell_type": "code",
   "execution_count": 38,
   "metadata": {},
   "outputs": [
    {
     "name": "stdout",
     "output_type": "stream",
     "text": [
      "10년\n",
      "20년\n"
     ]
    }
   ],
   "source": [
    "tests = list()\n",
    "test = dict()\n",
    "# 보험 기간 선택하기\n",
    "period = driver.find_element_by_id(\"mnInsrPrdYys00Div\")\n",
    "period_options = period.find_elements_by_tag_name('option')\n",
    "\n",
    "try : \n",
    "    driver.find_element_by_id(\"direcEntplTab\").click()\n",
    "except :\n",
    "    pass \n",
    "\n",
    "for option in period_options :\n",
    "    option.click()\n",
    "    time.sleep(2)\n",
    "    print(option.text)\n",
    "    test['보험 기간'] = option.text\n",
    "    test['납입 기간'] = option.text\n",
    "    \n",
    "    tests.append(test)"
   ]
  },
  {
   "cell_type": "code",
   "execution_count": 39,
   "metadata": {},
   "outputs": [
    {
     "data": {
      "text/plain": [
       "{'보험 기간': '20년', '납입 기간': '20년'}"
      ]
     },
     "execution_count": 39,
     "metadata": {},
     "output_type": "execute_result"
    }
   ],
   "source": [
    "test"
   ]
  },
  {
   "cell_type": "code",
   "execution_count": 40,
   "metadata": {},
   "outputs": [
    {
     "data": {
      "text/plain": [
       "[{'보험 기간': '20년', '납입 기간': '20년'}, {'보험 기간': '20년', '납입 기간': '20년'}]"
      ]
     },
     "execution_count": 40,
     "metadata": {},
     "output_type": "execute_result"
    }
   ],
   "source": [
    "tests"
   ]
  },
  {
   "cell_type": "code",
   "execution_count": 41,
   "metadata": {},
   "outputs": [],
   "source": [
    "test['보험 기간'] = \"ㅋㅋ\""
   ]
  },
  {
   "cell_type": "code",
   "execution_count": 42,
   "metadata": {},
   "outputs": [
    {
     "data": {
      "text/plain": [
       "[{'보험 기간': 'ㅋㅋ', '납입 기간': '20년'}, {'보험 기간': 'ㅋㅋ', '납입 기간': '20년'}]"
      ]
     },
     "execution_count": 42,
     "metadata": {},
     "output_type": "execute_result"
    }
   ],
   "source": [
    "tests"
   ]
  },
  {
   "cell_type": "code",
   "execution_count": null,
   "metadata": {},
   "outputs": [],
   "source": []
  }
 ],
 "metadata": {
  "kernelspec": {
   "display_name": "Python 3",
   "language": "python",
   "name": "python3"
  },
  "language_info": {
   "codemirror_mode": {
    "name": "ipython",
    "version": 3
   },
   "file_extension": ".py",
   "mimetype": "text/x-python",
   "name": "python",
   "nbconvert_exporter": "python",
   "pygments_lexer": "ipython3",
   "version": "3.7.4"
  }
 },
 "nbformat": 4,
 "nbformat_minor": 2
}
