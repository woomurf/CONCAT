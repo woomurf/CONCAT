{
 "cells": [
  {
   "cell_type": "code",
   "execution_count": 2,
   "metadata": {},
   "outputs": [],
   "source": [
    "from selenium import webdriver\n",
    "from bs4 import BeautifulSoup"
   ]
  },
  {
   "cell_type": "code",
   "execution_count": 3,
   "metadata": {},
   "outputs": [],
   "source": [
    "driver = webdriver.Chrome(\"C:\\\\Users\\\\dngus\\\\dev\\\\2019Summer\\\\CONCAT\\\\LinaCrwaling\\\\chromdriver_win32\\\\chromedriver.exe\")"
   ]
  },
  {
   "cell_type": "code",
   "execution_count": 4,
   "metadata": {},
   "outputs": [],
   "source": [
    "url = \"https://www.lina.co.kr/disclosure/insr_price.htm\"\n",
    "driver.get(url)"
   ]
  },
  {
   "cell_type": "code",
   "execution_count": 5,
   "metadata": {},
   "outputs": [],
   "source": [
    "html = driver.page_source"
   ]
  },
  {
   "cell_type": "code",
   "execution_count": 6,
   "metadata": {},
   "outputs": [],
   "source": [
    "soup = BeautifulSoup(html, 'html.parser')"
   ]
  },
  {
   "cell_type": "markdown",
   "metadata": {},
   "source": [
    "# 보험료 계산 페이지 접근하기"
   ]
  },
  {
   "cell_type": "code",
   "execution_count": 7,
   "metadata": {},
   "outputs": [],
   "source": [
    "table = soup.select(\"#content > table:nth-child(30)\")"
   ]
  },
  {
   "cell_type": "code",
   "execution_count": 8,
   "metadata": {
    "scrolled": true
   },
   "outputs": [
    {
     "data": {
      "text/plain": [
       "<table class=\"g_table_02 graph_con\"><caption>기타보험 목록</caption>\n",
       "<colgroup><col width=\"20%\"/><col width=\"55%\"/><col width=\"25%\"/></colgroup>\n",
       "<tbody>\n",
       "<tr>\n",
       "<th class=\"at_left\" rowspan=\"99\">치아/기타보험</th>\n",
       "<td class=\"bdl\">무배당라이나다이렉트치아보험Ⅱ(갱신형)</td>\n",
       "<td class=\"btn_wrap_center\"><a class=\"g_btn_07 btnSimulation\" href=\"#P00176005\" title=\"기타보험 보험료 계산하기 창이 새창으로 열립니다.\">보험료 계산하기</a></td>\n",
       "</tr>\n",
       "<tr>\n",
       "<td class=\"bdl\">무배당THE건강한치아보험V</td>\n",
       "<td class=\"btn_wrap_center\"><a class=\"g_btn_07 btnSimulation\" href=\"#P00197005\" title=\"기타보험 보험료 계산하기 창이 새창으로 열립니다.\">보험료 계산하기</a></td>\n",
       "</tr>\n",
       "<tr>\n",
       "<td class=\"bdl\">무배당THE건강한치아보험Ⅴ(갱신형)</td>\n",
       "<td class=\"btn_wrap_center\"><a class=\"g_btn_07 btnSimulation\" href=\"#P00198005\" title=\"기타보험 보험료 계산하기 창이 새창으로 열립니다.\">보험료 계산하기</a></td>\n",
       "</tr>\n",
       "<tr>\n",
       "<td class=\"bdl\">무배당 9900 ONE치아보험</td>\n",
       "<td class=\"btn_wrap_center\"><a class=\"g_btn_07 btnSimulation\" href=\"#P00200004\" title=\"기타보험 보험료 계산하기 창이 새창으로 열립니다.\">보험료 계산하기</a></td>\n",
       "</tr>\n",
       "<tr>\n",
       "<td class=\"bdl\">무배당 라이나THE치아보험_순수보장형_1형</td>\n",
       "<td class=\"btn_wrap_center\"><a class=\"g_btn_07 btnSimulation\" href=\"#P00235002\" title=\"기타보험 보험료 계산하기 창이 새창으로 열립니다.\">보험료 계산하기</a></td>\n",
       "</tr>\n",
       "<tr>\n",
       "<td class=\"bdl\">무배당 라이나THE치아보험_순수보장형_2형</td>\n",
       "<td class=\"btn_wrap_center\"><a class=\"g_btn_07 btnSimulation\" href=\"#P00236002\" title=\"기타보험 보험료 계산하기 창이 새창으로 열립니다.\">보험료 계산하기</a></td>\n",
       "</tr>\n",
       "<tr>\n",
       "<td class=\"bdl\">무배당 라이나THE치아보험_순수보장형_3형</td>\n",
       "<td class=\"btn_wrap_center\"><a class=\"g_btn_07 btnSimulation\" href=\"#P00237002\" title=\"기타보험 보험료 계산하기 창이 새창으로 열립니다.\">보험료 계산하기</a></td>\n",
       "</tr>\n",
       "<tr>\n",
       "<td class=\"bdl\">무배당 라이나THE치아보험_만기환급형_1형</td>\n",
       "<td class=\"btn_wrap_center\"><a class=\"g_btn_07 btnSimulation\" href=\"#P00238002\" title=\"기타보험 보험료 계산하기 창이 새창으로 열립니다.\">보험료 계산하기</a></td>\n",
       "</tr>\n",
       "<tr>\n",
       "<td class=\"bdl\">무배당 라이나THE치아보험_만기환급형_2형</td>\n",
       "<td class=\"btn_wrap_center\"><a class=\"g_btn_07 btnSimulation\" href=\"#P00239002\" title=\"기타보험 보험료 계산하기 창이 새창으로 열립니다.\">보험료 계산하기</a></td>\n",
       "</tr>\n",
       "<tr>\n",
       "<td class=\"bdl\">무배당 라이나THE치아보험_만기환급형_1형_보험료형</td>\n",
       "<td class=\"btn_wrap_center\"><a class=\"g_btn_07 btnSimulation\" href=\"#P00240002\" title=\"기타보험 보험료 계산하기 창이 새창으로 열립니다.\">보험료 계산하기</a></td>\n",
       "</tr>\n",
       "<tr>\n",
       "<td class=\"bdl\">무배당 라이나THE치아보험_만기환급형_2형_보험료형</td>\n",
       "<td class=\"btn_wrap_center\"><a class=\"g_btn_07 btnSimulation\" href=\"#P00241002\" title=\"기타보험 보험료 계산하기 창이 새창으로 열립니다.\">보험료 계산하기</a></td>\n",
       "</tr>\n",
       "</tbody>\n",
       "</table>"
      ]
     },
     "execution_count": 8,
     "metadata": {},
     "output_type": "execute_result"
    }
   ],
   "source": [
    "table[0]"
   ]
  },
  {
   "cell_type": "code",
   "execution_count": 9,
   "metadata": {
    "scrolled": true
   },
   "outputs": [],
   "source": [
    "premium_names = table[0].find_all(\"td\",class_= \"bdl\")[0].get_text()"
   ]
  },
  {
   "cell_type": "code",
   "execution_count": 10,
   "metadata": {},
   "outputs": [
    {
     "data": {
      "text/plain": [
       "'무배당라이나다이렉트치아보험Ⅱ(갱신형)'"
      ]
     },
     "execution_count": 10,
     "metadata": {},
     "output_type": "execute_result"
    }
   ],
   "source": [
    "premium_names"
   ]
  },
  {
   "cell_type": "code",
   "execution_count": 11,
   "metadata": {},
   "outputs": [],
   "source": [
    "links = table[0].find_all(\"a\")"
   ]
  },
  {
   "cell_type": "code",
   "execution_count": 12,
   "metadata": {},
   "outputs": [],
   "source": [
    "for i in range(0,len(links)):\n",
    "    links[i] = links[i].get('href')\n",
    "    links[i] = links[i][1:]"
   ]
  },
  {
   "cell_type": "code",
   "execution_count": 13,
   "metadata": {
    "scrolled": false
   },
   "outputs": [
    {
     "data": {
      "text/plain": [
       "['P00176005',\n",
       " 'P00197005',\n",
       " 'P00198005',\n",
       " 'P00200004',\n",
       " 'P00235002',\n",
       " 'P00236002',\n",
       " 'P00237002',\n",
       " 'P00238002',\n",
       " 'P00239002',\n",
       " 'P00240002',\n",
       " 'P00241002']"
      ]
     },
     "execution_count": 13,
     "metadata": {},
     "output_type": "execute_result"
    }
   ],
   "source": [
    "links"
   ]
  },
  {
   "cell_type": "markdown",
   "metadata": {},
   "source": [
    "# 보험료 계산하기"
   ]
  },
  {
   "cell_type": "code",
   "execution_count": 14,
   "metadata": {},
   "outputs": [],
   "source": [
    "baseUrl = \"https://www.lina.co.kr/product/simulation.htm?paramProductCode=\""
   ]
  },
  {
   "cell_type": "code",
   "execution_count": 15,
   "metadata": {},
   "outputs": [],
   "source": [
    "productUrl = baseUrl + links[0]"
   ]
  },
  {
   "cell_type": "code",
   "execution_count": 16,
   "metadata": {},
   "outputs": [],
   "source": [
    "driver.get(productUrl)"
   ]
  },
  {
   "cell_type": "code",
   "execution_count": 17,
   "metadata": {},
   "outputs": [],
   "source": [
    "# 이름 넣기\n",
    "driver.find_element_by_name('name').send_keys('홍길동')"
   ]
  },
  {
   "cell_type": "code",
   "execution_count": 18,
   "metadata": {},
   "outputs": [],
   "source": [
    "age_year = 1970\n",
    "age_m_d = '0625'\n",
    "age = str(age_year) + age_m_d"
   ]
  },
  {
   "cell_type": "code",
   "execution_count": 19,
   "metadata": {},
   "outputs": [
    {
     "data": {
      "text/plain": [
       "'19700625'"
      ]
     },
     "execution_count": 19,
     "metadata": {},
     "output_type": "execute_result"
    }
   ],
   "source": [
    "age"
   ]
  },
  {
   "cell_type": "code",
   "execution_count": 20,
   "metadata": {
    "scrolled": true
   },
   "outputs": [],
   "source": [
    "for i in range(0,30):\n",
    "    age_year = 1970 + i\n",
    "    age_m_d = '0625'\n",
    "    age = str(age_year) + age_m_d"
   ]
  },
  {
   "cell_type": "code",
   "execution_count": 21,
   "metadata": {},
   "outputs": [],
   "source": [
    "driver.find_element_by_name('iresid_no1').send_keys(age)"
   ]
  },
  {
   "cell_type": "code",
   "execution_count": 22,
   "metadata": {},
   "outputs": [],
   "source": [
    "driver.find_element_by_id('leftinlabel1_woman').click()\n",
    "#leftinlabel1_woman 여자\n",
    "#leftinlabel1_man 남자"
   ]
  },
  {
   "cell_type": "code",
   "execution_count": 23,
   "metadata": {},
   "outputs": [],
   "source": [
    "# 보험 기간 선택하기\n",
    "policy_period = driver.find_element_by_id('policy_period')"
   ]
  },
  {
   "cell_type": "code",
   "execution_count": 24,
   "metadata": {},
   "outputs": [],
   "source": [
    "policy_options = policy_period.find_elements_by_tag_name('option')"
   ]
  },
  {
   "cell_type": "code",
   "execution_count": 25,
   "metadata": {},
   "outputs": [
    {
     "data": {
      "text/plain": [
       "2"
      ]
     },
     "execution_count": 25,
     "metadata": {},
     "output_type": "execute_result"
    }
   ],
   "source": [
    "len(policy_options)"
   ]
  },
  {
   "cell_type": "code",
   "execution_count": 26,
   "metadata": {},
   "outputs": [
    {
     "name": "stdout",
     "output_type": "stream",
     "text": [
      "10 년만기\n"
     ]
    }
   ],
   "source": [
    "for option in policy_options:\n",
    "    if option.text == '선택':\n",
    "        continue\n",
    "    print(option.text)\n",
    "    option.click()"
   ]
  },
  {
   "cell_type": "code",
   "execution_count": 27,
   "metadata": {},
   "outputs": [],
   "source": [
    "# 납입 기간 선택하기\n",
    "pay_period = driver.find_element_by_id('pay_period')\n",
    "pay_options = pay_period.find_elements_by_tag_name('option')"
   ]
  },
  {
   "cell_type": "code",
   "execution_count": 28,
   "metadata": {},
   "outputs": [
    {
     "name": "stdout",
     "output_type": "stream",
     "text": [
      "10 년납\n"
     ]
    }
   ],
   "source": [
    "for option in pay_options:\n",
    "    if option.text == '선택':\n",
    "        continue\n",
    "    \n",
    "    print(option.text)\n",
    "    option.click()"
   ]
  },
  {
   "cell_type": "code",
   "execution_count": 29,
   "metadata": {},
   "outputs": [],
   "source": [
    "# 납입 주기 선택하기\n",
    "premium_mode = driver.find_element_by_name('premium_mode')\n",
    "pm_options = premium_mode.find_elements_by_tag_name('option')"
   ]
  },
  {
   "cell_type": "code",
   "execution_count": 30,
   "metadata": {},
   "outputs": [
    {
     "name": "stdout",
     "output_type": "stream",
     "text": [
      "월납\n"
     ]
    }
   ],
   "source": [
    "for option in pm_options:\n",
    "    if option.text == '선택':\n",
    "        continue\n",
    "    \n",
    "    print(option.text)\n",
    "    option.click()"
   ]
  },
  {
   "cell_type": "code",
   "execution_count": 31,
   "metadata": {},
   "outputs": [],
   "source": [
    "# 주 보험 가입 금액 선택\n",
    "product_amount = driver.find_element_by_name('product_amount')\n",
    "pa_options = product_amount.find_elements_by_tag_name('option')"
   ]
  },
  {
   "cell_type": "code",
   "execution_count": 32,
   "metadata": {},
   "outputs": [
    {
     "name": "stdout",
     "output_type": "stream",
     "text": [
      "45000000\n"
     ]
    }
   ],
   "source": [
    "for option in pa_options:\n",
    "    if option.text == '선택':\n",
    "        continue\n",
    "    print(option.get_attribute(\"value\"))\n",
    "    option.click()"
   ]
  },
  {
   "cell_type": "code",
   "execution_count": 33,
   "metadata": {},
   "outputs": [],
   "source": [
    "# 특약\n",
    "rider_table = driver.find_element_by_id('riderInfo_div')\n",
    "rider_list = rider_table.find_elements_by_tag_name('tbody')[0].find_elements_by_tag_name('tr')"
   ]
  },
  {
   "cell_type": "code",
   "execution_count": 34,
   "metadata": {},
   "outputs": [
    {
     "data": {
      "text/plain": [
       "[<selenium.webdriver.remote.webelement.WebElement (session=\"f3cd83a0c95ae4e147cef50847895669\", element=\"fe7ad047-3cff-49f7-b035-9923bf8c19d5\")>]"
      ]
     },
     "execution_count": 34,
     "metadata": {},
     "output_type": "execute_result"
    }
   ],
   "source": [
    "rider_list"
   ]
  },
  {
   "cell_type": "code",
   "execution_count": 35,
   "metadata": {},
   "outputs": [],
   "source": [
    "rider = rider_list[0]\n",
    "rider_amount = rider.find_element_by_name('rider_amount') \n",
    "rider_options = rider_amount.find_elements_by_tag_name('option')\n",
    "rider_name = rider.find_element_by_id('rider_name').get_attribute(\"value\")"
   ]
  },
  {
   "cell_type": "code",
   "execution_count": 36,
   "metadata": {},
   "outputs": [
    {
     "data": {
      "text/plain": [
       "'무배당다이렉트보철특약'"
      ]
     },
     "execution_count": 36,
     "metadata": {},
     "output_type": "execute_result"
    }
   ],
   "source": [
    "rider_name"
   ]
  },
  {
   "cell_type": "code",
   "execution_count": 37,
   "metadata": {},
   "outputs": [
    {
     "name": "stdout",
     "output_type": "stream",
     "text": [
      "50000000\n",
      "100000000\n"
     ]
    }
   ],
   "source": [
    "for rider in rider_list:\n",
    "    rider_amount = rider.find_element_by_name('rider_amount')\n",
    "    rider_options = rider_amount.find_elements_by_tag_name('option')\n",
    "    \n",
    "    for option in rider_options:\n",
    "        if option.text == '선택':\n",
    "            continue\n",
    "        print(option.get_attribute(\"value\"))\n",
    "        option.click()"
   ]
  },
  {
   "cell_type": "code",
   "execution_count": 38,
   "metadata": {},
   "outputs": [],
   "source": [
    "# 보험료 조회\n",
    "\n",
    "btn_produck_premium = driver.find_element_by_class_name(\"g_btn_09.btnProductPremium\").click()"
   ]
  },
  {
   "cell_type": "code",
   "execution_count": 39,
   "metadata": {},
   "outputs": [],
   "source": [
    "result = driver.find_element_by_id(\"prm_result\").get_attribute(\"value\")"
   ]
  },
  {
   "cell_type": "code",
   "execution_count": 40,
   "metadata": {},
   "outputs": [
    {
     "data": {
      "text/plain": [
       "'B00176005:17072,R00153004:5432'"
      ]
     },
     "execution_count": 40,
     "metadata": {},
     "output_type": "execute_result"
    }
   ],
   "source": [
    "result"
   ]
  },
  {
   "cell_type": "code",
   "execution_count": 41,
   "metadata": {},
   "outputs": [],
   "source": [
    "import re"
   ]
  },
  {
   "cell_type": "code",
   "execution_count": 42,
   "metadata": {},
   "outputs": [],
   "source": [
    "regex = re.compile('[A-Z]+[0-9]+:[0-9]+,[A-Z]+[0-9]+:[0-9]+')"
   ]
  },
  {
   "cell_type": "code",
   "execution_count": 43,
   "metadata": {},
   "outputs": [],
   "source": [
    "test = regex.search(result)"
   ]
  },
  {
   "cell_type": "code",
   "execution_count": 44,
   "metadata": {},
   "outputs": [
    {
     "data": {
      "text/plain": [
       "<re.Match object; span=(0, 30), match='B00176005:17072,R00153004:5432'>"
      ]
     },
     "execution_count": 44,
     "metadata": {},
     "output_type": "execute_result"
    }
   ],
   "source": [
    "test"
   ]
  },
  {
   "cell_type": "code",
   "execution_count": 45,
   "metadata": {},
   "outputs": [],
   "source": [
    "result2 = result"
   ]
  },
  {
   "cell_type": "code",
   "execution_count": 46,
   "metadata": {},
   "outputs": [],
   "source": [
    "# 가격 뽑아내기\n",
    "result = re.sub(r'[A-Z]+[0-9]+:','',result)"
   ]
  },
  {
   "cell_type": "code",
   "execution_count": 47,
   "metadata": {},
   "outputs": [
    {
     "data": {
      "text/plain": [
       "'17072,5432'"
      ]
     },
     "execution_count": 47,
     "metadata": {},
     "output_type": "execute_result"
    }
   ],
   "source": [
    "result"
   ]
  },
  {
   "cell_type": "code",
   "execution_count": 48,
   "metadata": {},
   "outputs": [],
   "source": [
    "regex3 = re.compile(r'[0-9]+')"
   ]
  },
  {
   "cell_type": "code",
   "execution_count": 58,
   "metadata": {},
   "outputs": [],
   "source": [
    "c = regex3.search(result)"
   ]
  },
  {
   "cell_type": "code",
   "execution_count": 59,
   "metadata": {},
   "outputs": [
    {
     "data": {
      "text/plain": [
       "'17072'"
      ]
     },
     "execution_count": 59,
     "metadata": {},
     "output_type": "execute_result"
    }
   ],
   "source": [
    "c.group()"
   ]
  },
  {
   "cell_type": "code",
   "execution_count": 60,
   "metadata": {},
   "outputs": [],
   "source": [
    "prm = regex3.findall(result)"
   ]
  },
  {
   "cell_type": "code",
   "execution_count": 62,
   "metadata": {},
   "outputs": [
    {
     "data": {
      "text/plain": [
       "['17072', '5432']"
      ]
     },
     "execution_count": 62,
     "metadata": {},
     "output_type": "execute_result"
    }
   ],
   "source": [
    "prm"
   ]
  },
  {
   "cell_type": "code",
   "execution_count": 54,
   "metadata": {},
   "outputs": [],
   "source": [
    "prm = int(prm[0]) + int(prm[1])"
   ]
  },
  {
   "cell_type": "code",
   "execution_count": 55,
   "metadata": {},
   "outputs": [
    {
     "data": {
      "text/plain": [
       "22504"
      ]
     },
     "execution_count": 55,
     "metadata": {},
     "output_type": "execute_result"
    }
   ],
   "source": [
    "prm"
   ]
  },
  {
   "cell_type": "markdown",
   "metadata": {},
   "source": [
    "# DataFrame 구성하기"
   ]
  },
  {
   "cell_type": "code",
   "execution_count": null,
   "metadata": {},
   "outputs": [],
   "source": [
    "import pandas as pd\n",
    "import numpy as np"
   ]
  },
  {
   "cell_type": "code",
   "execution_count": null,
   "metadata": {},
   "outputs": [],
   "source": [
    "premium_data = pd.DataFrame(columns=['성별', '생년월일', '보험 기간', '납입 기간', '납입 주기' , '주 보험 금액' , '특약 금액'])"
   ]
  },
  {
   "cell_type": "code",
   "execution_count": null,
   "metadata": {},
   "outputs": [],
   "source": [
    "premium_data.head()"
   ]
  },
  {
   "cell_type": "code",
   "execution_count": null,
   "metadata": {},
   "outputs": [],
   "source": [
    "premium_data.loc[0] = [\"남자\", age, \"보험\",\"납입\",\"주기\",\"주보험\",\"특약\"]"
   ]
  },
  {
   "cell_type": "code",
   "execution_count": null,
   "metadata": {},
   "outputs": [],
   "source": [
    "premium_data.head()"
   ]
  },
  {
   "cell_type": "code",
   "execution_count": null,
   "metadata": {},
   "outputs": [],
   "source": []
  }
 ],
 "metadata": {
  "kernelspec": {
   "display_name": "Python 3",
   "language": "python",
   "name": "python3"
  },
  "language_info": {
   "codemirror_mode": {
    "name": "ipython",
    "version": 3
   },
   "file_extension": ".py",
   "mimetype": "text/x-python",
   "name": "python",
   "nbconvert_exporter": "python",
   "pygments_lexer": "ipython3",
   "version": "3.7.2"
  }
 },
 "nbformat": 4,
 "nbformat_minor": 2
}
